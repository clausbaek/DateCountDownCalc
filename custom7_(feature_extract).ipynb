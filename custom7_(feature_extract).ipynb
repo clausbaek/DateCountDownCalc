{
  "cells": [
    {
      "cell_type": "markdown",
      "metadata": {
        "id": "view-in-github",
        "colab_type": "text"
      },
      "source": [
        "<a href=\"https://colab.research.google.com/github/clausbaek/DateCountDownCalc/blob/main/custom7_(feature_extract).ipynb\" target=\"_parent\"><img src=\"https://colab.research.google.com/assets/colab-badge.svg\" alt=\"Open In Colab\"/></a>"
      ]
    },
    {
      "cell_type": "markdown",
      "id": "760a7d3e",
      "metadata": {
        "id": "760a7d3e",
        "papermill": {
          "duration": 0.019222,
          "end_time": "2022-09-14T19:04:15.975893",
          "exception": false,
          "start_time": "2022-09-14T19:04:15.956671",
          "status": "completed"
        },
        "tags": []
      },
      "source": [
        "# Introduction\n",
        "\n",
        "> Image captioning is the task of generating textual descriptions of a given image, requiring  techniques of computer vision and natural language processing.\n",
        "\n",
        "It is a popular research area of Artificial Intelligence that deals with image understanding and a language description for that image. Generating well-formed sentences requires both syntactic and semantic understanding of the language. Being able to describe the content of an image using accurately formed sentences is a very challenging task, but it could also have a great impact, by helping visually impaired people better understand the content of images.  [source](https://www.analyticsvidhya.com/blog/2020/11/create-your-own-image-caption-generator-using-keras/) \n",
        "\n",
        "Here, I have used [COCO Dataset 2017](https://cocodataset.org/#download) which contains **12 different types of categories** and among them it has **80 types of sub-categories**. Each sub categories contain list of images and five captions to each image."
      ]
    },
    {
      "cell_type": "code",
      "source": [
        "# (코드는 Xception + LSTM + Token(코코데이터셋 전체로 만든 토큰사용))\n",
        "\n",
        "# 코드는 CTRL+F 로  멈춰 까지 돌리면됩니다."
      ],
      "metadata": {
        "id": "EcJ_1HFm4e3_"
      },
      "id": "EcJ_1HFm4e3_",
      "execution_count": 1,
      "outputs": []
    },
    {
      "cell_type": "code",
      "execution_count": 19,
      "id": "bjlTjf4SKGsi",
      "metadata": {
        "colab": {
          "base_uri": "https://localhost:8080/"
        },
        "id": "bjlTjf4SKGsi",
        "outputId": "5c038412-70d2-4c3d-d151-7566abeb041c"
      },
      "outputs": [
        {
          "output_type": "stream",
          "name": "stdout",
          "text": [
            "Mounted at /content/drive\n"
          ]
        }
      ],
      "source": [
        "from google.colab import drive\n",
        "drive.mount('/content/drive', force_remount=True)\n"
      ]
    },
    {
      "cell_type": "code",
      "source": [
        "\n",
        "# !wget http://images.cocodataset.org/zips/train2017.zip -O coco_train2017.zip\n"
      ],
      "metadata": {
        "id": "llSXiog58UE-"
      },
      "id": "llSXiog58UE-",
      "execution_count": 20,
      "outputs": []
    },
    {
      "cell_type": "code",
      "source": [
        "\n",
        "from zipfile import ZipFile, BadZipFile\n",
        "import os\n",
        "def extract_zip_file(extract_path):\n",
        "    try:\n",
        "        with ZipFile(extract_path+\".zip\") as zfile:\n",
        "            zfile.extractall(extract_path)\n",
        "        # remove zipfile\n",
        "        zfileTOremove=f\"{extract_path}\"+\".zip\"\n",
        "        if os.path.isfile(zfileTOremove):\n",
        "            os.remove(zfileTOremove)\n",
        "        else:\n",
        "            print(\"Error: %s file not found\" % zfileTOremove)    \n",
        "    except BadZipFile as e:\n",
        "        print(\"Error:\", e)\n",
        "# extract_train_path = \"./coco_train2017\"\n",
        "# # extract_val_path = \"./coco_val2017\"\n",
        "# # extract_ann_path=\"./coco_ann2017\"\n",
        "# extract_zip_file(extract_train_path)\n",
        "# extract_zip_file(extract_val_path)\n",
        "# extract_zip_file(extract_ann_path)"
      ],
      "metadata": {
        "id": "lqNwLSuQ9dZ5"
      },
      "id": "lqNwLSuQ9dZ5",
      "execution_count": 22,
      "outputs": []
    },
    {
      "cell_type": "code",
      "source": [
        "\n",
        "import os\n",
        "# total_path = \"/content/coco_train2017/train2017\" # all cocodataset\n",
        "# total_train = os.listdir(total_path)\n",
        "\n"
      ],
      "metadata": {
        "id": "ncn3YxMC_SpI",
        "outputId": "fa9ee55b-98b5-4a92-fdf0-9f8791f7d852",
        "colab": {
          "base_uri": "https://localhost:8080/",
          "height": 229
        }
      },
      "id": "ncn3YxMC_SpI",
      "execution_count": 23,
      "outputs": [
        {
          "output_type": "error",
          "ename": "FileNotFoundError",
          "evalue": "ignored",
          "traceback": [
            "\u001b[0;31m---------------------------------------------------------------------------\u001b[0m",
            "\u001b[0;31mFileNotFoundError\u001b[0m                         Traceback (most recent call last)",
            "\u001b[0;32m<ipython-input-23-01224806169c>\u001b[0m in \u001b[0;36m<cell line: 3>\u001b[0;34m()\u001b[0m\n\u001b[1;32m      1\u001b[0m \u001b[0;32mimport\u001b[0m \u001b[0mos\u001b[0m\u001b[0;34m\u001b[0m\u001b[0;34m\u001b[0m\u001b[0m\n\u001b[1;32m      2\u001b[0m \u001b[0mtotal_path\u001b[0m \u001b[0;34m=\u001b[0m \u001b[0;34m\"/content/coco_train2017/train2017\"\u001b[0m \u001b[0;31m# all cocodataset\u001b[0m\u001b[0;34m\u001b[0m\u001b[0;34m\u001b[0m\u001b[0m\n\u001b[0;32m----> 3\u001b[0;31m \u001b[0mtotal_train\u001b[0m \u001b[0;34m=\u001b[0m \u001b[0mos\u001b[0m\u001b[0;34m.\u001b[0m\u001b[0mlistdir\u001b[0m\u001b[0;34m(\u001b[0m\u001b[0mtotal_path\u001b[0m\u001b[0;34m)\u001b[0m\u001b[0;34m\u001b[0m\u001b[0;34m\u001b[0m\u001b[0m\n\u001b[0m\u001b[1;32m      4\u001b[0m \u001b[0;34m\u001b[0m\u001b[0m\n",
            "\u001b[0;31mFileNotFoundError\u001b[0m: [Errno 2] No such file or directory: '/content/coco_train2017/train2017'"
          ]
        }
      ]
    },
    {
      "cell_type": "code",
      "source": [
        "print(len(total_train))\n",
        "\n",
        "print(total_train[-1])"
      ],
      "metadata": {
        "colab": {
          "base_uri": "https://localhost:8080/",
          "height": 211
        },
        "id": "apwNG8K3_n-C",
        "outputId": "f23bfb4f-77c2-43f7-eb42-b16a38bc20f1"
      },
      "id": "apwNG8K3_n-C",
      "execution_count": 24,
      "outputs": [
        {
          "output_type": "error",
          "ename": "NameError",
          "evalue": "ignored",
          "traceback": [
            "\u001b[0;31m---------------------------------------------------------------------------\u001b[0m",
            "\u001b[0;31mNameError\u001b[0m                                 Traceback (most recent call last)",
            "\u001b[0;32m<ipython-input-24-bfef871c4f89>\u001b[0m in \u001b[0;36m<cell line: 1>\u001b[0;34m()\u001b[0m\n\u001b[0;32m----> 1\u001b[0;31m \u001b[0mprint\u001b[0m\u001b[0;34m(\u001b[0m\u001b[0mlen\u001b[0m\u001b[0;34m(\u001b[0m\u001b[0mtotal_train\u001b[0m\u001b[0;34m)\u001b[0m\u001b[0;34m)\u001b[0m\u001b[0;34m\u001b[0m\u001b[0;34m\u001b[0m\u001b[0m\n\u001b[0m\u001b[1;32m      2\u001b[0m \u001b[0;34m\u001b[0m\u001b[0m\n\u001b[1;32m      3\u001b[0m \u001b[0mprint\u001b[0m\u001b[0;34m(\u001b[0m\u001b[0mtotal_train\u001b[0m\u001b[0;34m[\u001b[0m\u001b[0;34m-\u001b[0m\u001b[0;36m1\u001b[0m\u001b[0;34m]\u001b[0m\u001b[0;34m)\u001b[0m\u001b[0;34m\u001b[0m\u001b[0;34m\u001b[0m\u001b[0m\n",
            "\u001b[0;31mNameError\u001b[0m: name 'total_train' is not defined"
          ]
        }
      ]
    },
    {
      "cell_type": "code",
      "source": [
        "import pickle \n",
        "\n",
        "with open(\"my_part.pkl\", \"rb\") as f:\n",
        "    load_part = pickle.load(f)\n",
        "\n",
        "my_part_1, my_part_2, my_part_3 = load_part[\"C\"]# 3개 리스트\n"
      ],
      "metadata": {
        "id": "6jESIaqlEPG3"
      },
      "id": "6jESIaqlEPG3",
      "execution_count": null,
      "outputs": []
    },
    {
      "cell_type": "code",
      "source": [
        "print(my_part_1)\n",
        "\n",
        "# for jpg_path in my_part_1:\n",
        "#   if jpg_path in sample_train:\n"
      ],
      "metadata": {
        "colab": {
          "base_uri": "https://localhost:8080/",
          "height": 229
        },
        "id": "W3LjmNdgEWbw",
        "outputId": "4fac8eb3-fa7b-4a49-d21f-e445965ae3f3"
      },
      "id": "W3LjmNdgEWbw",
      "execution_count": 4,
      "outputs": [
        {
          "output_type": "error",
          "ename": "NameError",
          "evalue": "ignored",
          "traceback": [
            "\u001b[0;31m---------------------------------------------------------------------------\u001b[0m",
            "\u001b[0;31mNameError\u001b[0m                                 Traceback (most recent call last)",
            "\u001b[0;32m<ipython-input-4-3d5eb4d78fa3>\u001b[0m in \u001b[0;36m<cell line: 1>\u001b[0;34m()\u001b[0m\n\u001b[0;32m----> 1\u001b[0;31m \u001b[0mprint\u001b[0m\u001b[0;34m(\u001b[0m\u001b[0mmy_part_1\u001b[0m\u001b[0;34m)\u001b[0m\u001b[0;34m\u001b[0m\u001b[0;34m\u001b[0m\u001b[0m\n\u001b[0m\u001b[1;32m      2\u001b[0m \u001b[0;34m\u001b[0m\u001b[0m\n\u001b[1;32m      3\u001b[0m \u001b[0;31m# for jpg_path in my_part_1:\u001b[0m\u001b[0;34m\u001b[0m\u001b[0;34m\u001b[0m\u001b[0m\n\u001b[1;32m      4\u001b[0m \u001b[0;31m#   if jpg_path in sample_train:\u001b[0m\u001b[0;34m\u001b[0m\u001b[0;34m\u001b[0m\u001b[0m\n",
            "\u001b[0;31mNameError\u001b[0m: name 'my_part_1' is not defined"
          ]
        }
      ]
    },
    {
      "cell_type": "markdown",
      "source": [
        "### 드라이브 마운트 & os확인"
      ],
      "metadata": {
        "id": "8CTg_UObQHQA"
      },
      "id": "8CTg_UObQHQA"
    },
    {
      "cell_type": "code",
      "source": [
        "# # # 뒤에 숫자만 수정 (01~12)\n",
        "\n",
        "# # # /content/drive/MyDrive/cocodataset/destination_folder/train_folder01\n",
        "# sample_path = \"/content/drive/MyDrive/destination_folder/train_folder01\" # 10,000 cocodataset\n",
        "\n",
        "# my_part = sample_path[-14:]\n",
        "\n",
        "\n",
        "\n",
        "\n"
      ],
      "metadata": {
        "id": "uoDwUDADP_Vn"
      },
      "id": "uoDwUDADP_Vn",
      "execution_count": 5,
      "outputs": []
    },
    {
      "cell_type": "code",
      "source": [
        "\n",
        "\n",
        "# 전체 파일 확인용\n",
        "\n",
        "# sample_paths =[]\n",
        "# for i in range(12):\n",
        "#   # /content/drive/MyDrive/cocodataset/destination_folder/train_folder01\n",
        "#   sample_path = \"/content/drive/MyDrive/destination_folder/train_folder\" # 10,000 cocodataset\n",
        "\n",
        "#   # my_part = sample_path[-14:]\n",
        "#   sample_paths.append(\"{}{:02d}\".format(sample_path, i+1))\n",
        "\n",
        "\n",
        "\n",
        "# for i, sample_path in enumerate(sample_paths):\n",
        "#   path_len = len(os.listdir(sample_path))\n",
        "#   print(path_len)\n",
        "#   if path_len <8000:\n",
        "#     print(i+1, path_len)\n",
        "#     break"
      ],
      "metadata": {
        "id": "xyETaX7WyF4O"
      },
      "id": "xyETaX7WyF4O",
      "execution_count": 6,
      "outputs": []
    },
    {
      "cell_type": "code",
      "source": [],
      "metadata": {
        "id": "yY1JWbTi41Da"
      },
      "id": "yY1JWbTi41Da",
      "execution_count": 6,
      "outputs": []
    },
    {
      "cell_type": "code",
      "source": [
        "# import os\n",
        "\n",
        "# sample_train = os.listdir(sample_path)"
      ],
      "metadata": {
        "id": "5iXKfvABQIzS"
      },
      "id": "5iXKfvABQIzS",
      "execution_count": 7,
      "outputs": []
    },
    {
      "cell_type": "code",
      "source": [
        "sample_train = my_part_1"
      ],
      "metadata": {
        "id": "_iNWUzZYx5A4",
        "outputId": "016c8cc1-0df3-47b6-b6f4-8e84349eed52",
        "colab": {
          "base_uri": "https://localhost:8080/",
          "height": 174
        }
      },
      "id": "_iNWUzZYx5A4",
      "execution_count": 8,
      "outputs": [
        {
          "output_type": "error",
          "ename": "NameError",
          "evalue": "ignored",
          "traceback": [
            "\u001b[0;31m---------------------------------------------------------------------------\u001b[0m",
            "\u001b[0;31mNameError\u001b[0m                                 Traceback (most recent call last)",
            "\u001b[0;32m<ipython-input-8-35b39cde794d>\u001b[0m in \u001b[0;36m<cell line: 1>\u001b[0;34m()\u001b[0m\n\u001b[0;32m----> 1\u001b[0;31m \u001b[0msample_train\u001b[0m \u001b[0;34m=\u001b[0m \u001b[0mmy_part_1\u001b[0m\u001b[0;34m\u001b[0m\u001b[0;34m\u001b[0m\u001b[0m\n\u001b[0m",
            "\u001b[0;31mNameError\u001b[0m: name 'my_part_1' is not defined"
          ]
        }
      ]
    },
    {
      "cell_type": "code",
      "source": [
        "\n",
        "print(len(sample_train), sample_train[:3])"
      ],
      "metadata": {
        "id": "gf_Ed52rP_1u",
        "colab": {
          "base_uri": "https://localhost:8080/",
          "height": 174
        },
        "outputId": "e314a29e-f31d-4a5d-db9d-2e18494da08e"
      },
      "id": "gf_Ed52rP_1u",
      "execution_count": 9,
      "outputs": [
        {
          "output_type": "error",
          "ename": "NameError",
          "evalue": "ignored",
          "traceback": [
            "\u001b[0;31m---------------------------------------------------------------------------\u001b[0m",
            "\u001b[0;31mNameError\u001b[0m                                 Traceback (most recent call last)",
            "\u001b[0;32m<ipython-input-9-91fcb9c6bfb6>\u001b[0m in \u001b[0;36m<cell line: 1>\u001b[0;34m()\u001b[0m\n\u001b[0;32m----> 1\u001b[0;31m \u001b[0mprint\u001b[0m\u001b[0;34m(\u001b[0m\u001b[0mlen\u001b[0m\u001b[0;34m(\u001b[0m\u001b[0msample_train\u001b[0m\u001b[0;34m)\u001b[0m\u001b[0;34m,\u001b[0m \u001b[0msample_train\u001b[0m\u001b[0;34m[\u001b[0m\u001b[0;34m:\u001b[0m\u001b[0;36m3\u001b[0m\u001b[0;34m]\u001b[0m\u001b[0;34m)\u001b[0m\u001b[0;34m\u001b[0m\u001b[0;34m\u001b[0m\u001b[0m\n\u001b[0m",
            "\u001b[0;31mNameError\u001b[0m: name 'sample_train' is not defined"
          ]
        }
      ]
    },
    {
      "cell_type": "code",
      "execution_count": 25,
      "id": "76f2f5dd",
      "metadata": {
        "_cell_guid": "b1076dfc-b9ad-4769-8c92-a6c4dae69d19",
        "_uuid": "8f2839f25d086af736a60e9eeb907d3b93b6e0e5",
        "colab": {
          "base_uri": "https://localhost:8080/"
        },
        "execution": {
          "iopub.execute_input": "2022-09-14T19:04:16.009347Z",
          "iopub.status.busy": "2022-09-14T19:04:16.008817Z",
          "iopub.status.idle": "2022-09-14T19:04:59.331885Z",
          "shell.execute_reply": "2022-09-14T19:04:59.330696Z"
        },
        "id": "76f2f5dd",
        "outputId": "58008242-c956-4250-99a0-f70fdc27ef34",
        "papermill": {
          "duration": 43.343284,
          "end_time": "2022-09-14T19:04:59.334552",
          "exception": false,
          "start_time": "2022-09-14T19:04:15.991268",
          "status": "completed"
        },
        "tags": []
      },
      "outputs": [
        {
          "output_type": "stream",
          "name": "stdout",
          "text": [
            "Looking in indexes: https://pypi.org/simple, https://us-python.pkg.dev/colab-wheels/public/simple/\n",
            "Requirement already satisfied: pycocotools in /usr/local/lib/python3.9/dist-packages (2.0.6)\n",
            "Requirement already satisfied: numpy in /usr/local/lib/python3.9/dist-packages (from pycocotools) (1.22.4)\n",
            "Requirement already satisfied: matplotlib>=2.1.0 in /usr/local/lib/python3.9/dist-packages (from pycocotools) (3.7.1)\n",
            "Requirement already satisfied: pillow>=6.2.0 in /usr/local/lib/python3.9/dist-packages (from matplotlib>=2.1.0->pycocotools) (8.4.0)\n",
            "Requirement already satisfied: python-dateutil>=2.7 in /usr/local/lib/python3.9/dist-packages (from matplotlib>=2.1.0->pycocotools) (2.8.2)\n",
            "Requirement already satisfied: pyparsing>=2.3.1 in /usr/local/lib/python3.9/dist-packages (from matplotlib>=2.1.0->pycocotools) (3.0.9)\n",
            "Requirement already satisfied: cycler>=0.10 in /usr/local/lib/python3.9/dist-packages (from matplotlib>=2.1.0->pycocotools) (0.11.0)\n",
            "Requirement already satisfied: fonttools>=4.22.0 in /usr/local/lib/python3.9/dist-packages (from matplotlib>=2.1.0->pycocotools) (4.39.3)\n",
            "Requirement already satisfied: kiwisolver>=1.0.1 in /usr/local/lib/python3.9/dist-packages (from matplotlib>=2.1.0->pycocotools) (1.4.4)\n",
            "Requirement already satisfied: contourpy>=1.0.1 in /usr/local/lib/python3.9/dist-packages (from matplotlib>=2.1.0->pycocotools) (1.0.7)\n",
            "Requirement already satisfied: importlib-resources>=3.2.0 in /usr/local/lib/python3.9/dist-packages (from matplotlib>=2.1.0->pycocotools) (5.12.0)\n",
            "Requirement already satisfied: packaging>=20.0 in /usr/local/lib/python3.9/dist-packages (from matplotlib>=2.1.0->pycocotools) (23.0)\n",
            "Requirement already satisfied: zipp>=3.1.0 in /usr/local/lib/python3.9/dist-packages (from importlib-resources>=3.2.0->matplotlib>=2.1.0->pycocotools) (3.15.0)\n",
            "Requirement already satisfied: six>=1.5 in /usr/local/lib/python3.9/dist-packages (from python-dateutil>=2.7->matplotlib>=2.1.0->pycocotools) (1.16.0)\n"
          ]
        },
        {
          "output_type": "stream",
          "name": "stderr",
          "text": [
            "[nltk_data] Downloading package stopwords to /root/nltk_data...\n",
            "[nltk_data]   Unzipping corpora/stopwords.zip.\n"
          ]
        }
      ],
      "source": [
        " !pip install pycocotools\n",
        "\n",
        "from pycocotools.coco import COCO # COCO python library\n",
        "import numpy as np\n",
        "import skimage.io as io\n",
        "import matplotlib.pyplot as plt\n",
        "import pylab\n",
        "\n",
        "import random\n",
        "import string\n",
        "\n",
        "import cv2\n",
        "import os\n",
        "from pickle import dump, load\n",
        "import json\n",
        "\n",
        "import nltk\n",
        "nltk.download(\"stopwords\")\n",
        "from nltk.corpus import stopwords\n",
        "\n",
        "import tensorflow as tf\n",
        "from tensorflow.keras.preprocessing.sequence import pad_sequences\n",
        "from tensorflow.keras.layers import Embedding, LSTM, Dense, Bidirectional, Input, Dropout, Attention\n",
        "from tensorflow.keras.preprocessing.text import Tokenizer\n",
        "from tensorflow.keras.models import Sequential\n",
        "from tensorflow.keras.optimizers import Adam\n",
        "from tensorflow.keras.applications.xception import Xception, preprocess_input\n",
        "from tensorflow.keras.preprocessing.image import load_img, img_to_array\n",
        "from tensorflow.keras.utils import to_categorical\n",
        "\n",
        "from keras.layers import add\n",
        "\n",
        "from tensorflow.keras.models import Model, load_model\n",
        "\n",
        "# small library for seeing the progress of loops.\n",
        "from tqdm.notebook import tqdm\n",
        "\n",
        "pylab.rcParams['figure.figsize'] = (8.0, 10.0)"
      ]
    },
    {
      "cell_type": "code",
      "source": [
        "\n",
        "# /content/drive/MyDrive/cocodataset/destination_folder/train_folder01\n",
        "# /content/drive/MyDrive/coco_ann2017/annotations\n"
      ],
      "metadata": {
        "id": "rwJyW-yKeXNZ"
      },
      "id": "rwJyW-yKeXNZ",
      "execution_count": 26,
      "outputs": []
    },
    {
      "cell_type": "markdown",
      "id": "c69b215d",
      "metadata": {
        "id": "c69b215d",
        "papermill": {
          "duration": 0.016847,
          "end_time": "2022-09-14T19:04:59.368792",
          "exception": false,
          "start_time": "2022-09-14T19:04:59.351945",
          "status": "completed"
        },
        "tags": []
      },
      "source": [
        "# Exploring COCO Dataset\n",
        "\n",
        "#### Initialize COCO class and operate instances_train2017.json"
      ]
    },
    {
      "cell_type": "code",
      "source": [
        "import pandas as pd\n",
        "i = 0\n",
        "with open(f'/content/drive/MyDrive/coco_dataset/coco_ann2017/annotations/captions_train2017.json', 'r') as f: # 마운트 확인\n",
        "    data = json.load(f)\n",
        "    data = data['annotations']\n",
        "\n",
        "img_cap_pairs = []\n",
        "\n",
        "for sample in data:\n",
        "    img_name = '%012d.jpg' % sample['image_id']\n",
        "    img_cap_pairs.append([img_name, sample['caption'],sample['image_id']])\n",
        "\n",
        "captions = pd.DataFrame(img_cap_pairs, columns=['image', 'caption','image_id'])\n",
        "captions['image'] = captions['image'].apply(\n",
        "    lambda x: f'/content/drive/MyDrive/coco_dataset//train2017/{x}'\n",
        ")\n",
        "captions = captions.reset_index(drop=True)\n",
        "print(captions.head())\n",
        "\n"
      ],
      "metadata": {
        "id": "3AYri0IC2rfj",
        "colab": {
          "base_uri": "https://localhost:8080/"
        },
        "outputId": "d8bf264a-2a86-4302-f224-d28565e2e249"
      },
      "id": "3AYri0IC2rfj",
      "execution_count": 27,
      "outputs": [
        {
          "output_type": "stream",
          "name": "stdout",
          "text": [
            "                                               image  \\\n",
            "0  /content/drive/MyDrive/coco_dataset//train2017...   \n",
            "1  /content/drive/MyDrive/coco_dataset//train2017...   \n",
            "2  /content/drive/MyDrive/coco_dataset//train2017...   \n",
            "3  /content/drive/MyDrive/coco_dataset//train2017...   \n",
            "4  /content/drive/MyDrive/coco_dataset//train2017...   \n",
            "\n",
            "                                             caption  image_id  \n",
            "0  A bicycle replica with a clock as the front wh...    203564  \n",
            "1  A room with blue walls and a white sink and door.    322141  \n",
            "2  A car that seems to be parked illegally behind...     16977  \n",
            "3  A large passenger airplane flying through the ...    106140  \n",
            "4  There is a GOL plane taking off in a partly cl...    106140  \n"
          ]
        }
      ]
    },
    {
      "cell_type": "code",
      "source": [
        "\n",
        "print(type(data))\n",
        "print(data[0])\n",
        "print(data[1])\n",
        "\n",
        "print(len(captions))\n",
        "\n",
        "\n"
      ],
      "metadata": {
        "colab": {
          "base_uri": "https://localhost:8080/"
        },
        "id": "Y3KSFGXA_WFV",
        "outputId": "5f95c7f2-ce29-4078-c245-37752a96f76c"
      },
      "id": "Y3KSFGXA_WFV",
      "execution_count": 28,
      "outputs": [
        {
          "output_type": "stream",
          "name": "stdout",
          "text": [
            "<class 'list'>\n",
            "{'image_id': 203564, 'id': 37, 'caption': 'A bicycle replica with a clock as the front wheel.'}\n",
            "{'image_id': 322141, 'id': 49, 'caption': 'A room with blue walls and a white sink and door.'}\n",
            "591753\n"
          ]
        }
      ]
    },
    {
      "cell_type": "code",
      "source": [
        "captions2 = captions.groupby([\"image\", \"image_id\"])['caption'].apply(list).reset_index()\n",
        "\n",
        "\n",
        "captions2.shape\n"
      ],
      "metadata": {
        "colab": {
          "base_uri": "https://localhost:8080/"
        },
        "id": "tGcXKaqgAdts",
        "outputId": "8289bd66-c4c8-44b5-c6cd-0e9a8a5c98a0"
      },
      "id": "tGcXKaqgAdts",
      "execution_count": 29,
      "outputs": [
        {
          "output_type": "execute_result",
          "data": {
            "text/plain": [
              "(118287, 3)"
            ]
          },
          "metadata": {},
          "execution_count": 29
        }
      ]
    },
    {
      "cell_type": "code",
      "source": [
        "captions2.head()\n",
        "\n",
        "print(captions2.shape)\n",
        "\n",
        "\n",
        "print(\n",
        "captions2.iloc[0,0],\n",
        "\"\\n\",\n",
        "captions2.iloc[0,1],\n",
        "\"\\n\",\n",
        "captions2.iloc[0,2])\n",
        "\n"
      ],
      "metadata": {
        "colab": {
          "base_uri": "https://localhost:8080/"
        },
        "id": "UVjHBRL8CbNx",
        "outputId": "38772f7c-2eef-466a-9109-3a1389af9505"
      },
      "id": "UVjHBRL8CbNx",
      "execution_count": 30,
      "outputs": [
        {
          "output_type": "stream",
          "name": "stdout",
          "text": [
            "(118287, 3)\n",
            "/content/drive/MyDrive/coco_dataset//train2017/000000000009.jpg \n",
            " 9 \n",
            " ['Closeup of bins of food that include broccoli and bread.', 'A meal is presented in brightly colored plastic trays.', 'there are containers filled with different kinds of foods', 'Colorful dishes holding meat, vegetables, fruit, and bread.', 'A bunch of trays that have different food.']\n"
          ]
        }
      ]
    },
    {
      "cell_type": "code",
      "source": [
        "mypath_dict = {row['image']: row['caption'] for _, row in captions2.iterrows()}\n",
        "\n",
        "# Or, use the 'image_id' column as the key\n",
        "myid_dict = {row['image_id']: row['caption'] for _, row in captions2.iterrows()}"
      ],
      "metadata": {
        "id": "d5araRMVCbRU"
      },
      "id": "d5araRMVCbRU",
      "execution_count": 31,
      "outputs": []
    },
    {
      "cell_type": "code",
      "source": [
        "print(len(mypath_dict), len(myid_dict))\n",
        "\n"
      ],
      "metadata": {
        "colab": {
          "base_uri": "https://localhost:8080/"
        },
        "id": "jHHaVbvQAm98",
        "outputId": "c89b3bdb-3517-41aa-a4d5-66774ddb0595"
      },
      "id": "jHHaVbvQAm98",
      "execution_count": 32,
      "outputs": [
        {
          "output_type": "stream",
          "name": "stdout",
          "text": [
            "118287 118287\n"
          ]
        }
      ]
    },
    {
      "cell_type": "code",
      "source": [
        "\n",
        "myid_dict[9]"
      ],
      "metadata": {
        "colab": {
          "base_uri": "https://localhost:8080/"
        },
        "id": "_ohqW2iy92cB",
        "outputId": "76980a5e-57bd-4400-da62-7ecc938db1d6"
      },
      "id": "_ohqW2iy92cB",
      "execution_count": 33,
      "outputs": [
        {
          "output_type": "execute_result",
          "data": {
            "text/plain": [
              "['Closeup of bins of food that include broccoli and bread.',\n",
              " 'A meal is presented in brightly colored plastic trays.',\n",
              " 'there are containers filled with different kinds of foods',\n",
              " 'Colorful dishes holding meat, vegetables, fruit, and bread.',\n",
              " 'A bunch of trays that have different food.']"
            ]
          },
          "metadata": {},
          "execution_count": 33
        }
      ]
    },
    {
      "cell_type": "code",
      "source": [
        "##### 전체 dict pickle 로 만들필요는 없음\n",
        "\n",
        "\n",
        "import tensorflow as tf\n",
        "\n",
        "# Assuming 'myid_dict' is your dictionary with image_id or image as the key and the list of captions as the value\n",
        "\n",
        "VOCABULARY_SIZE = 15000\n",
        "MAX_LENGTH = 51\n",
        "\n",
        "# Create a new TextVectorization layer\n",
        "new_tokenizer = tf.keras.layers.TextVectorization(\n",
        "    max_tokens=VOCABULARY_SIZE,\n",
        "    standardize=None,\n",
        "    output_sequence_length=MAX_LENGTH)\n",
        "\n"
      ],
      "metadata": {
        "id": "u5zHrzI92ihW"
      },
      "id": "u5zHrzI92ihW",
      "execution_count": 34,
      "outputs": []
    },
    {
      "cell_type": "code",
      "execution_count": 35,
      "id": "80fbdf41",
      "metadata": {
        "execution": {
          "iopub.execute_input": "2022-09-14T19:05:21.240117Z",
          "iopub.status.busy": "2022-09-14T19:05:21.239129Z",
          "iopub.status.idle": "2022-09-14T19:05:21.244024Z",
          "shell.execute_reply": "2022-09-14T19:05:21.242977Z"
        },
        "id": "80fbdf41",
        "papermill": {
          "duration": 0.025314,
          "end_time": "2022-09-14T19:05:21.246025",
          "exception": false,
          "start_time": "2022-09-14T19:05:21.220711",
          "status": "completed"
        },
        "tags": [],
        "colab": {
          "base_uri": "https://localhost:8080/",
          "height": 49,
          "referenced_widgets": [
            "0c3a3004e676454b8bc725d1244797c1",
            "15c03beab08744a9b6b3ec1b775ec694",
            "5eec7ec3941a49f1b36bda67a18318e1",
            "32e6911439b94427a7c37e3110c5e2e1",
            "122de9596935431797405cd919e72157",
            "135857db340145879a7066e77ee88c5b",
            "7d39d6fc647d4f1695767ffd18d20e10",
            "69af573e507e463789aac672790ed395",
            "7c89311760fe4097b19d45cc90571c94",
            "fa4375d7eb51478fbe050c3cdbe8ede3",
            "6bcbaeeee44344a0993bbba1cdbe29a3"
          ]
        },
        "outputId": "f96b2e90-04ec-4d14-9a91-c29866fbfa4e"
      },
      "outputs": [
        {
          "output_type": "display_data",
          "data": {
            "text/plain": [
              "Extracting captions:   0%|          | 0/118287 [00:00<?, ?it/s]"
            ],
            "application/vnd.jupyter.widget-view+json": {
              "version_major": 2,
              "version_minor": 0,
              "model_id": "0c3a3004e676454b8bc725d1244797c1"
            }
          },
          "metadata": {}
        }
      ],
      "source": [
        "# Extract all captions from the dictionary\n",
        "all_captions = [caption for captions_list in tqdm(myid_dict.values(), desc=\"Extracting captions\") for caption in captions_list]\n"
      ]
    },
    {
      "cell_type": "code",
      "source": [
        "# 돌릴필요는 없음\n",
        "\n",
        "# # Adapt the tokenizer to the captions\n",
        "# new_tokenizer.adapt(all_captions)\n",
        "\n",
        "# # 약 1분넘게걸림"
      ],
      "metadata": {
        "id": "1ZFrY9hSRuXs"
      },
      "id": "1ZFrY9hSRuXs",
      "execution_count": 36,
      "outputs": []
    },
    {
      "cell_type": "code",
      "source": [
        "\n",
        "# # 전체 tokenizer 저장 돌릴 필요없음 지우지는 말것.\n",
        "\n",
        "\n",
        "# # Assuming 'new_tokenizer' is your adapted TextVectorization layer\n",
        "\n",
        "# # Check the vocabulary size\n",
        "# vocab_size = new_tokenizer.vocabulary_size()\n",
        "# print(f\"Vocabulary size: {vocab_size}\")\n",
        "\n",
        "# # Get the vocabulary as a list\n",
        "# vocabulary = new_tokenizer.get_vocabulary()\n",
        "# print(f\"Sample vocabulary words: {vocabulary[:10]}\")\n",
        "\n",
        "# # Test the new_tokenizer on a sample caption\n",
        "# sample_caption = \"what if my sentence is that long\"\n",
        "# tokenized_caption = new_tokenizer([sample_caption]).numpy()\n",
        "# print(f\"Tokenized sample caption: {tokenized_caption}\")"
      ],
      "metadata": {
        "id": "-Y0fDY_5I5ds"
      },
      "id": "-Y0fDY_5I5ds",
      "execution_count": 37,
      "outputs": []
    },
    {
      "cell_type": "code",
      "source": [
        "# # 전체 tokenizer 저장 돌릴 필요없음 지우지는 말것.\n",
        "\n",
        "# import pickle\n",
        "\n",
        "# # Get the tokenizer's configuration and weights\n",
        "# tokenizer_config = new_tokenizer.get_config()\n",
        "# tokenizer_weights = new_tokenizer.get_weights()\n",
        "\n",
        "# # Save the configuration and weights to a file\n",
        "# with open(\"my_tokenizer.pkl\", \"wb\") as f:\n",
        "#     pickle.dump({\"config\": tokenizer_config, \"weights\": tokenizer_weights}, f)"
      ],
      "metadata": {
        "id": "AD2L-VwdLW7k"
      },
      "id": "AD2L-VwdLW7k",
      "execution_count": 38,
      "outputs": []
    },
    {
      "cell_type": "code",
      "source": [
        "\n",
        "sample_path =total_path # 여기서는 sample_path가아니라 전체코코데이터에서 가져옴\n",
        "\n",
        "my_sample_path = []\n",
        "my_image_id= []\n",
        "\n",
        "for jpg_file in sample_train:\n",
        "    my_sample_path.append(sample_path+\"/\" +jpg_file)\n",
        "\n",
        "\n",
        "    # exctract id in sample\n",
        "    image_id = int(jpg_file.split('.')[0])\n",
        "    my_image_id.append(image_id)\n",
        "\n",
        "print(my_sample_path[:2],\"\\n\", len(my_sample_path))\n",
        "print()\n",
        "print(my_image_id[:3], len(my_image_id))\n",
        "\n",
        "\n",
        "# 이제 내 만개짜리 샘플 데이터 를 dict 형태로 \n",
        "\n"
      ],
      "metadata": {
        "colab": {
          "base_uri": "https://localhost:8080/",
          "height": 248
        },
        "id": "oQ0zQ2WnIutZ",
        "outputId": "6b65e542-8ef6-4219-e681-687e4ed57904"
      },
      "id": "oQ0zQ2WnIutZ",
      "execution_count": 39,
      "outputs": [
        {
          "output_type": "error",
          "ename": "NameError",
          "evalue": "ignored",
          "traceback": [
            "\u001b[0;31m---------------------------------------------------------------------------\u001b[0m",
            "\u001b[0;31mNameError\u001b[0m                                 Traceback (most recent call last)",
            "\u001b[0;32m<ipython-input-39-44d19faa66c4>\u001b[0m in \u001b[0;36m<cell line: 6>\u001b[0;34m()\u001b[0m\n\u001b[1;32m      4\u001b[0m \u001b[0mmy_image_id\u001b[0m\u001b[0;34m=\u001b[0m \u001b[0;34m[\u001b[0m\u001b[0;34m]\u001b[0m\u001b[0;34m\u001b[0m\u001b[0;34m\u001b[0m\u001b[0m\n\u001b[1;32m      5\u001b[0m \u001b[0;34m\u001b[0m\u001b[0m\n\u001b[0;32m----> 6\u001b[0;31m \u001b[0;32mfor\u001b[0m \u001b[0mjpg_file\u001b[0m \u001b[0;32min\u001b[0m \u001b[0msample_train\u001b[0m\u001b[0;34m:\u001b[0m\u001b[0;34m\u001b[0m\u001b[0;34m\u001b[0m\u001b[0m\n\u001b[0m\u001b[1;32m      7\u001b[0m     \u001b[0mmy_sample_path\u001b[0m\u001b[0;34m.\u001b[0m\u001b[0mappend\u001b[0m\u001b[0;34m(\u001b[0m\u001b[0msample_path\u001b[0m\u001b[0;34m+\u001b[0m\u001b[0;34m\"/\"\u001b[0m \u001b[0;34m+\u001b[0m\u001b[0mjpg_file\u001b[0m\u001b[0;34m)\u001b[0m\u001b[0;34m\u001b[0m\u001b[0;34m\u001b[0m\u001b[0m\n\u001b[1;32m      8\u001b[0m \u001b[0;34m\u001b[0m\u001b[0m\n",
            "\u001b[0;31mNameError\u001b[0m: name 'sample_train' is not defined"
          ]
        }
      ]
    },
    {
      "cell_type": "code",
      "source": [
        "# Function to check if the image ID is in the my_image_id list\n",
        "def keep_id(image_id):\n",
        "    return image_id in my_image_id\n",
        "\n",
        "# Create a custom dictionary with only the partial image IDs\n",
        "my_custom_train_set = {k: v for k, v in myid_dict.items() if keep_id(k)}"
      ],
      "metadata": {
        "id": "tMHsKhE_RESq"
      },
      "id": "tMHsKhE_RESq",
      "execution_count": null,
      "outputs": []
    },
    {
      "cell_type": "code",
      "source": [
        "\n",
        "\n",
        "# captions (json 으로 만든), id는 11만개\n",
        "\n",
        "# 폴더에 실제로 내가 지금 가져온 id는 만개\n",
        "\n",
        "# 위 코드를 통해서 내 아이디를 위에 caption \n",
        "\n",
        "# 즉 내 폴더에있는 아이디만 가지고 dict 를 만듬"
      ],
      "metadata": {
        "id": "pOfZ-PtvM-gd"
      },
      "id": "pOfZ-PtvM-gd",
      "execution_count": null,
      "outputs": []
    },
    {
      "cell_type": "code",
      "source": [
        "# 내 키 갯수\n",
        "\n",
        "len(my_custom_train_set.keys())\n"
      ],
      "metadata": {
        "id": "dNNVNlUMQNUu"
      },
      "id": "dNNVNlUMQNUu",
      "execution_count": null,
      "outputs": []
    },
    {
      "cell_type": "code",
      "source": [
        "updated_dict = {}\n",
        "for k, v in my_custom_train_set.items():\n",
        "    new_key = sample_path+\"/{:012d}.jpg\".format(k)\n",
        "    updated_dict[new_key] = v\n"
      ],
      "metadata": {
        "id": "AkZ9GhK2RYLX"
      },
      "id": "AkZ9GhK2RYLX",
      "execution_count": null,
      "outputs": []
    },
    {
      "cell_type": "code",
      "source": [
        "len(updated_dict)"
      ],
      "metadata": {
        "id": "ENqiZ_YLSZAu"
      },
      "id": "ENqiZ_YLSZAu",
      "execution_count": null,
      "outputs": []
    },
    {
      "cell_type": "markdown",
      "id": "96b20d64",
      "metadata": {
        "id": "96b20d64",
        "papermill": {
          "duration": 0.017347,
          "end_time": "2022-09-14T19:05:22.106347",
          "exception": false,
          "start_time": "2022-09-14T19:05:22.089000",
          "status": "completed"
        },
        "tags": []
      },
      "source": [
        "#### Load some of the random images"
      ]
    },
    {
      "cell_type": "code",
      "execution_count": null,
      "id": "8bdb048c",
      "metadata": {
        "execution": {
          "iopub.execute_input": "2022-09-14T19:05:22.143181Z",
          "iopub.status.busy": "2022-09-14T19:05:22.142226Z",
          "iopub.status.idle": "2022-09-14T19:05:22.155358Z",
          "shell.execute_reply": "2022-09-14T19:05:22.154470Z"
        },
        "id": "8bdb048c",
        "papermill": {
          "duration": 0.033586,
          "end_time": "2022-09-14T19:05:22.157378",
          "exception": false,
          "start_time": "2022-09-14T19:05:22.123792",
          "status": "completed"
        },
        "tags": []
      },
      "outputs": [],
      "source": [
        "imgIdss= list(updated_dict.keys())\n",
        "import random\n",
        "random.shuffle(imgIdss)\n"
      ]
    },
    {
      "cell_type": "code",
      "execution_count": null,
      "id": "88480a53",
      "metadata": {
        "execution": {
          "iopub.execute_input": "2022-09-14T19:05:22.195297Z",
          "iopub.status.busy": "2022-09-14T19:05:22.194404Z",
          "iopub.status.idle": "2022-09-14T19:05:30.756364Z",
          "shell.execute_reply": "2022-09-14T19:05:30.755032Z"
        },
        "id": "88480a53",
        "papermill": {
          "duration": 8.593243,
          "end_time": "2022-09-14T19:05:30.768465",
          "exception": false,
          "start_time": "2022-09-14T19:05:22.175222",
          "status": "completed"
        },
        "tags": []
      },
      "outputs": [],
      "source": [
        "# 랜덤 파일 읽기\n",
        "fig = plt.gcf()\n",
        "fig.set_size_inches(16, 16)\n",
        "\n",
        "next_pix = imgIdss\n",
        "random.shuffle(next_pix)\n",
        "\n",
        "for i, img_path in enumerate(next_pix[0:12]):\n",
        "    \n",
        "    sp = plt.subplot(4, 4, i + 1)\n",
        "    sp.axis('Off')\n",
        "    I = io.imread(img_path)\n",
        "    plt.imshow(I)\n",
        "    print( updated_dict[img_path][0])\n",
        "\n",
        "plt.show()"
      ]
    },
    {
      "cell_type": "code",
      "execution_count": null,
      "id": "ff27d24a",
      "metadata": {
        "execution": {
          "iopub.execute_input": "2022-09-14T19:06:03.890956Z",
          "iopub.status.busy": "2022-09-14T19:06:03.890588Z",
          "iopub.status.idle": "2022-09-14T19:06:03.895784Z",
          "shell.execute_reply": "2022-09-14T19:06:03.894824Z"
        },
        "id": "ff27d24a",
        "papermill": {
          "duration": 0.081488,
          "end_time": "2022-09-14T19:06:03.898292",
          "exception": false,
          "start_time": "2022-09-14T19:06:03.816804",
          "status": "completed"
        },
        "tags": []
      },
      "outputs": [],
      "source": [
        "print(\"Total images for training: \", len(imgIdss))"
      ]
    },
    {
      "cell_type": "markdown",
      "id": "431ab1d5",
      "metadata": {
        "id": "431ab1d5",
        "papermill": {
          "duration": 0.071474,
          "end_time": "2022-09-14T19:06:04.040306",
          "exception": false,
          "start_time": "2022-09-14T19:06:03.968832",
          "status": "completed"
        },
        "tags": []
      },
      "source": [
        "# Prepare Dataset \n",
        "\n",
        "#### Group all captions together having the same image and store them in dict."
      ]
    },
    {
      "cell_type": "code",
      "execution_count": null,
      "id": "675c50ce",
      "metadata": {
        "execution": {
          "iopub.execute_input": "2022-09-14T19:06:04.187040Z",
          "iopub.status.busy": "2022-09-14T19:06:04.186441Z",
          "iopub.status.idle": "2022-09-14T19:06:04.623818Z",
          "shell.execute_reply": "2022-09-14T19:06:04.621879Z"
        },
        "id": "675c50ce",
        "papermill": {
          "duration": 0.514444,
          "end_time": "2022-09-14T19:06:04.626861",
          "exception": false,
          "start_time": "2022-09-14T19:06:04.112417",
          "status": "completed"
        },
        "tags": []
      },
      "outputs": [],
      "source": [
        "# dataset = dict()\n",
        "# imgcaptions = []\n",
        "\n",
        "# for imgid in imgIdss:\n",
        "#     img = coco.loadImgs(imgid)[0]\n",
        "#     annIds = coco_caps.getAnnIds(imgIds=img['id']);\n",
        "#     anns = coco_caps.loadAnns(annIds)\n",
        "#     imgcaptions = []\n",
        "#     for cap in anns:\n",
        "        \n",
        "#         # Remove punctuation\n",
        "#         cap = cap['caption'].translate(str.maketrans('', '', string.punctuation))\n",
        "        \n",
        "#         # Replace - to blank\n",
        "#         cap = cap.replace(\"-\",\" \")\n",
        "        \n",
        "#         # Split string into word list and Convert each word into lower case\n",
        "#         cap = cap.split()\n",
        "#         cap = [word.lower() for word in cap]\n",
        "        \n",
        "#         # join word list into sentence and <start> and <end> tag to each sentence which helps \n",
        "#         # LSTM encoder-decoder model while training.\n",
        "        \n",
        "#         cap = '<start> ' + \" \".join(cap) + ' <end>'\n",
        "#         imgcaptions.append(cap)\n",
        "        \n",
        "#     dataset[img['coco_url']] = imgcaptions \n",
        "    \n",
        "# print(\"Length of Dataset: \",len(dataset))\n",
        "# # print(dataset['http://images.cocodataset.org/train2017/000000047084.jpg'])\n",
        "# #dataset\n",
        "\n",
        "# print(\"type of Dataset: \" ,type(dataset))\n",
        "\n"
      ]
    },
    {
      "cell_type": "code",
      "source": [
        "dataset =updated_dict"
      ],
      "metadata": {
        "id": "2oCOXrbTUIlj"
      },
      "id": "2oCOXrbTUIlj",
      "execution_count": null,
      "outputs": []
    },
    {
      "cell_type": "code",
      "execution_count": null,
      "id": "621Vpy2_MIGo",
      "metadata": {
        "id": "621Vpy2_MIGo"
      },
      "outputs": [],
      "source": [
        "import itertools\n",
        "\n",
        "\n",
        "# 임시 : sample은 개수\n",
        "\n",
        "SAMPLE_NUM=10\n",
        "testsample_dict= dict(itertools.islice(dataset.items(), SAMPLE_NUM))\n",
        "\n",
        "\n",
        "# sample 쓴다고 가정\n",
        "dataset = testsample_dict"
      ]
    },
    {
      "cell_type": "markdown",
      "id": "d5340e16",
      "metadata": {
        "id": "d5340e16",
        "papermill": {
          "duration": 0.070949,
          "end_time": "2022-09-14T19:06:04.768885",
          "exception": false,
          "start_time": "2022-09-14T19:06:04.697936",
          "status": "completed"
        },
        "tags": []
      },
      "source": [
        "# Preprocess and tokenize the captions"
      ]
    },
    {
      "cell_type": "code",
      "execution_count": null,
      "id": "33e9dbc7",
      "metadata": {
        "execution": {
          "iopub.execute_input": "2022-09-14T19:06:04.916084Z",
          "iopub.status.busy": "2022-09-14T19:06:04.915538Z",
          "iopub.status.idle": "2022-09-14T19:06:05.649909Z",
          "shell.execute_reply": "2022-09-14T19:06:05.647472Z"
        },
        "id": "33e9dbc7",
        "papermill": {
          "duration": 0.811025,
          "end_time": "2022-09-14T19:06:05.652869",
          "exception": false,
          "start_time": "2022-09-14T19:06:04.841844",
          "status": "completed"
        },
        "tags": []
      },
      "outputs": [],
      "source": [
        "from itertools import chain\n",
        "\n",
        "def tokenize_mycaption(dataset, total_words=0):\n",
        "  \n",
        "  flatten_list = list(chain.from_iterable(dataset.values())) #[[1,3],[4,8]] = [1,3,4,8]\n",
        "\n",
        "  tokenizer = Tokenizer(oov_token='<oov>') # For those words which are not found in word_index\n",
        "  tokenizer.fit_on_texts(flatten_list)\n",
        "  total_words = len(tokenizer.word_index) + 1\n",
        "\n",
        "  print(\"Vocabulary length: \", total_words)\n",
        "  # print(\"Bicycle ID: \", tokenizer.word_index['bicycle'])\n",
        "  # print(\"Airplane ID: \", tokenizer.word_index['airplane'])\n",
        "  print(list(tokenizer.word_index.keys())[:10])\n",
        "  return tokenizer, total_words\n",
        "\n",
        "tokenizer, total_words= tokenize_mycaption(dataset)"
      ]
    },
    {
      "cell_type": "code",
      "source": [
        "\n",
        "tokenizer, total_words"
      ],
      "metadata": {
        "id": "sLL5L7oCUgtP"
      },
      "id": "sLL5L7oCUgtP",
      "execution_count": null,
      "outputs": []
    },
    {
      "cell_type": "code",
      "execution_count": null,
      "id": "ibtk06mRkEqR",
      "metadata": {
        "id": "ibtk06mRkEqR"
      },
      "outputs": [],
      "source": [
        "\n",
        "# import csv\n",
        "# with open('/content/drive/MyDrive/3조/donut_token', 'r') as f:\n",
        "#     csv_reader = csv.reader(f)\n",
        "#     for line in csv_reader:\n",
        "#      flatten_list =  line\n",
        "\n",
        "# with open('/content/drive/MyDrive/3조/dataset', 'r') as f2:\n",
        "#     csv_reader = csv.reader(f2)\n",
        "#     for line in csv_reader:\n",
        "#      dataset =  dataset\n",
        "\n",
        "\n",
        "# # tokenizer = Tokenizer(oov_token='<oov>') # For those words which are not found in word_index\n",
        "# # tokenizer.fit_on_texts(flatten_list)\n",
        "# # total_words = len(tokenizer.word_index) + 1\n",
        "\n",
        "# tokenizer, total_words= tokenize_mycaption(dataset)\n",
        "# print(\"sample:\")\n",
        "# sample_tokenizer , sample_total_words = tokenize_mycaption(testsample_dict)\n"
      ]
    },
    {
      "cell_type": "code",
      "execution_count": null,
      "id": "Ues5nDPSWC9c",
      "metadata": {
        "id": "Ues5nDPSWC9c"
      },
      "outputs": [],
      "source": [
        "print(total_words)\n",
        "print(tokenizer.word_index)\n"
      ]
    },
    {
      "cell_type": "code",
      "source": [
        "# 해당 만개 데이터에 대한 tokenizer 저장 (할필요가 있는지는 모르겠음)\n",
        "\n",
        "import pickle\n",
        "\n",
        "# Save the configuration and weights to a file\n",
        "with open(f\"my_tokenizer_{my_part}.pkl\", \"wb\") as f:\n",
        "    pickle.dump({\"tokenizer\": tokenizer}, f)\n",
        "\n",
        "\n"
      ],
      "metadata": {
        "id": "Hrn1Wy0xSEwI"
      },
      "id": "Hrn1Wy0xSEwI",
      "execution_count": null,
      "outputs": []
    },
    {
      "cell_type": "code",
      "source": [
        "dataset_list = list(dataset)\n",
        "\n",
        "\n",
        "sample_link = dataset_list[0]\n",
        "\n",
        "\n",
        "sample_captions = dataset[sample_link]\n",
        "\n",
        "\n",
        "sample_link, sample_captions"
      ],
      "metadata": {
        "id": "C4YlfkJY7Qe9"
      },
      "id": "C4YlfkJY7Qe9",
      "execution_count": null,
      "outputs": []
    },
    {
      "cell_type": "code",
      "source": [
        "# def process_an_image(img, imsize = (299,299)):\n",
        "\n",
        "#     # io.imread -> image \"img 파일은 http 주소 형태\" #\n",
        " \n",
        "#     for img in tqdm(dataset.keys()):\n",
        "#         image = io.imread(img)\n",
        "#         if image.ndim != 3:\n",
        "#             image = cv2.cvtColor(image,cv2.COLOR_GRAY2RGB)\n",
        "    \n",
        "#         # Resize each image size 299 x 299\n",
        "#         image = cv2.resize(image,imsize)\n",
        "#         image = np.expand_dims(image, axis=0)\n",
        "    \n",
        "#         # Normalize image pixels\n",
        "#         image = image/127.5\n",
        "#         image = image - 1.0\n",
        "#     return image\n",
        "\n",
        "# test_img = process_an_image(dataset)\n",
        "\n",
        "# test_img.shape"
      ],
      "metadata": {
        "id": "nyCD6Bz776o2"
      },
      "id": "nyCD6Bz776o2",
      "execution_count": null,
      "outputs": []
    },
    {
      "cell_type": "markdown",
      "id": "a70f6538",
      "metadata": {
        "id": "a70f6538",
        "papermill": {
          "duration": 0.073175,
          "end_time": "2022-09-14T19:06:05.796956",
          "exception": false,
          "start_time": "2022-09-14T19:06:05.723781",
          "status": "completed"
        },
        "tags": []
      },
      "source": [
        "# Preprocess and caching the features extracted from InceptionV3\n",
        "\n",
        "I will use InceptionV3 (which is pretrained on Imagenet) to classify each image. I will extract features from the last convolutional layer. This is also called a tranfer learning.\n",
        "\n",
        "Since the Xception model was originally built for **imagenet**, we will do little changes for integrating with our model. Here, the Xception model takes **100 x 100 x 3** image size as input. We will remove the last classification layer and get the **2048 feature vector**."
      ]
    },
    {
      "cell_type": "code",
      "execution_count": null,
      "id": "cE1H-eZtLd62",
      "metadata": {
        "id": "cE1H-eZtLd62"
      },
      "outputs": [],
      "source": [
        "\n",
        "# from tensorflow.keras.layers import GlobalAveragePooling1D\n",
        "\n",
        "# def CNN_Encoder(): # Inception\n",
        "#     inception_v3 = tf.keras.applications.InceptionV3(\n",
        "#         include_top=False,\n",
        "#         weights='imagenet'\n",
        "#     )\n",
        "\n",
        "#     output = inception_v3.output\n",
        "#     print(\"output1\\n\", output,\"\\n------------------------------------------------------------\")\n",
        "#     # inception_v3.output , 즉    (None, 2048) \n",
        "\n",
        "#     output = tf.keras.layers.Reshape(\n",
        "#         (-1, output.shape[-1]))(output)\n",
        "#     # output after reshape\n",
        "\n",
        "#     print(\"output2\\n\", output,\"\\n------------------------------------------------------------\")\n",
        "\n",
        "#     output = GlobalAveragePooling1D()(output)\n",
        "\n",
        "#     cnn_model = tf.keras.models.Model(inception_v3.input, output)\n",
        "#     return cnn_model, output\n",
        "\n"
      ]
    },
    {
      "cell_type": "code",
      "source": [],
      "metadata": {
        "id": "LNS7G9Ji6kuX"
      },
      "id": "LNS7G9Ji6kuX",
      "execution_count": null,
      "outputs": []
    },
    {
      "cell_type": "code",
      "execution_count": null,
      "id": "eTejVthcSWzT",
      "metadata": {
        "id": "eTejVthcSWzT"
      },
      "outputs": [],
      "source": [
        "# model_incep = CNN_Encoder()[0]\n",
        "\n",
        "# test_features = model_incep(test_img)\n",
        "\n",
        "\n",
        "# test_features.shape\n",
        "\n"
      ]
    },
    {
      "cell_type": "code",
      "execution_count": 45,
      "id": "k4lZuxPQYT3P",
      "metadata": {
        "id": "k4lZuxPQYT3P"
      },
      "outputs": [],
      "source": [
        "# model_incep.summary()\n",
        "import tensorflow as tf\n",
        "from tensorflow.keras.layers import GlobalAveragePooling2D"
      ]
    },
    {
      "cell_type": "code",
      "execution_count": null,
      "id": "6f6fd7a0",
      "metadata": {
        "execution": {
          "iopub.execute_input": "2022-09-14T19:06:05.944031Z",
          "iopub.status.busy": "2022-09-14T19:06:05.943407Z",
          "iopub.status.idle": "2022-09-14T20:49:45.464578Z",
          "shell.execute_reply": "2022-09-14T20:49:45.463636Z"
        },
        "id": "6f6fd7a0",
        "papermill": {
          "duration": 6219.59657,
          "end_time": "2022-09-14T20:49:45.466654",
          "exception": false,
          "start_time": "2022-09-14T19:06:05.870084",
          "status": "completed"
        },
        "tags": []
      },
      "outputs": [],
      "source": [
        "\n",
        "\n",
        "model = Xception(include_top=False, pooling='avg',  weights='imagenet')\n",
        "# model.compile()\n",
        "image_features = {}\n",
        "\n",
        "imsize = (299,299)\n",
        "# dataset.keys()\n",
        "error_imgs = []\n",
        "def img_preprocess(dataset=dataset,imsize=imsize, model=model):\n",
        "    for img in tqdm(list(dataset.keys())):\n",
        "        try:\n",
        "            image = io.imread(img)\n",
        "            if image.ndim != 3:\n",
        "                image = cv2.cvtColor(image, cv2.COLOR_GRAY2RGB)\n",
        "\n",
        "            # Resize each image size 299 x 299\n",
        "            image = cv2.resize(image, (imsize[1], imsize[0]))\n",
        "            image = np.expand_dims(image, axis=0)\n",
        "\n",
        "            # Normalize image pixels\n",
        "            image = image / 127.5\n",
        "            image = image - 1.0\n",
        "\n",
        "            # Extract features from image\n",
        "            feature = model.predict(image)\n",
        "            image_features[img] = feature\n",
        "\n",
        "        except:\n",
        "            print(f\"Failed to process image {img}\")\n",
        "            error_imgs.append[img]\n",
        "\n",
        "\n",
        "img_preprocess(dataset)\n"
      ]
    },
    {
      "cell_type": "code",
      "source": [
        "IMAGE_SHAPE=(224, 224, 3)\n",
        "mobilenet = tf.keras.applications.MobileNetV3Small(\n",
        "    input_shape=IMAGE_SHAPE,\n",
        "    include_top=False,\n",
        "    include_preprocessing=True)\n",
        "mobilenet.trainable=False\n",
        "\n",
        "\n",
        "# img_preprocess(dataset, imsize =IMAGE_SHAPE, model = mobilenet)\n",
        "\n",
        "\n",
        "\n",
        "x = mobilenet.output\n",
        "x = GlobalAveragePooling2D()(x)\n",
        "\n",
        "modified_mobilenet = Model(inputs=mobilenet.input, outputs=x)\n",
        "\n",
        "\n",
        "# modified_mobilenet.summary()\n",
        "\n",
        "img_preprocess(dataset, imsize =IMAGE_SHAPE, model = modified_mobilenet)\n",
        "# 뒤에 각모델마다  호출할때 모델 피팅 따로적용해야함"
      ],
      "metadata": {
        "id": "AXqKP64NURnl",
        "outputId": "a93bb7b9-55bd-447c-bfb6-b382f4c18ce9",
        "colab": {
          "base_uri": "https://localhost:8080/"
        }
      },
      "id": "AXqKP64NURnl",
      "execution_count": 44,
      "outputs": [
        {
          "output_type": "stream",
          "name": "stdout",
          "text": [
            "Downloading data from https://storage.googleapis.com/tensorflow/keras-applications/mobilenet_v3/weights_mobilenet_v3_small_224_1.0_float_no_top_v2.h5\n",
            "4334752/4334752 [==============================] - 0s 0us/step\n",
            "Model: \"model_3\"\n",
            "__________________________________________________________________________________________________\n",
            " Layer (type)                   Output Shape         Param #     Connected to                     \n",
            "==================================================================================================\n",
            " input_5 (InputLayer)           [(None, 224, 224, 3  0           []                               \n",
            "                                )]                                                                \n",
            "                                                                                                  \n",
            " rescaling (Rescaling)          (None, 224, 224, 3)  0           ['input_5[0][0]']                \n",
            "                                                                                                  \n",
            " Conv (Conv2D)                  (None, 112, 112, 16  432         ['rescaling[0][0]']              \n",
            "                                )                                                                 \n",
            "                                                                                                  \n",
            " Conv/BatchNorm (BatchNormaliza  (None, 112, 112, 16  64         ['Conv[0][0]']                   \n",
            " tion)                          )                                                                 \n",
            "                                                                                                  \n",
            " tf.__operators__.add (TFOpLamb  (None, 112, 112, 16  0          ['Conv/BatchNorm[0][0]']         \n",
            " da)                            )                                                                 \n",
            "                                                                                                  \n",
            " re_lu (ReLU)                   (None, 112, 112, 16  0           ['tf.__operators__.add[0][0]']   \n",
            "                                )                                                                 \n",
            "                                                                                                  \n",
            " tf.math.multiply (TFOpLambda)  (None, 112, 112, 16  0           ['re_lu[0][0]']                  \n",
            "                                )                                                                 \n",
            "                                                                                                  \n",
            " multiply (Multiply)            (None, 112, 112, 16  0           ['Conv/BatchNorm[0][0]',         \n",
            "                                )                                 'tf.math.multiply[0][0]']       \n",
            "                                                                                                  \n",
            " expanded_conv/depthwise/pad (Z  (None, 113, 113, 16  0          ['multiply[0][0]']               \n",
            " eroPadding2D)                  )                                                                 \n",
            "                                                                                                  \n",
            " expanded_conv/depthwise (Depth  (None, 56, 56, 16)  144         ['expanded_conv/depthwise/pad[0][\n",
            " wiseConv2D)                                                     0]']                             \n",
            "                                                                                                  \n",
            " expanded_conv/depthwise/BatchN  (None, 56, 56, 16)  64          ['expanded_conv/depthwise[0][0]']\n",
            " orm (BatchNormalization)                                                                         \n",
            "                                                                                                  \n",
            " re_lu_1 (ReLU)                 (None, 56, 56, 16)   0           ['expanded_conv/depthwise/BatchNo\n",
            "                                                                 rm[0][0]']                       \n",
            "                                                                                                  \n",
            " expanded_conv/squeeze_excite/A  (None, 1, 1, 16)    0           ['re_lu_1[0][0]']                \n",
            " vgPool (GlobalAveragePooling2D                                                                   \n",
            " )                                                                                                \n",
            "                                                                                                  \n",
            " expanded_conv/squeeze_excite/C  (None, 1, 1, 8)     136         ['expanded_conv/squeeze_excite/Av\n",
            " onv (Conv2D)                                                    gPool[0][0]']                    \n",
            "                                                                                                  \n",
            " expanded_conv/squeeze_excite/R  (None, 1, 1, 8)     0           ['expanded_conv/squeeze_excite/Co\n",
            " elu (ReLU)                                                      nv[0][0]']                       \n",
            "                                                                                                  \n",
            " expanded_conv/squeeze_excite/C  (None, 1, 1, 16)    144         ['expanded_conv/squeeze_excite/Re\n",
            " onv_1 (Conv2D)                                                  lu[0][0]']                       \n",
            "                                                                                                  \n",
            " tf.__operators__.add_1 (TFOpLa  (None, 1, 1, 16)    0           ['expanded_conv/squeeze_excite/Co\n",
            " mbda)                                                           nv_1[0][0]']                     \n",
            "                                                                                                  \n",
            " re_lu_2 (ReLU)                 (None, 1, 1, 16)     0           ['tf.__operators__.add_1[0][0]'] \n",
            "                                                                                                  \n",
            " tf.math.multiply_1 (TFOpLambda  (None, 1, 1, 16)    0           ['re_lu_2[0][0]']                \n",
            " )                                                                                                \n",
            "                                                                                                  \n",
            " expanded_conv/squeeze_excite/M  (None, 56, 56, 16)  0           ['re_lu_1[0][0]',                \n",
            " ul (Multiply)                                                    'tf.math.multiply_1[0][0]']     \n",
            "                                                                                                  \n",
            " expanded_conv/project (Conv2D)  (None, 56, 56, 16)  256         ['expanded_conv/squeeze_excite/Mu\n",
            "                                                                 l[0][0]']                        \n",
            "                                                                                                  \n",
            " expanded_conv/project/BatchNor  (None, 56, 56, 16)  64          ['expanded_conv/project[0][0]']  \n",
            " m (BatchNormalization)                                                                           \n",
            "                                                                                                  \n",
            " expanded_conv_1/expand (Conv2D  (None, 56, 56, 72)  1152        ['expanded_conv/project/BatchNorm\n",
            " )                                                               [0][0]']                         \n",
            "                                                                                                  \n",
            " expanded_conv_1/expand/BatchNo  (None, 56, 56, 72)  288         ['expanded_conv_1/expand[0][0]'] \n",
            " rm (BatchNormalization)                                                                          \n",
            "                                                                                                  \n",
            " re_lu_3 (ReLU)                 (None, 56, 56, 72)   0           ['expanded_conv_1/expand/BatchNor\n",
            "                                                                 m[0][0]']                        \n",
            "                                                                                                  \n",
            " expanded_conv_1/depthwise/pad   (None, 57, 57, 72)  0           ['re_lu_3[0][0]']                \n",
            " (ZeroPadding2D)                                                                                  \n",
            "                                                                                                  \n",
            " expanded_conv_1/depthwise (Dep  (None, 28, 28, 72)  648         ['expanded_conv_1/depthwise/pad[0\n",
            " thwiseConv2D)                                                   ][0]']                           \n",
            "                                                                                                  \n",
            " expanded_conv_1/depthwise/Batc  (None, 28, 28, 72)  288         ['expanded_conv_1/depthwise[0][0]\n",
            " hNorm (BatchNormalization)                                      ']                               \n",
            "                                                                                                  \n",
            " re_lu_4 (ReLU)                 (None, 28, 28, 72)   0           ['expanded_conv_1/depthwise/Batch\n",
            "                                                                 Norm[0][0]']                     \n",
            "                                                                                                  \n",
            " expanded_conv_1/project (Conv2  (None, 28, 28, 24)  1728        ['re_lu_4[0][0]']                \n",
            " D)                                                                                               \n",
            "                                                                                                  \n",
            " expanded_conv_1/project/BatchN  (None, 28, 28, 24)  96          ['expanded_conv_1/project[0][0]']\n",
            " orm (BatchNormalization)                                                                         \n",
            "                                                                                                  \n",
            " expanded_conv_2/expand (Conv2D  (None, 28, 28, 88)  2112        ['expanded_conv_1/project/BatchNo\n",
            " )                                                               rm[0][0]']                       \n",
            "                                                                                                  \n",
            " expanded_conv_2/expand/BatchNo  (None, 28, 28, 88)  352         ['expanded_conv_2/expand[0][0]'] \n",
            " rm (BatchNormalization)                                                                          \n",
            "                                                                                                  \n",
            " re_lu_5 (ReLU)                 (None, 28, 28, 88)   0           ['expanded_conv_2/expand/BatchNor\n",
            "                                                                 m[0][0]']                        \n",
            "                                                                                                  \n",
            " expanded_conv_2/depthwise (Dep  (None, 28, 28, 88)  792         ['re_lu_5[0][0]']                \n",
            " thwiseConv2D)                                                                                    \n",
            "                                                                                                  \n",
            " expanded_conv_2/depthwise/Batc  (None, 28, 28, 88)  352         ['expanded_conv_2/depthwise[0][0]\n",
            " hNorm (BatchNormalization)                                      ']                               \n",
            "                                                                                                  \n",
            " re_lu_6 (ReLU)                 (None, 28, 28, 88)   0           ['expanded_conv_2/depthwise/Batch\n",
            "                                                                 Norm[0][0]']                     \n",
            "                                                                                                  \n",
            " expanded_conv_2/project (Conv2  (None, 28, 28, 24)  2112        ['re_lu_6[0][0]']                \n",
            " D)                                                                                               \n",
            "                                                                                                  \n",
            " expanded_conv_2/project/BatchN  (None, 28, 28, 24)  96          ['expanded_conv_2/project[0][0]']\n",
            " orm (BatchNormalization)                                                                         \n",
            "                                                                                                  \n",
            " expanded_conv_2/Add (Add)      (None, 28, 28, 24)   0           ['expanded_conv_1/project/BatchNo\n",
            "                                                                 rm[0][0]',                       \n",
            "                                                                  'expanded_conv_2/project/BatchNo\n",
            "                                                                 rm[0][0]']                       \n",
            "                                                                                                  \n",
            " expanded_conv_3/expand (Conv2D  (None, 28, 28, 96)  2304        ['expanded_conv_2/Add[0][0]']    \n",
            " )                                                                                                \n",
            "                                                                                                  \n",
            " expanded_conv_3/expand/BatchNo  (None, 28, 28, 96)  384         ['expanded_conv_3/expand[0][0]'] \n",
            " rm (BatchNormalization)                                                                          \n",
            "                                                                                                  \n",
            " tf.__operators__.add_2 (TFOpLa  (None, 28, 28, 96)  0           ['expanded_conv_3/expand/BatchNor\n",
            " mbda)                                                           m[0][0]']                        \n",
            "                                                                                                  \n",
            " re_lu_7 (ReLU)                 (None, 28, 28, 96)   0           ['tf.__operators__.add_2[0][0]'] \n",
            "                                                                                                  \n",
            " tf.math.multiply_2 (TFOpLambda  (None, 28, 28, 96)  0           ['re_lu_7[0][0]']                \n",
            " )                                                                                                \n",
            "                                                                                                  \n",
            " multiply_1 (Multiply)          (None, 28, 28, 96)   0           ['expanded_conv_3/expand/BatchNor\n",
            "                                                                 m[0][0]',                        \n",
            "                                                                  'tf.math.multiply_2[0][0]']     \n",
            "                                                                                                  \n",
            " expanded_conv_3/depthwise/pad   (None, 31, 31, 96)  0           ['multiply_1[0][0]']             \n",
            " (ZeroPadding2D)                                                                                  \n",
            "                                                                                                  \n",
            " expanded_conv_3/depthwise (Dep  (None, 14, 14, 96)  2400        ['expanded_conv_3/depthwise/pad[0\n",
            " thwiseConv2D)                                                   ][0]']                           \n",
            "                                                                                                  \n",
            " expanded_conv_3/depthwise/Batc  (None, 14, 14, 96)  384         ['expanded_conv_3/depthwise[0][0]\n",
            " hNorm (BatchNormalization)                                      ']                               \n",
            "                                                                                                  \n",
            " tf.__operators__.add_3 (TFOpLa  (None, 14, 14, 96)  0           ['expanded_conv_3/depthwise/Batch\n",
            " mbda)                                                           Norm[0][0]']                     \n",
            "                                                                                                  \n",
            " re_lu_8 (ReLU)                 (None, 14, 14, 96)   0           ['tf.__operators__.add_3[0][0]'] \n",
            "                                                                                                  \n",
            " tf.math.multiply_3 (TFOpLambda  (None, 14, 14, 96)  0           ['re_lu_8[0][0]']                \n",
            " )                                                                                                \n",
            "                                                                                                  \n",
            " multiply_2 (Multiply)          (None, 14, 14, 96)   0           ['expanded_conv_3/depthwise/Batch\n",
            "                                                                 Norm[0][0]',                     \n",
            "                                                                  'tf.math.multiply_3[0][0]']     \n",
            "                                                                                                  \n",
            " expanded_conv_3/squeeze_excite  (None, 1, 1, 96)    0           ['multiply_2[0][0]']             \n",
            " /AvgPool (GlobalAveragePooling                                                                   \n",
            " 2D)                                                                                              \n",
            "                                                                                                  \n",
            " expanded_conv_3/squeeze_excite  (None, 1, 1, 24)    2328        ['expanded_conv_3/squeeze_excite/\n",
            " /Conv (Conv2D)                                                  AvgPool[0][0]']                  \n",
            "                                                                                                  \n",
            " expanded_conv_3/squeeze_excite  (None, 1, 1, 24)    0           ['expanded_conv_3/squeeze_excite/\n",
            " /Relu (ReLU)                                                    Conv[0][0]']                     \n",
            "                                                                                                  \n",
            " expanded_conv_3/squeeze_excite  (None, 1, 1, 96)    2400        ['expanded_conv_3/squeeze_excite/\n",
            " /Conv_1 (Conv2D)                                                Relu[0][0]']                     \n",
            "                                                                                                  \n",
            " tf.__operators__.add_4 (TFOpLa  (None, 1, 1, 96)    0           ['expanded_conv_3/squeeze_excite/\n",
            " mbda)                                                           Conv_1[0][0]']                   \n",
            "                                                                                                  \n",
            " re_lu_9 (ReLU)                 (None, 1, 1, 96)     0           ['tf.__operators__.add_4[0][0]'] \n",
            "                                                                                                  \n",
            " tf.math.multiply_4 (TFOpLambda  (None, 1, 1, 96)    0           ['re_lu_9[0][0]']                \n",
            " )                                                                                                \n",
            "                                                                                                  \n",
            " expanded_conv_3/squeeze_excite  (None, 14, 14, 96)  0           ['multiply_2[0][0]',             \n",
            " /Mul (Multiply)                                                  'tf.math.multiply_4[0][0]']     \n",
            "                                                                                                  \n",
            " expanded_conv_3/project (Conv2  (None, 14, 14, 40)  3840        ['expanded_conv_3/squeeze_excite/\n",
            " D)                                                              Mul[0][0]']                      \n",
            "                                                                                                  \n",
            " expanded_conv_3/project/BatchN  (None, 14, 14, 40)  160         ['expanded_conv_3/project[0][0]']\n",
            " orm (BatchNormalization)                                                                         \n",
            "                                                                                                  \n",
            " expanded_conv_4/expand (Conv2D  (None, 14, 14, 240)  9600       ['expanded_conv_3/project/BatchNo\n",
            " )                                                               rm[0][0]']                       \n",
            "                                                                                                  \n",
            " expanded_conv_4/expand/BatchNo  (None, 14, 14, 240)  960        ['expanded_conv_4/expand[0][0]'] \n",
            " rm (BatchNormalization)                                                                          \n",
            "                                                                                                  \n",
            " tf.__operators__.add_5 (TFOpLa  (None, 14, 14, 240)  0          ['expanded_conv_4/expand/BatchNor\n",
            " mbda)                                                           m[0][0]']                        \n",
            "                                                                                                  \n",
            " re_lu_10 (ReLU)                (None, 14, 14, 240)  0           ['tf.__operators__.add_5[0][0]'] \n",
            "                                                                                                  \n",
            " tf.math.multiply_5 (TFOpLambda  (None, 14, 14, 240)  0          ['re_lu_10[0][0]']               \n",
            " )                                                                                                \n",
            "                                                                                                  \n",
            " multiply_3 (Multiply)          (None, 14, 14, 240)  0           ['expanded_conv_4/expand/BatchNor\n",
            "                                                                 m[0][0]',                        \n",
            "                                                                  'tf.math.multiply_5[0][0]']     \n",
            "                                                                                                  \n",
            " expanded_conv_4/depthwise (Dep  (None, 14, 14, 240)  6000       ['multiply_3[0][0]']             \n",
            " thwiseConv2D)                                                                                    \n",
            "                                                                                                  \n",
            " expanded_conv_4/depthwise/Batc  (None, 14, 14, 240)  960        ['expanded_conv_4/depthwise[0][0]\n",
            " hNorm (BatchNormalization)                                      ']                               \n",
            "                                                                                                  \n",
            " tf.__operators__.add_6 (TFOpLa  (None, 14, 14, 240)  0          ['expanded_conv_4/depthwise/Batch\n",
            " mbda)                                                           Norm[0][0]']                     \n",
            "                                                                                                  \n",
            " re_lu_11 (ReLU)                (None, 14, 14, 240)  0           ['tf.__operators__.add_6[0][0]'] \n",
            "                                                                                                  \n",
            " tf.math.multiply_6 (TFOpLambda  (None, 14, 14, 240)  0          ['re_lu_11[0][0]']               \n",
            " )                                                                                                \n",
            "                                                                                                  \n",
            " multiply_4 (Multiply)          (None, 14, 14, 240)  0           ['expanded_conv_4/depthwise/Batch\n",
            "                                                                 Norm[0][0]',                     \n",
            "                                                                  'tf.math.multiply_6[0][0]']     \n",
            "                                                                                                  \n",
            " expanded_conv_4/squeeze_excite  (None, 1, 1, 240)   0           ['multiply_4[0][0]']             \n",
            " /AvgPool (GlobalAveragePooling                                                                   \n",
            " 2D)                                                                                              \n",
            "                                                                                                  \n",
            " expanded_conv_4/squeeze_excite  (None, 1, 1, 64)    15424       ['expanded_conv_4/squeeze_excite/\n",
            " /Conv (Conv2D)                                                  AvgPool[0][0]']                  \n",
            "                                                                                                  \n",
            " expanded_conv_4/squeeze_excite  (None, 1, 1, 64)    0           ['expanded_conv_4/squeeze_excite/\n",
            " /Relu (ReLU)                                                    Conv[0][0]']                     \n",
            "                                                                                                  \n",
            " expanded_conv_4/squeeze_excite  (None, 1, 1, 240)   15600       ['expanded_conv_4/squeeze_excite/\n",
            " /Conv_1 (Conv2D)                                                Relu[0][0]']                     \n",
            "                                                                                                  \n",
            " tf.__operators__.add_7 (TFOpLa  (None, 1, 1, 240)   0           ['expanded_conv_4/squeeze_excite/\n",
            " mbda)                                                           Conv_1[0][0]']                   \n",
            "                                                                                                  \n",
            " re_lu_12 (ReLU)                (None, 1, 1, 240)    0           ['tf.__operators__.add_7[0][0]'] \n",
            "                                                                                                  \n",
            " tf.math.multiply_7 (TFOpLambda  (None, 1, 1, 240)   0           ['re_lu_12[0][0]']               \n",
            " )                                                                                                \n",
            "                                                                                                  \n",
            " expanded_conv_4/squeeze_excite  (None, 14, 14, 240)  0          ['multiply_4[0][0]',             \n",
            " /Mul (Multiply)                                                  'tf.math.multiply_7[0][0]']     \n",
            "                                                                                                  \n",
            " expanded_conv_4/project (Conv2  (None, 14, 14, 40)  9600        ['expanded_conv_4/squeeze_excite/\n",
            " D)                                                              Mul[0][0]']                      \n",
            "                                                                                                  \n",
            " expanded_conv_4/project/BatchN  (None, 14, 14, 40)  160         ['expanded_conv_4/project[0][0]']\n",
            " orm (BatchNormalization)                                                                         \n",
            "                                                                                                  \n",
            " expanded_conv_4/Add (Add)      (None, 14, 14, 40)   0           ['expanded_conv_3/project/BatchNo\n",
            "                                                                 rm[0][0]',                       \n",
            "                                                                  'expanded_conv_4/project/BatchNo\n",
            "                                                                 rm[0][0]']                       \n",
            "                                                                                                  \n",
            " expanded_conv_5/expand (Conv2D  (None, 14, 14, 240)  9600       ['expanded_conv_4/Add[0][0]']    \n",
            " )                                                                                                \n",
            "                                                                                                  \n",
            " expanded_conv_5/expand/BatchNo  (None, 14, 14, 240)  960        ['expanded_conv_5/expand[0][0]'] \n",
            " rm (BatchNormalization)                                                                          \n",
            "                                                                                                  \n",
            " tf.__operators__.add_8 (TFOpLa  (None, 14, 14, 240)  0          ['expanded_conv_5/expand/BatchNor\n",
            " mbda)                                                           m[0][0]']                        \n",
            "                                                                                                  \n",
            " re_lu_13 (ReLU)                (None, 14, 14, 240)  0           ['tf.__operators__.add_8[0][0]'] \n",
            "                                                                                                  \n",
            " tf.math.multiply_8 (TFOpLambda  (None, 14, 14, 240)  0          ['re_lu_13[0][0]']               \n",
            " )                                                                                                \n",
            "                                                                                                  \n",
            " multiply_5 (Multiply)          (None, 14, 14, 240)  0           ['expanded_conv_5/expand/BatchNor\n",
            "                                                                 m[0][0]',                        \n",
            "                                                                  'tf.math.multiply_8[0][0]']     \n",
            "                                                                                                  \n",
            " expanded_conv_5/depthwise (Dep  (None, 14, 14, 240)  6000       ['multiply_5[0][0]']             \n",
            " thwiseConv2D)                                                                                    \n",
            "                                                                                                  \n",
            " expanded_conv_5/depthwise/Batc  (None, 14, 14, 240)  960        ['expanded_conv_5/depthwise[0][0]\n",
            " hNorm (BatchNormalization)                                      ']                               \n",
            "                                                                                                  \n",
            " tf.__operators__.add_9 (TFOpLa  (None, 14, 14, 240)  0          ['expanded_conv_5/depthwise/Batch\n",
            " mbda)                                                           Norm[0][0]']                     \n",
            "                                                                                                  \n",
            " re_lu_14 (ReLU)                (None, 14, 14, 240)  0           ['tf.__operators__.add_9[0][0]'] \n",
            "                                                                                                  \n",
            " tf.math.multiply_9 (TFOpLambda  (None, 14, 14, 240)  0          ['re_lu_14[0][0]']               \n",
            " )                                                                                                \n",
            "                                                                                                  \n",
            " multiply_6 (Multiply)          (None, 14, 14, 240)  0           ['expanded_conv_5/depthwise/Batch\n",
            "                                                                 Norm[0][0]',                     \n",
            "                                                                  'tf.math.multiply_9[0][0]']     \n",
            "                                                                                                  \n",
            " expanded_conv_5/squeeze_excite  (None, 1, 1, 240)   0           ['multiply_6[0][0]']             \n",
            " /AvgPool (GlobalAveragePooling                                                                   \n",
            " 2D)                                                                                              \n",
            "                                                                                                  \n",
            " expanded_conv_5/squeeze_excite  (None, 1, 1, 64)    15424       ['expanded_conv_5/squeeze_excite/\n",
            " /Conv (Conv2D)                                                  AvgPool[0][0]']                  \n",
            "                                                                                                  \n",
            " expanded_conv_5/squeeze_excite  (None, 1, 1, 64)    0           ['expanded_conv_5/squeeze_excite/\n",
            " /Relu (ReLU)                                                    Conv[0][0]']                     \n",
            "                                                                                                  \n",
            " expanded_conv_5/squeeze_excite  (None, 1, 1, 240)   15600       ['expanded_conv_5/squeeze_excite/\n",
            " /Conv_1 (Conv2D)                                                Relu[0][0]']                     \n",
            "                                                                                                  \n",
            " tf.__operators__.add_10 (TFOpL  (None, 1, 1, 240)   0           ['expanded_conv_5/squeeze_excite/\n",
            " ambda)                                                          Conv_1[0][0]']                   \n",
            "                                                                                                  \n",
            " re_lu_15 (ReLU)                (None, 1, 1, 240)    0           ['tf.__operators__.add_10[0][0]']\n",
            "                                                                                                  \n",
            " tf.math.multiply_10 (TFOpLambd  (None, 1, 1, 240)   0           ['re_lu_15[0][0]']               \n",
            " a)                                                                                               \n",
            "                                                                                                  \n",
            " expanded_conv_5/squeeze_excite  (None, 14, 14, 240)  0          ['multiply_6[0][0]',             \n",
            " /Mul (Multiply)                                                  'tf.math.multiply_10[0][0]']    \n",
            "                                                                                                  \n",
            " expanded_conv_5/project (Conv2  (None, 14, 14, 40)  9600        ['expanded_conv_5/squeeze_excite/\n",
            " D)                                                              Mul[0][0]']                      \n",
            "                                                                                                  \n",
            " expanded_conv_5/project/BatchN  (None, 14, 14, 40)  160         ['expanded_conv_5/project[0][0]']\n",
            " orm (BatchNormalization)                                                                         \n",
            "                                                                                                  \n",
            " expanded_conv_5/Add (Add)      (None, 14, 14, 40)   0           ['expanded_conv_4/Add[0][0]',    \n",
            "                                                                  'expanded_conv_5/project/BatchNo\n",
            "                                                                 rm[0][0]']                       \n",
            "                                                                                                  \n",
            " expanded_conv_6/expand (Conv2D  (None, 14, 14, 120)  4800       ['expanded_conv_5/Add[0][0]']    \n",
            " )                                                                                                \n",
            "                                                                                                  \n",
            " expanded_conv_6/expand/BatchNo  (None, 14, 14, 120)  480        ['expanded_conv_6/expand[0][0]'] \n",
            " rm (BatchNormalization)                                                                          \n",
            "                                                                                                  \n",
            " tf.__operators__.add_11 (TFOpL  (None, 14, 14, 120)  0          ['expanded_conv_6/expand/BatchNor\n",
            " ambda)                                                          m[0][0]']                        \n",
            "                                                                                                  \n",
            " re_lu_16 (ReLU)                (None, 14, 14, 120)  0           ['tf.__operators__.add_11[0][0]']\n",
            "                                                                                                  \n",
            " tf.math.multiply_11 (TFOpLambd  (None, 14, 14, 120)  0          ['re_lu_16[0][0]']               \n",
            " a)                                                                                               \n",
            "                                                                                                  \n",
            " multiply_7 (Multiply)          (None, 14, 14, 120)  0           ['expanded_conv_6/expand/BatchNor\n",
            "                                                                 m[0][0]',                        \n",
            "                                                                  'tf.math.multiply_11[0][0]']    \n",
            "                                                                                                  \n",
            " expanded_conv_6/depthwise (Dep  (None, 14, 14, 120)  3000       ['multiply_7[0][0]']             \n",
            " thwiseConv2D)                                                                                    \n",
            "                                                                                                  \n",
            " expanded_conv_6/depthwise/Batc  (None, 14, 14, 120)  480        ['expanded_conv_6/depthwise[0][0]\n",
            " hNorm (BatchNormalization)                                      ']                               \n",
            "                                                                                                  \n",
            " tf.__operators__.add_12 (TFOpL  (None, 14, 14, 120)  0          ['expanded_conv_6/depthwise/Batch\n",
            " ambda)                                                          Norm[0][0]']                     \n",
            "                                                                                                  \n",
            " re_lu_17 (ReLU)                (None, 14, 14, 120)  0           ['tf.__operators__.add_12[0][0]']\n",
            "                                                                                                  \n",
            " tf.math.multiply_12 (TFOpLambd  (None, 14, 14, 120)  0          ['re_lu_17[0][0]']               \n",
            " a)                                                                                               \n",
            "                                                                                                  \n",
            " multiply_8 (Multiply)          (None, 14, 14, 120)  0           ['expanded_conv_6/depthwise/Batch\n",
            "                                                                 Norm[0][0]',                     \n",
            "                                                                  'tf.math.multiply_12[0][0]']    \n",
            "                                                                                                  \n",
            " expanded_conv_6/squeeze_excite  (None, 1, 1, 120)   0           ['multiply_8[0][0]']             \n",
            " /AvgPool (GlobalAveragePooling                                                                   \n",
            " 2D)                                                                                              \n",
            "                                                                                                  \n",
            " expanded_conv_6/squeeze_excite  (None, 1, 1, 32)    3872        ['expanded_conv_6/squeeze_excite/\n",
            " /Conv (Conv2D)                                                  AvgPool[0][0]']                  \n",
            "                                                                                                  \n",
            " expanded_conv_6/squeeze_excite  (None, 1, 1, 32)    0           ['expanded_conv_6/squeeze_excite/\n",
            " /Relu (ReLU)                                                    Conv[0][0]']                     \n",
            "                                                                                                  \n",
            " expanded_conv_6/squeeze_excite  (None, 1, 1, 120)   3960        ['expanded_conv_6/squeeze_excite/\n",
            " /Conv_1 (Conv2D)                                                Relu[0][0]']                     \n",
            "                                                                                                  \n",
            " tf.__operators__.add_13 (TFOpL  (None, 1, 1, 120)   0           ['expanded_conv_6/squeeze_excite/\n",
            " ambda)                                                          Conv_1[0][0]']                   \n",
            "                                                                                                  \n",
            " re_lu_18 (ReLU)                (None, 1, 1, 120)    0           ['tf.__operators__.add_13[0][0]']\n",
            "                                                                                                  \n",
            " tf.math.multiply_13 (TFOpLambd  (None, 1, 1, 120)   0           ['re_lu_18[0][0]']               \n",
            " a)                                                                                               \n",
            "                                                                                                  \n",
            " expanded_conv_6/squeeze_excite  (None, 14, 14, 120)  0          ['multiply_8[0][0]',             \n",
            " /Mul (Multiply)                                                  'tf.math.multiply_13[0][0]']    \n",
            "                                                                                                  \n",
            " expanded_conv_6/project (Conv2  (None, 14, 14, 48)  5760        ['expanded_conv_6/squeeze_excite/\n",
            " D)                                                              Mul[0][0]']                      \n",
            "                                                                                                  \n",
            " expanded_conv_6/project/BatchN  (None, 14, 14, 48)  192         ['expanded_conv_6/project[0][0]']\n",
            " orm (BatchNormalization)                                                                         \n",
            "                                                                                                  \n",
            " expanded_conv_7/expand (Conv2D  (None, 14, 14, 144)  6912       ['expanded_conv_6/project/BatchNo\n",
            " )                                                               rm[0][0]']                       \n",
            "                                                                                                  \n",
            " expanded_conv_7/expand/BatchNo  (None, 14, 14, 144)  576        ['expanded_conv_7/expand[0][0]'] \n",
            " rm (BatchNormalization)                                                                          \n",
            "                                                                                                  \n",
            " tf.__operators__.add_14 (TFOpL  (None, 14, 14, 144)  0          ['expanded_conv_7/expand/BatchNor\n",
            " ambda)                                                          m[0][0]']                        \n",
            "                                                                                                  \n",
            " re_lu_19 (ReLU)                (None, 14, 14, 144)  0           ['tf.__operators__.add_14[0][0]']\n",
            "                                                                                                  \n",
            " tf.math.multiply_14 (TFOpLambd  (None, 14, 14, 144)  0          ['re_lu_19[0][0]']               \n",
            " a)                                                                                               \n",
            "                                                                                                  \n",
            " multiply_9 (Multiply)          (None, 14, 14, 144)  0           ['expanded_conv_7/expand/BatchNor\n",
            "                                                                 m[0][0]',                        \n",
            "                                                                  'tf.math.multiply_14[0][0]']    \n",
            "                                                                                                  \n",
            " expanded_conv_7/depthwise (Dep  (None, 14, 14, 144)  3600       ['multiply_9[0][0]']             \n",
            " thwiseConv2D)                                                                                    \n",
            "                                                                                                  \n",
            " expanded_conv_7/depthwise/Batc  (None, 14, 14, 144)  576        ['expanded_conv_7/depthwise[0][0]\n",
            " hNorm (BatchNormalization)                                      ']                               \n",
            "                                                                                                  \n",
            " tf.__operators__.add_15 (TFOpL  (None, 14, 14, 144)  0          ['expanded_conv_7/depthwise/Batch\n",
            " ambda)                                                          Norm[0][0]']                     \n",
            "                                                                                                  \n",
            " re_lu_20 (ReLU)                (None, 14, 14, 144)  0           ['tf.__operators__.add_15[0][0]']\n",
            "                                                                                                  \n",
            " tf.math.multiply_15 (TFOpLambd  (None, 14, 14, 144)  0          ['re_lu_20[0][0]']               \n",
            " a)                                                                                               \n",
            "                                                                                                  \n",
            " multiply_10 (Multiply)         (None, 14, 14, 144)  0           ['expanded_conv_7/depthwise/Batch\n",
            "                                                                 Norm[0][0]',                     \n",
            "                                                                  'tf.math.multiply_15[0][0]']    \n",
            "                                                                                                  \n",
            " expanded_conv_7/squeeze_excite  (None, 1, 1, 144)   0           ['multiply_10[0][0]']            \n",
            " /AvgPool (GlobalAveragePooling                                                                   \n",
            " 2D)                                                                                              \n",
            "                                                                                                  \n",
            " expanded_conv_7/squeeze_excite  (None, 1, 1, 40)    5800        ['expanded_conv_7/squeeze_excite/\n",
            " /Conv (Conv2D)                                                  AvgPool[0][0]']                  \n",
            "                                                                                                  \n",
            " expanded_conv_7/squeeze_excite  (None, 1, 1, 40)    0           ['expanded_conv_7/squeeze_excite/\n",
            " /Relu (ReLU)                                                    Conv[0][0]']                     \n",
            "                                                                                                  \n",
            " expanded_conv_7/squeeze_excite  (None, 1, 1, 144)   5904        ['expanded_conv_7/squeeze_excite/\n",
            " /Conv_1 (Conv2D)                                                Relu[0][0]']                     \n",
            "                                                                                                  \n",
            " tf.__operators__.add_16 (TFOpL  (None, 1, 1, 144)   0           ['expanded_conv_7/squeeze_excite/\n",
            " ambda)                                                          Conv_1[0][0]']                   \n",
            "                                                                                                  \n",
            " re_lu_21 (ReLU)                (None, 1, 1, 144)    0           ['tf.__operators__.add_16[0][0]']\n",
            "                                                                                                  \n",
            " tf.math.multiply_16 (TFOpLambd  (None, 1, 1, 144)   0           ['re_lu_21[0][0]']               \n",
            " a)                                                                                               \n",
            "                                                                                                  \n",
            " expanded_conv_7/squeeze_excite  (None, 14, 14, 144)  0          ['multiply_10[0][0]',            \n",
            " /Mul (Multiply)                                                  'tf.math.multiply_16[0][0]']    \n",
            "                                                                                                  \n",
            " expanded_conv_7/project (Conv2  (None, 14, 14, 48)  6912        ['expanded_conv_7/squeeze_excite/\n",
            " D)                                                              Mul[0][0]']                      \n",
            "                                                                                                  \n",
            " expanded_conv_7/project/BatchN  (None, 14, 14, 48)  192         ['expanded_conv_7/project[0][0]']\n",
            " orm (BatchNormalization)                                                                         \n",
            "                                                                                                  \n",
            " expanded_conv_7/Add (Add)      (None, 14, 14, 48)   0           ['expanded_conv_6/project/BatchNo\n",
            "                                                                 rm[0][0]',                       \n",
            "                                                                  'expanded_conv_7/project/BatchNo\n",
            "                                                                 rm[0][0]']                       \n",
            "                                                                                                  \n",
            " expanded_conv_8/expand (Conv2D  (None, 14, 14, 288)  13824      ['expanded_conv_7/Add[0][0]']    \n",
            " )                                                                                                \n",
            "                                                                                                  \n",
            " expanded_conv_8/expand/BatchNo  (None, 14, 14, 288)  1152       ['expanded_conv_8/expand[0][0]'] \n",
            " rm (BatchNormalization)                                                                          \n",
            "                                                                                                  \n",
            " tf.__operators__.add_17 (TFOpL  (None, 14, 14, 288)  0          ['expanded_conv_8/expand/BatchNor\n",
            " ambda)                                                          m[0][0]']                        \n",
            "                                                                                                  \n",
            " re_lu_22 (ReLU)                (None, 14, 14, 288)  0           ['tf.__operators__.add_17[0][0]']\n",
            "                                                                                                  \n",
            " tf.math.multiply_17 (TFOpLambd  (None, 14, 14, 288)  0          ['re_lu_22[0][0]']               \n",
            " a)                                                                                               \n",
            "                                                                                                  \n",
            " multiply_11 (Multiply)         (None, 14, 14, 288)  0           ['expanded_conv_8/expand/BatchNor\n",
            "                                                                 m[0][0]',                        \n",
            "                                                                  'tf.math.multiply_17[0][0]']    \n",
            "                                                                                                  \n",
            " expanded_conv_8/depthwise/pad   (None, 17, 17, 288)  0          ['multiply_11[0][0]']            \n",
            " (ZeroPadding2D)                                                                                  \n",
            "                                                                                                  \n",
            " expanded_conv_8/depthwise (Dep  (None, 7, 7, 288)   7200        ['expanded_conv_8/depthwise/pad[0\n",
            " thwiseConv2D)                                                   ][0]']                           \n",
            "                                                                                                  \n",
            " expanded_conv_8/depthwise/Batc  (None, 7, 7, 288)   1152        ['expanded_conv_8/depthwise[0][0]\n",
            " hNorm (BatchNormalization)                                      ']                               \n",
            "                                                                                                  \n",
            " tf.__operators__.add_18 (TFOpL  (None, 7, 7, 288)   0           ['expanded_conv_8/depthwise/Batch\n",
            " ambda)                                                          Norm[0][0]']                     \n",
            "                                                                                                  \n",
            " re_lu_23 (ReLU)                (None, 7, 7, 288)    0           ['tf.__operators__.add_18[0][0]']\n",
            "                                                                                                  \n",
            " tf.math.multiply_18 (TFOpLambd  (None, 7, 7, 288)   0           ['re_lu_23[0][0]']               \n",
            " a)                                                                                               \n",
            "                                                                                                  \n",
            " multiply_12 (Multiply)         (None, 7, 7, 288)    0           ['expanded_conv_8/depthwise/Batch\n",
            "                                                                 Norm[0][0]',                     \n",
            "                                                                  'tf.math.multiply_18[0][0]']    \n",
            "                                                                                                  \n",
            " expanded_conv_8/squeeze_excite  (None, 1, 1, 288)   0           ['multiply_12[0][0]']            \n",
            " /AvgPool (GlobalAveragePooling                                                                   \n",
            " 2D)                                                                                              \n",
            "                                                                                                  \n",
            " expanded_conv_8/squeeze_excite  (None, 1, 1, 72)    20808       ['expanded_conv_8/squeeze_excite/\n",
            " /Conv (Conv2D)                                                  AvgPool[0][0]']                  \n",
            "                                                                                                  \n",
            " expanded_conv_8/squeeze_excite  (None, 1, 1, 72)    0           ['expanded_conv_8/squeeze_excite/\n",
            " /Relu (ReLU)                                                    Conv[0][0]']                     \n",
            "                                                                                                  \n",
            " expanded_conv_8/squeeze_excite  (None, 1, 1, 288)   21024       ['expanded_conv_8/squeeze_excite/\n",
            " /Conv_1 (Conv2D)                                                Relu[0][0]']                     \n",
            "                                                                                                  \n",
            " tf.__operators__.add_19 (TFOpL  (None, 1, 1, 288)   0           ['expanded_conv_8/squeeze_excite/\n",
            " ambda)                                                          Conv_1[0][0]']                   \n",
            "                                                                                                  \n",
            " re_lu_24 (ReLU)                (None, 1, 1, 288)    0           ['tf.__operators__.add_19[0][0]']\n",
            "                                                                                                  \n",
            " tf.math.multiply_19 (TFOpLambd  (None, 1, 1, 288)   0           ['re_lu_24[0][0]']               \n",
            " a)                                                                                               \n",
            "                                                                                                  \n",
            " expanded_conv_8/squeeze_excite  (None, 7, 7, 288)   0           ['multiply_12[0][0]',            \n",
            " /Mul (Multiply)                                                  'tf.math.multiply_19[0][0]']    \n",
            "                                                                                                  \n",
            " expanded_conv_8/project (Conv2  (None, 7, 7, 96)    27648       ['expanded_conv_8/squeeze_excite/\n",
            " D)                                                              Mul[0][0]']                      \n",
            "                                                                                                  \n",
            " expanded_conv_8/project/BatchN  (None, 7, 7, 96)    384         ['expanded_conv_8/project[0][0]']\n",
            " orm (BatchNormalization)                                                                         \n",
            "                                                                                                  \n",
            " expanded_conv_9/expand (Conv2D  (None, 7, 7, 576)   55296       ['expanded_conv_8/project/BatchNo\n",
            " )                                                               rm[0][0]']                       \n",
            "                                                                                                  \n",
            " expanded_conv_9/expand/BatchNo  (None, 7, 7, 576)   2304        ['expanded_conv_9/expand[0][0]'] \n",
            " rm (BatchNormalization)                                                                          \n",
            "                                                                                                  \n",
            " tf.__operators__.add_20 (TFOpL  (None, 7, 7, 576)   0           ['expanded_conv_9/expand/BatchNor\n",
            " ambda)                                                          m[0][0]']                        \n",
            "                                                                                                  \n",
            " re_lu_25 (ReLU)                (None, 7, 7, 576)    0           ['tf.__operators__.add_20[0][0]']\n",
            "                                                                                                  \n",
            " tf.math.multiply_20 (TFOpLambd  (None, 7, 7, 576)   0           ['re_lu_25[0][0]']               \n",
            " a)                                                                                               \n",
            "                                                                                                  \n",
            " multiply_13 (Multiply)         (None, 7, 7, 576)    0           ['expanded_conv_9/expand/BatchNor\n",
            "                                                                 m[0][0]',                        \n",
            "                                                                  'tf.math.multiply_20[0][0]']    \n",
            "                                                                                                  \n",
            " expanded_conv_9/depthwise (Dep  (None, 7, 7, 576)   14400       ['multiply_13[0][0]']            \n",
            " thwiseConv2D)                                                                                    \n",
            "                                                                                                  \n",
            " expanded_conv_9/depthwise/Batc  (None, 7, 7, 576)   2304        ['expanded_conv_9/depthwise[0][0]\n",
            " hNorm (BatchNormalization)                                      ']                               \n",
            "                                                                                                  \n",
            " tf.__operators__.add_21 (TFOpL  (None, 7, 7, 576)   0           ['expanded_conv_9/depthwise/Batch\n",
            " ambda)                                                          Norm[0][0]']                     \n",
            "                                                                                                  \n",
            " re_lu_26 (ReLU)                (None, 7, 7, 576)    0           ['tf.__operators__.add_21[0][0]']\n",
            "                                                                                                  \n",
            " tf.math.multiply_21 (TFOpLambd  (None, 7, 7, 576)   0           ['re_lu_26[0][0]']               \n",
            " a)                                                                                               \n",
            "                                                                                                  \n",
            " multiply_14 (Multiply)         (None, 7, 7, 576)    0           ['expanded_conv_9/depthwise/Batch\n",
            "                                                                 Norm[0][0]',                     \n",
            "                                                                  'tf.math.multiply_21[0][0]']    \n",
            "                                                                                                  \n",
            " expanded_conv_9/squeeze_excite  (None, 1, 1, 576)   0           ['multiply_14[0][0]']            \n",
            " /AvgPool (GlobalAveragePooling                                                                   \n",
            " 2D)                                                                                              \n",
            "                                                                                                  \n",
            " expanded_conv_9/squeeze_excite  (None, 1, 1, 144)   83088       ['expanded_conv_9/squeeze_excite/\n",
            " /Conv (Conv2D)                                                  AvgPool[0][0]']                  \n",
            "                                                                                                  \n",
            " expanded_conv_9/squeeze_excite  (None, 1, 1, 144)   0           ['expanded_conv_9/squeeze_excite/\n",
            " /Relu (ReLU)                                                    Conv[0][0]']                     \n",
            "                                                                                                  \n",
            " expanded_conv_9/squeeze_excite  (None, 1, 1, 576)   83520       ['expanded_conv_9/squeeze_excite/\n",
            " /Conv_1 (Conv2D)                                                Relu[0][0]']                     \n",
            "                                                                                                  \n",
            " tf.__operators__.add_22 (TFOpL  (None, 1, 1, 576)   0           ['expanded_conv_9/squeeze_excite/\n",
            " ambda)                                                          Conv_1[0][0]']                   \n",
            "                                                                                                  \n",
            " re_lu_27 (ReLU)                (None, 1, 1, 576)    0           ['tf.__operators__.add_22[0][0]']\n",
            "                                                                                                  \n",
            " tf.math.multiply_22 (TFOpLambd  (None, 1, 1, 576)   0           ['re_lu_27[0][0]']               \n",
            " a)                                                                                               \n",
            "                                                                                                  \n",
            " expanded_conv_9/squeeze_excite  (None, 7, 7, 576)   0           ['multiply_14[0][0]',            \n",
            " /Mul (Multiply)                                                  'tf.math.multiply_22[0][0]']    \n",
            "                                                                                                  \n",
            " expanded_conv_9/project (Conv2  (None, 7, 7, 96)    55296       ['expanded_conv_9/squeeze_excite/\n",
            " D)                                                              Mul[0][0]']                      \n",
            "                                                                                                  \n",
            " expanded_conv_9/project/BatchN  (None, 7, 7, 96)    384         ['expanded_conv_9/project[0][0]']\n",
            " orm (BatchNormalization)                                                                         \n",
            "                                                                                                  \n",
            " expanded_conv_9/Add (Add)      (None, 7, 7, 96)     0           ['expanded_conv_8/project/BatchNo\n",
            "                                                                 rm[0][0]',                       \n",
            "                                                                  'expanded_conv_9/project/BatchNo\n",
            "                                                                 rm[0][0]']                       \n",
            "                                                                                                  \n",
            " expanded_conv_10/expand (Conv2  (None, 7, 7, 576)   55296       ['expanded_conv_9/Add[0][0]']    \n",
            " D)                                                                                               \n",
            "                                                                                                  \n",
            " expanded_conv_10/expand/BatchN  (None, 7, 7, 576)   2304        ['expanded_conv_10/expand[0][0]']\n",
            " orm (BatchNormalization)                                                                         \n",
            "                                                                                                  \n",
            " tf.__operators__.add_23 (TFOpL  (None, 7, 7, 576)   0           ['expanded_conv_10/expand/BatchNo\n",
            " ambda)                                                          rm[0][0]']                       \n",
            "                                                                                                  \n",
            " re_lu_28 (ReLU)                (None, 7, 7, 576)    0           ['tf.__operators__.add_23[0][0]']\n",
            "                                                                                                  \n",
            " tf.math.multiply_23 (TFOpLambd  (None, 7, 7, 576)   0           ['re_lu_28[0][0]']               \n",
            " a)                                                                                               \n",
            "                                                                                                  \n",
            " multiply_15 (Multiply)         (None, 7, 7, 576)    0           ['expanded_conv_10/expand/BatchNo\n",
            "                                                                 rm[0][0]',                       \n",
            "                                                                  'tf.math.multiply_23[0][0]']    \n",
            "                                                                                                  \n",
            " expanded_conv_10/depthwise (De  (None, 7, 7, 576)   14400       ['multiply_15[0][0]']            \n",
            " pthwiseConv2D)                                                                                   \n",
            "                                                                                                  \n",
            " expanded_conv_10/depthwise/Bat  (None, 7, 7, 576)   2304        ['expanded_conv_10/depthwise[0][0\n",
            " chNorm (BatchNormalization)                                     ]']                              \n",
            "                                                                                                  \n",
            " tf.__operators__.add_24 (TFOpL  (None, 7, 7, 576)   0           ['expanded_conv_10/depthwise/Batc\n",
            " ambda)                                                          hNorm[0][0]']                    \n",
            "                                                                                                  \n",
            " re_lu_29 (ReLU)                (None, 7, 7, 576)    0           ['tf.__operators__.add_24[0][0]']\n",
            "                                                                                                  \n",
            " tf.math.multiply_24 (TFOpLambd  (None, 7, 7, 576)   0           ['re_lu_29[0][0]']               \n",
            " a)                                                                                               \n",
            "                                                                                                  \n",
            " multiply_16 (Multiply)         (None, 7, 7, 576)    0           ['expanded_conv_10/depthwise/Batc\n",
            "                                                                 hNorm[0][0]',                    \n",
            "                                                                  'tf.math.multiply_24[0][0]']    \n",
            "                                                                                                  \n",
            " expanded_conv_10/squeeze_excit  (None, 1, 1, 576)   0           ['multiply_16[0][0]']            \n",
            " e/AvgPool (GlobalAveragePoolin                                                                   \n",
            " g2D)                                                                                             \n",
            "                                                                                                  \n",
            " expanded_conv_10/squeeze_excit  (None, 1, 1, 144)   83088       ['expanded_conv_10/squeeze_excite\n",
            " e/Conv (Conv2D)                                                 /AvgPool[0][0]']                 \n",
            "                                                                                                  \n",
            " expanded_conv_10/squeeze_excit  (None, 1, 1, 144)   0           ['expanded_conv_10/squeeze_excite\n",
            " e/Relu (ReLU)                                                   /Conv[0][0]']                    \n",
            "                                                                                                  \n",
            " expanded_conv_10/squeeze_excit  (None, 1, 1, 576)   83520       ['expanded_conv_10/squeeze_excite\n",
            " e/Conv_1 (Conv2D)                                               /Relu[0][0]']                    \n",
            "                                                                                                  \n",
            " tf.__operators__.add_25 (TFOpL  (None, 1, 1, 576)   0           ['expanded_conv_10/squeeze_excite\n",
            " ambda)                                                          /Conv_1[0][0]']                  \n",
            "                                                                                                  \n",
            " re_lu_30 (ReLU)                (None, 1, 1, 576)    0           ['tf.__operators__.add_25[0][0]']\n",
            "                                                                                                  \n",
            " tf.math.multiply_25 (TFOpLambd  (None, 1, 1, 576)   0           ['re_lu_30[0][0]']               \n",
            " a)                                                                                               \n",
            "                                                                                                  \n",
            " expanded_conv_10/squeeze_excit  (None, 7, 7, 576)   0           ['multiply_16[0][0]',            \n",
            " e/Mul (Multiply)                                                 'tf.math.multiply_25[0][0]']    \n",
            "                                                                                                  \n",
            " expanded_conv_10/project (Conv  (None, 7, 7, 96)    55296       ['expanded_conv_10/squeeze_excite\n",
            " 2D)                                                             /Mul[0][0]']                     \n",
            "                                                                                                  \n",
            " expanded_conv_10/project/Batch  (None, 7, 7, 96)    384         ['expanded_conv_10/project[0][0]'\n",
            " Norm (BatchNormalization)                                       ]                                \n",
            "                                                                                                  \n",
            " expanded_conv_10/Add (Add)     (None, 7, 7, 96)     0           ['expanded_conv_9/Add[0][0]',    \n",
            "                                                                  'expanded_conv_10/project/BatchN\n",
            "                                                                 orm[0][0]']                      \n",
            "                                                                                                  \n",
            " Conv_1 (Conv2D)                (None, 7, 7, 576)    55296       ['expanded_conv_10/Add[0][0]']   \n",
            "                                                                                                  \n",
            " Conv_1/BatchNorm (BatchNormali  (None, 7, 7, 576)   2304        ['Conv_1[0][0]']                 \n",
            " zation)                                                                                          \n",
            "                                                                                                  \n",
            " tf.__operators__.add_26 (TFOpL  (None, 7, 7, 576)   0           ['Conv_1/BatchNorm[0][0]']       \n",
            " ambda)                                                                                           \n",
            "                                                                                                  \n",
            " re_lu_31 (ReLU)                (None, 7, 7, 576)    0           ['tf.__operators__.add_26[0][0]']\n",
            "                                                                                                  \n",
            " tf.math.multiply_26 (TFOpLambd  (None, 7, 7, 576)   0           ['re_lu_31[0][0]']               \n",
            " a)                                                                                               \n",
            "                                                                                                  \n",
            " multiply_17 (Multiply)         (None, 7, 7, 576)    0           ['Conv_1/BatchNorm[0][0]',       \n",
            "                                                                  'tf.math.multiply_26[0][0]']    \n",
            "                                                                                                  \n",
            " global_average_pooling2d_3 (Gl  (None, 576)         0           ['multiply_17[0][0]']            \n",
            " obalAveragePooling2D)                                                                            \n",
            "                                                                                                  \n",
            "==================================================================================================\n",
            "Total params: 939,120\n",
            "Trainable params: 0\n",
            "Non-trainable params: 939,120\n",
            "__________________________________________________________________________________________________\n"
          ]
        }
      ]
    },
    {
      "cell_type": "code",
      "source": [
        "\n",
        "\n",
        "\n",
        "\n",
        "IMAGE_SHAPE=(224, 224, 3)\n",
        "\n",
        "vgg16 = tf.keras.applications.vgg16.VGG16(\n",
        "    include_top=False,\n",
        "    weights='imagenet',\n",
        "    input_tensor=None,\n",
        "    input_shape=None,\n",
        "    pooling=None,\n",
        "    classes=1000,\n",
        "    classifier_activation='softmax'\n",
        ") \n",
        "vgg16.trainable=False\n",
        "\n",
        "x = vgg16.output\n",
        "x = GlobalAveragePooling2D()(x)\n",
        "\n",
        "modified_vgg16 = Model(inputs=vgg16.input, outputs=x)\n",
        "\n",
        "\n",
        "# modified_vgg16.summary()\n",
        "\n",
        "img_preprocess(dataset, imsize =IMAGE_SHAPE, model = modified_vgg16)\n",
        "# 뒤에 각모델마다  호출할때 모델 피팅 따로적용해야함"
      ],
      "metadata": {
        "id": "IZu3z5D_ww0S",
        "outputId": "c0671c64-ccdb-4e1f-b102-d5b276719b0b",
        "colab": {
          "base_uri": "https://localhost:8080/"
        }
      },
      "id": "IZu3z5D_ww0S",
      "execution_count": 43,
      "outputs": [
        {
          "output_type": "stream",
          "name": "stdout",
          "text": [
            "Model: \"model_2\"\n",
            "_________________________________________________________________\n",
            " Layer (type)                Output Shape              Param #   \n",
            "=================================================================\n",
            " input_4 (InputLayer)        [(None, None, None, 3)]   0         \n",
            "                                                                 \n",
            " block1_conv1 (Conv2D)       (None, None, None, 64)    1792      \n",
            "                                                                 \n",
            " block1_conv2 (Conv2D)       (None, None, None, 64)    36928     \n",
            "                                                                 \n",
            " block1_pool (MaxPooling2D)  (None, None, None, 64)    0         \n",
            "                                                                 \n",
            " block2_conv1 (Conv2D)       (None, None, None, 128)   73856     \n",
            "                                                                 \n",
            " block2_conv2 (Conv2D)       (None, None, None, 128)   147584    \n",
            "                                                                 \n",
            " block2_pool (MaxPooling2D)  (None, None, None, 128)   0         \n",
            "                                                                 \n",
            " block3_conv1 (Conv2D)       (None, None, None, 256)   295168    \n",
            "                                                                 \n",
            " block3_conv2 (Conv2D)       (None, None, None, 256)   590080    \n",
            "                                                                 \n",
            " block3_conv3 (Conv2D)       (None, None, None, 256)   590080    \n",
            "                                                                 \n",
            " block3_pool (MaxPooling2D)  (None, None, None, 256)   0         \n",
            "                                                                 \n",
            " block4_conv1 (Conv2D)       (None, None, None, 512)   1180160   \n",
            "                                                                 \n",
            " block4_conv2 (Conv2D)       (None, None, None, 512)   2359808   \n",
            "                                                                 \n",
            " block4_conv3 (Conv2D)       (None, None, None, 512)   2359808   \n",
            "                                                                 \n",
            " block4_pool (MaxPooling2D)  (None, None, None, 512)   0         \n",
            "                                                                 \n",
            " block5_conv1 (Conv2D)       (None, None, None, 512)   2359808   \n",
            "                                                                 \n",
            " block5_conv2 (Conv2D)       (None, None, None, 512)   2359808   \n",
            "                                                                 \n",
            " block5_conv3 (Conv2D)       (None, None, None, 512)   2359808   \n",
            "                                                                 \n",
            " block5_pool (MaxPooling2D)  (None, None, None, 512)   0         \n",
            "                                                                 \n",
            " global_average_pooling2d_2   (None, 512)              0         \n",
            " (GlobalAveragePooling2D)                                        \n",
            "                                                                 \n",
            "=================================================================\n",
            "Total params: 14,714,688\n",
            "Trainable params: 0\n",
            "Non-trainable params: 14,714,688\n",
            "_________________________________________________________________\n"
          ]
        }
      ]
    },
    {
      "cell_type": "code",
      "source": [
        "\n",
        "print(\"Image features length: \", len(image_features))\n"
      ],
      "metadata": {
        "id": "5uWAcCkD628m",
        "colab": {
          "base_uri": "https://localhost:8080/"
        },
        "outputId": "0e4e818a-6c08-4794-f350-1a71f96b13b8"
      },
      "id": "5uWAcCkD628m",
      "execution_count": null,
      "outputs": [
        {
          "output_type": "stream",
          "name": "stdout",
          "text": [
            "Image features length:  0\n"
          ]
        }
      ]
    },
    {
      "cell_type": "code",
      "source": [
        "\n",
        "# Get the tokenizer's configuration and weights\n",
        "# image_features\n",
        "\n",
        "# 각자 Sampletrain 별로 저장하기 \n",
        "# ex) train\n",
        "\n",
        "with open(f\"my_feature_{len(image_features)}_{my_part}.pkl\", \"wb\") as f:\n",
        "    pickle.dump({\"feature\": image_features}, f)"
      ],
      "metadata": {
        "id": "cFzcgQml63E6"
      },
      "id": "cFzcgQml63E6",
      "execution_count": null,
      "outputs": []
    },
    {
      "cell_type": "code",
      "source": [
        "# model = Xception(include_top=False, pooling='avg',  weights='imagenet')\n",
        "# model.summary()"
      ],
      "metadata": {
        "id": "cNajsOan63QQ"
      },
      "id": "cNajsOan63QQ",
      "execution_count": null,
      "outputs": []
    },
    {
      "cell_type": "code",
      "source": [],
      "metadata": {
        "id": "UU8OYDAEGtM4"
      },
      "id": "UU8OYDAEGtM4",
      "execution_count": null,
      "outputs": []
    },
    {
      "cell_type": "code",
      "execution_count": null,
      "id": "6ixhR6SIeNCL",
      "metadata": {
        "id": "6ixhR6SIeNCL"
      },
      "outputs": [],
      "source": [
        "# mykeys = list(image_features.keys())\n",
        "# my_key = mykeys[0]\n",
        "# image_features[my_key].shape"
      ]
    },
    {
      "cell_type": "code",
      "execution_count": null,
      "id": "1a20379f",
      "metadata": {
        "execution": {
          "iopub.execute_input": "2022-09-14T20:49:45.612865Z",
          "iopub.status.busy": "2022-09-14T20:49:45.612355Z",
          "iopub.status.idle": "2022-09-14T20:49:45.617402Z",
          "shell.execute_reply": "2022-09-14T20:49:45.616442Z"
        },
        "id": "1a20379f",
        "papermill": {
          "duration": 0.081132,
          "end_time": "2022-09-14T20:49:45.619701",
          "exception": false,
          "start_time": "2022-09-14T20:49:45.538569",
          "status": "completed"
        },
        "tags": []
      },
      "outputs": [],
      "source": [
        "\n",
        "# from keras.utils import plot_model\n",
        "\n",
        "# model.summary()\n",
        "\n",
        "# plot_model(model, to_file='model.png')\n"
      ]
    },
    {
      "cell_type": "markdown",
      "id": "4edac401",
      "metadata": {
        "id": "4edac401",
        "papermill": {
          "duration": 0.073009,
          "end_time": "2022-09-14T20:49:45.763223",
          "exception": false,
          "start_time": "2022-09-14T20:49:45.690214",
          "status": "completed"
        },
        "tags": []
      },
      "source": [
        "Here, I have found the max_length among the captions which will help to pad each caption with the same length."
      ]
    },
    {
      "cell_type": "code",
      "execution_count": null,
      "id": "ac7b96e8",
      "metadata": {
        "colab": {
          "base_uri": "https://localhost:8080/"
        },
        "execution": {
          "iopub.execute_input": "2022-09-14T20:49:45.911606Z",
          "iopub.status.busy": "2022-09-14T20:49:45.911083Z",
          "iopub.status.idle": "2022-09-14T20:49:45.968674Z",
          "shell.execute_reply": "2022-09-14T20:49:45.967614Z"
        },
        "id": "ac7b96e8",
        "outputId": "ec7549b4-a634-40e4-86a1-6bc0efe1dc07",
        "papermill": {
          "duration": 0.134647,
          "end_time": "2022-09-14T20:49:45.970919",
          "exception": false,
          "start_time": "2022-09-14T20:49:45.836272",
          "status": "completed"
        },
        "tags": []
      },
      "outputs": [
        {
          "output_type": "execute_result",
          "data": {
            "text/plain": [
              "49"
            ]
          },
          "metadata": {},
          "execution_count": 65
        }
      ],
      "source": [
        "def dict_to_list(descriptions):\n",
        "    all_desc = []\n",
        "    for key in descriptions.keys():\n",
        "        [all_desc.append(d) for d in descriptions[key]]\n",
        "    return all_desc\n",
        "\n",
        "def max_length(descriptions):\n",
        "    desc_list = dict_to_list(descriptions)\n",
        "    return max(len(d.split()) for d in desc_list)\n",
        "    \n",
        "max_length = max_length(dataset)\n",
        "max_length"
      ]
    },
    {
      "cell_type": "markdown",
      "id": "ce595c87",
      "metadata": {
        "id": "ce595c87",
        "papermill": {
          "duration": 0.07619,
          "end_time": "2022-09-14T20:49:46.118676",
          "exception": false,
          "start_time": "2022-09-14T20:49:46.042486",
          "status": "completed"
        },
        "tags": []
      },
      "source": [
        "# Make a Data Generator\n",
        "\n",
        "We have to train our model on 6221 images and each image will contain 2048 length feature vector and caption is also represented as numbers. This amount of data for 6221 images is not possible to hold into memory so we will be using a generator method that will yield batches.\n",
        "\n",
        "**The generator will yield the input and output sequence.**\n",
        "\n",
        "##### For example:\n",
        "\n",
        "The input to our model is [x1, x2] and the output will be y, where x1 is the 2048 feature vector of that image, x2 is the input text sequence and y is the output text sequence that the model has to predict.\n",
        "\n",
        "![Capture.PNG](attachment:abfdd0f4-ece1-4fe8-a9db-4060a31f10fd.PNG)"
      ]
    },
    {
      "cell_type": "code",
      "execution_count": null,
      "id": "6bf62f78",
      "metadata": {
        "execution": {
          "iopub.execute_input": "2022-09-14T20:49:46.267155Z",
          "iopub.status.busy": "2022-09-14T20:49:46.266616Z",
          "iopub.status.idle": "2022-09-14T20:49:46.277061Z",
          "shell.execute_reply": "2022-09-14T20:49:46.276065Z"
        },
        "id": "6bf62f78",
        "papermill": {
          "duration": 0.086813,
          "end_time": "2022-09-14T20:49:46.279283",
          "exception": false,
          "start_time": "2022-09-14T20:49:46.192470",
          "status": "completed"
        },
        "tags": []
      },
      "outputs": [],
      "source": [
        "#create input-output sequence pairs from the image description.\n",
        "\n",
        "def data_generator(descriptions, features, tokenizer, max_length):\n",
        "    while 1:\n",
        "        for key, description_list in descriptions.items():\n",
        "\n",
        "            feature = features[key][0]\n",
        "            input_image, input_sequence, output_word = create_sequences(tokenizer, max_length, description_list, feature)\n",
        "            yield ([input_image, input_sequence], output_word)\n",
        "            \n",
        "\n",
        "def create_sequences(tokenizer, max_length, desc_list, feature):\n",
        "    X1, X2, y = list(), list(), list()\n",
        "    \n",
        "    # walk through each description for the image\n",
        "    for desc in desc_list:\n",
        "        \n",
        "        # encode the sequence\n",
        "        seq = tokenizer.texts_to_sequences([desc])[0]\n",
        "        \n",
        "        # split one sequence into multiple X,y pairs\n",
        "        for i in range(1, len(seq)):\n",
        "            \n",
        "            # split into input and output pair\n",
        "            in_seq, out_seq = seq[:i], seq[i]\n",
        "            \n",
        "            # pad input sequence\n",
        "            in_seq = pad_sequences([in_seq], maxlen=max_length)[0]\n",
        "            \n",
        "            # encode output sequence\n",
        "            out_seq = to_categorical([out_seq], num_classes=total_words)[0]\n",
        "            \n",
        "            # store\n",
        "            X1.append(feature) # image features\n",
        "            X2.append(in_seq)  # Caption input\n",
        "            y.append(out_seq)  # Caption output\n",
        "            \n",
        "    return np.array(X1), np.array(X2), np.array(y)\n"
      ]
    },
    {
      "cell_type": "code",
      "execution_count": null,
      "id": "YMAVVQ7kJnIp",
      "metadata": {
        "id": "YMAVVQ7kJnIp"
      },
      "outputs": [],
      "source": [
        "# 멈춰!!"
      ]
    },
    {
      "cell_type": "markdown",
      "source": [
        "#**여기까지만 돌리기 (Feature), 뒤는 하고싶다면,  디버그해야함**"
      ],
      "metadata": {
        "id": "tLaKlKDRZGjW"
      },
      "id": "tLaKlKDRZGjW"
    },
    {
      "cell_type": "markdown",
      "source": [
        "#**여기까지만 돌리기 (Feature), 뒤는 하고싶다면,  디버그해야함**"
      ],
      "metadata": {
        "id": "UvAIlKXWZDW7"
      },
      "id": "UvAIlKXWZDW7"
    },
    {
      "cell_type": "markdown",
      "source": [
        "#**여기까지만 돌리기 (Feature), 뒤는 하고싶다면,  디버그해야함**"
      ],
      "metadata": {
        "id": "XH_egocnYvFG"
      },
      "id": "XH_egocnYvFG"
    },
    {
      "cell_type": "markdown",
      "id": "91c23c73",
      "metadata": {
        "id": "91c23c73",
        "papermill": {
          "duration": 0.072331,
          "end_time": "2022-09-14T20:49:46.422204",
          "exception": false,
          "start_time": "2022-09-14T20:49:46.349873",
          "status": "completed"
        },
        "tags": []
      },
      "source": [
        "# Define CNN-LSTM Model\n",
        "\n",
        "#### CNN (Convolution Neural Network)\n",
        "\n",
        "Technically, deep learning CNN models to train and test, each input image will pass it through a series of convolution layers with filters (Kernals), Pooling, fully connected layers (FC) and apply Softmax function to classify an object with probabilistic values between 0 and 1.\n",
        "\n",
        "\n",
        "#### [Click here](https://www.analyticsvidhya.com/blog/2018/12/guide-convolutional-neural-network-cnn/) to know more about CNN.\n",
        "\n",
        "<br>\n",
        "\n",
        "#### LSTM (Long short-term memory)\n",
        "\n",
        "\n",
        "Long Short-Term Memory (LSTM) networks are a type of recurrent neural network capable of learning order dependence in sequence prediction problems. This is a behavior required in complex problem domains like machine translation, speech recognition, and more. LSTMs are a complex area of deep learning\n",
        "\n",
        "\n",
        "#### [Click here](https://www.analyticsvidhya.com/blog/2017/12/fundamentals-of-deep-learning-introduction-to-lstm/) to know more about LSTM.\n"
      ]
    },
    {
      "cell_type": "markdown",
      "id": "64c7770e",
      "metadata": {
        "id": "64c7770e",
        "papermill": {
          "duration": 0.075212,
          "end_time": "2022-09-14T20:49:46.571168",
          "exception": false,
          "start_time": "2022-09-14T20:49:46.495956",
          "status": "completed"
        },
        "tags": []
      },
      "source": [
        "# Model Architechture \n",
        "\n",
        "### CNN-LSTM model:\n",
        "\n",
        "- CNN is used for extracting features from the image. We will use the pre-trained model Xception.\n",
        "- LSTM will use the information from CNN to help generate a description of the image.\n",
        "\n",
        "\n",
        "### Model structure\n",
        "\n",
        "![model.png](attachment:5e082228-cfa2-49fe-9526-fd31a45a9868.png)\n",
        "\n",
        "\n",
        "* The feature extracted from the image has a size of 2048, with a dense layer, we will reduce the dimensions to 256 nodes.<br> \n",
        "* An embedding layer will handle the text input,followed by the LSTM layer.\n",
        "<br>\n",
        "* Then By merging the output from the above two layers, we will process by the dense layer to make the final prediction. The final layer will contain the number of nodes equal to our vocabulary size."
      ]
    },
    {
      "cell_type": "code",
      "execution_count": null,
      "id": "a51fd454",
      "metadata": {
        "execution": {
          "iopub.execute_input": "2022-09-14T20:49:46.719185Z",
          "iopub.status.busy": "2022-09-14T20:49:46.718566Z",
          "iopub.status.idle": "2022-09-14T20:49:46.729579Z",
          "shell.execute_reply": "2022-09-14T20:49:46.728638Z"
        },
        "id": "a51fd454",
        "papermill": {
          "duration": 0.08795,
          "end_time": "2022-09-14T20:49:46.731703",
          "exception": false,
          "start_time": "2022-09-14T20:49:46.643753",
          "status": "completed"
        },
        "tags": []
      },
      "outputs": [],
      "source": [
        "from tensorflow.keras.utils import plot_model\n",
        "\n",
        "# define the captioning model\n",
        "def define_model(total_words, max_length):\n",
        "\n",
        "    # features from the CNN model squeezed from 2048 to 256 nodes\n",
        "    inputs1 = Input(shape=(2048,))\n",
        "    fe1 = Dropout(0.5)(inputs1)\n",
        "    fe2 = Dense(256, activation='relu')(fe1)\n",
        "\n",
        "    # LSTM sequence model\n",
        "    inputs2 = Input(shape=(max_length,))\n",
        "    se1 = Embedding(total_words, 256, mask_zero=True)(inputs2)\n",
        "    se2 = Dropout(0.5)(se1)\n",
        "    se3 = LSTM(256)(se2)\n",
        "\n",
        "    # Merging both models\n",
        "    decoder1 = add([fe2, se3])\n",
        "    decoder2 = Dense(256, activation='relu')(decoder1)\n",
        "    outputs = Dense(total_words, activation='softmax')(decoder2)\n",
        "\n",
        "    # tie it together [image, seq] [word]\n",
        "    model = Model(inputs=[inputs1, inputs2], outputs=outputs)\n",
        "    model.compile(loss='categorical_crossentropy', optimizer='adam')\n",
        "\n",
        "    # summarize model\n",
        "    print(model.summary())\n",
        "    plot_model(model, to_file='model.png', show_shapes=True)\n",
        "\n",
        "    return model\n",
        "\n",
        "\n",
        "# # define the captioning model\n",
        "# def define_model2(total_words, max_length):\n",
        "\n",
        "#     # features from the CNN model squeezed from 2048 to 256 nodes\n",
        "\n",
        "#     # inputs1 = Input(shape=(2048,))\n",
        "\n",
        "#     # remove code below \n",
        "\n",
        "#     # cnnmodel = CNN_Encoder()\n",
        "#     inputs1 =  CNN_Encoder()[1]\n",
        "\n",
        "#     fe1 = Dropout(0.5)(inputs1)\n",
        "#     fe2 = Dense(256, activation='relu')(fe1)\n",
        "\n",
        "#     # LSTM sequence model\n",
        "#     inputs2 = Input(shape=(max_length,))\n",
        "#     se1 = Embedding(total_words, 256, mask_zero=True)(inputs2)\n",
        "#     se2 = Dropout(0.5)(se1)\n",
        "#     se3 = LSTM(256)(se2)\n",
        "\n",
        "#     # Merging both models\n",
        "#     decoder1 = add([fe2, se3])\n",
        "#     decoder2 = Dense(256, activation='relu')(decoder1)\n",
        "#     outputs = Dense(total_words, activation='softmax')(decoder2)\n",
        "\n",
        "#     # tie it together [image, seq] [word]\n",
        "#     model = Model(inputs=[inputs1, inputs2], outputs=outputs)\n",
        "#     model.compile(loss='categorical_crossentropy', optimizer='adam')\n",
        "\n",
        "#     # summarize model\n",
        "#     print(model.summary())\n",
        "#     plot_model(model, to_file='model.png', show_shapes=True)\n",
        "\n",
        "#     return model\n"
      ]
    },
    {
      "cell_type": "code",
      "execution_count": null,
      "id": "LRDkrqQcl8P7",
      "metadata": {
        "id": "LRDkrqQcl8P7",
        "colab": {
          "base_uri": "https://localhost:8080/"
        },
        "outputId": "4d2a6751-b85a-4760-96ad-42b9277f2605"
      },
      "outputs": [
        {
          "output_type": "stream",
          "name": "stdout",
          "text": [
            "Model: \"model\"\n",
            "__________________________________________________________________________________________________\n",
            " Layer (type)                   Output Shape         Param #     Connected to                     \n",
            "==================================================================================================\n",
            " input_3 (InputLayer)           [(None, 49)]         0           []                               \n",
            "                                                                                                  \n",
            " input_2 (InputLayer)           [(None, 2048)]       0           []                               \n",
            "                                                                                                  \n",
            " embedding (Embedding)          (None, 49, 256)      2502144     ['input_3[0][0]']                \n",
            "                                                                                                  \n",
            " dropout (Dropout)              (None, 2048)         0           ['input_2[0][0]']                \n",
            "                                                                                                  \n",
            " dropout_1 (Dropout)            (None, 49, 256)      0           ['embedding[0][0]']              \n",
            "                                                                                                  \n",
            " dense (Dense)                  (None, 256)          524544      ['dropout[0][0]']                \n",
            "                                                                                                  \n",
            " lstm (LSTM)                    (None, 256)          525312      ['dropout_1[0][0]']              \n",
            "                                                                                                  \n",
            " add_12 (Add)                   (None, 256)          0           ['dense[0][0]',                  \n",
            "                                                                  'lstm[0][0]']                   \n",
            "                                                                                                  \n",
            " dense_1 (Dense)                (None, 256)          65792       ['add_12[0][0]']                 \n",
            "                                                                                                  \n",
            " dense_2 (Dense)                (None, 9774)         2511918     ['dense_1[0][0]']                \n",
            "                                                                                                  \n",
            "==================================================================================================\n",
            "Total params: 6,129,710\n",
            "Trainable params: 6,129,710\n",
            "Non-trainable params: 0\n",
            "__________________________________________________________________________________________________\n",
            "None\n"
          ]
        }
      ],
      "source": [
        "# train our model\n",
        "import os\n",
        "\n",
        "os.mkdir(\"models\")\n",
        "\n",
        "# testsample_dict\n",
        "model = define_model(total_words, max_length)\n"
      ]
    },
    {
      "cell_type": "code",
      "execution_count": null,
      "id": "R01G8mxSmW2i",
      "metadata": {
        "id": "R01G8mxSmW2i"
      },
      "outputs": [],
      "source": [
        "# model2 = define_model2(total_words, max_length)\n"
      ]
    },
    {
      "cell_type": "code",
      "execution_count": null,
      "id": "G8KvAx8818yD",
      "metadata": {
        "id": "G8KvAx8818yD"
      },
      "outputs": [],
      "source": [
        "# def process_an_image(img, imsize = (299,299)):\n",
        "\n",
        "#   # io.imread -> image \"img 파일은 http 주소 형태\" #\n",
        "#   # \n",
        "\n",
        "# # for img in tqdm(dataset.keys()):\n",
        "#     image = io.imread(img)\n",
        "#     if image.ndim != 3:\n",
        "#         image = cv2.cvtColor(image,cv2.COLOR_GRAY2RGB)\n",
        "    \n",
        "#     # Resize each image size 299 x 299\n",
        "#     image = cv2.resize(image,imsize)\n",
        "#     image = np.expand_dims(image, axis=0)\n",
        "    \n",
        "#     # Normalize image pixels\n",
        "#     image = image/127.5\n",
        "#     image = image - 1.0\n",
        "#     return image\n",
        "#     # # Extract features from image\n",
        "#     # feature = model.predict(image)\n",
        "#     # image_features[img] = feature\n"
      ]
    },
    {
      "cell_type": "code",
      "execution_count": null,
      "id": "kY3GPGIdszqh",
      "metadata": {
        "id": "kY3GPGIdszqh"
      },
      "outputs": [],
      "source": [
        "\n",
        "# # shape = [(None,2048),(None,51)]\n",
        "\n",
        "# # model = Model(inputs=[inputs1, inputs2], outputs=outputs) # img, seq, \n",
        "\n",
        "# # inputs1=  train_inputs ???\n",
        "\n",
        "# for img_links in tqdm(list(dataset.keys())[:10]) : \n",
        "#   process_an_image(img_links)\n",
        "\n",
        "\n",
        "# # inputs2 = seq_inputs ?? 어떻게 수정\n",
        "\n",
        "\n",
        "# # inputs1, inputs2 관계?\n",
        "\n",
        "\n",
        "# # input_data =\n",
        "\n",
        "# # model2.fit(input_data,epochs=1, steps_per_epoch= steps, verbose=1)"
      ]
    },
    {
      "cell_type": "code",
      "execution_count": null,
      "id": "W3c9NeiQ17n0",
      "metadata": {
        "id": "W3c9NeiQ17n0"
      },
      "outputs": [],
      "source": []
    },
    {
      "cell_type": "code",
      "execution_count": null,
      "id": "20oSjQJ_u9vE",
      "metadata": {
        "id": "20oSjQJ_u9vE"
      },
      "outputs": [],
      "source": []
    },
    {
      "cell_type": "code",
      "execution_count": null,
      "id": "3xCzfvQjwRng",
      "metadata": {
        "id": "3xCzfvQjwRng"
      },
      "outputs": [],
      "source": [
        "# # an_image = process_an_image(\"http://images.cocodataset.org/train2017/000000156510.jpg\")\n",
        "\n",
        "\n",
        "# a_key = list(dataset.keys())[0]\n",
        "# img_location= a_key\n",
        "# captions = dataset[a_key]\n",
        "# print(img_location,\"\\n\", captions)\n",
        "\n",
        "\n",
        "# imgdata = process_an_image(a_key)\n",
        "\n",
        "# print(imgdata.shape)\n",
        "\n",
        "# plt.imshow(imgdata[0])\n"
      ]
    },
    {
      "cell_type": "code",
      "execution_count": null,
      "id": "5ED8RUqN3O7L",
      "metadata": {
        "id": "5ED8RUqN3O7L"
      },
      "outputs": [],
      "source": [
        "# def create_sequences2(tokenizer, max_length, desc_list):\n",
        "#   X2, y = list(), list()\n",
        "    \n",
        "#     # walk through each description for the image\n",
        "#   for desc in desc_list:\n",
        "        \n",
        "#         # encode the sequence\n",
        "#     seq = tokenizer.texts_to_sequences([desc])[0]\n",
        "\n",
        "#     # split one sequence into multiple X,y pairs\n",
        "#     for i in range(1, len(seq)):\n",
        "\n",
        "#       # split into input and output pair\n",
        "#       in_seq, out_seq = seq[:i], seq[i]\n",
        "\n",
        "#       # pad input sequence\n",
        "#       in_seq = pad_sequences([in_seq], maxlen=max_length)[0]\n",
        "\n",
        "#       # encode output sequence\n",
        "#       out_seq = to_categorical([out_seq], num_classes=total_words)[0]\n",
        "\n",
        "#       # store\n",
        "\n",
        "#       X2.append(in_seq)  # Caption input\n",
        "#       y.append(out_seq)  # Caption output\n",
        "\n",
        "#   return  np.array(X2), np.array(y)\n",
        "\n",
        "\n",
        "# create_sequences2(tokenizer, max_length, captions)\n"
      ]
    },
    {
      "cell_type": "code",
      "execution_count": null,
      "id": "UjlIIS1y4Xto",
      "metadata": {
        "id": "UjlIIS1y4Xto"
      },
      "outputs": [],
      "source": [
        "\n",
        "# def data_generator2(descriptions, tokenizer, max_length):\n",
        "#   while 1:\n",
        "#     for key, description_list in descriptions.items():\n",
        "#       print(key,description_list)\n",
        "#       input_image = process_an_image(key)\n",
        "#       input_sequence, output_word = create_sequences2(tokenizer, max_length, description_list)\n",
        "#       print(input_image.shape, input_sequence.shape, output_word.shape)\n",
        "#     yield ([input_image, input_sequence], output_word)\n",
        "\n",
        "# gen2 = data_generator2(dataset, tokenizer, max_length)"
      ]
    },
    {
      "cell_type": "code",
      "execution_count": null,
      "id": "93aNljPU6yHY",
      "metadata": {
        "id": "93aNljPU6yHY"
      },
      "outputs": [],
      "source": [
        "# for i in gen2:\n",
        "#   i"
      ]
    },
    {
      "cell_type": "code",
      "execution_count": null,
      "id": "q0f0axCHAvV6",
      "metadata": {
        "id": "q0f0axCHAvV6"
      },
      "outputs": [],
      "source": [
        "# generator = data_generator(dataset, image_features, tokenizer, max_length)\n",
        "\n",
        "# for i in generator:\n",
        "#   i\n"
      ]
    },
    {
      "cell_type": "markdown",
      "id": "fM94FOEY4hra",
      "metadata": {
        "id": "fM94FOEY4hra"
      },
      "source": []
    },
    {
      "cell_type": "code",
      "execution_count": null,
      "id": "bad1472d",
      "metadata": {
        "execution": {
          "iopub.execute_input": "2022-09-14T20:49:46.891387Z",
          "iopub.status.busy": "2022-09-14T20:49:46.890852Z",
          "iopub.status.idle": "2022-09-14T22:49:27.273365Z",
          "shell.execute_reply": "2022-09-14T22:49:27.271273Z"
        },
        "id": "bad1472d",
        "papermill": {
          "duration": 7180.46365,
          "end_time": "2022-09-14T22:49:27.276736",
          "exception": false,
          "start_time": "2022-09-14T20:49:46.813086",
          "status": "completed"
        },
        "tags": []
      },
      "outputs": [],
      "source": [
        "\n",
        "def train_our_model(dataset):\n",
        "\n",
        "\n",
        "  print('Dataset: ', len(dataset))\n",
        "  print('Descriptions: train=', len(dataset))\n",
        "  print('Photos: train=', len(image_features))\n",
        "  print('Vocabulary Size:', total_words)\n",
        "  print('Description Length: ', max_length)\n",
        "\n",
        "  epochs=2\n",
        "  steps = len(dataset)\n",
        "\n",
        "  # making a directory models to save our models\n",
        "\n",
        "  \n",
        "  for i in range(epochs):\n",
        "      generator = data_generator(dataset, image_features, tokenizer, max_length)\n",
        "      model.fit(generator, epochs=1, steps_per_epoch= steps, verbose=1)\n",
        "      model.save(\"models/model_\" + str(i) + \".h5\")\n"
      ]
    },
    {
      "cell_type": "markdown",
      "source": [],
      "metadata": {
        "id": "JvJ5Am1vH1D3"
      },
      "id": "JvJ5Am1vH1D3"
    },
    {
      "cell_type": "code",
      "execution_count": null,
      "id": "3Uom5qr7GhPA",
      "metadata": {
        "id": "3Uom5qr7GhPA",
        "colab": {
          "base_uri": "https://localhost:8080/"
        },
        "outputId": "d8b1e56d-bce8-4945-cba9-7bc8f2d0f94f"
      },
      "outputs": [
        {
          "output_type": "stream",
          "name": "stdout",
          "text": [
            "Dataset:  10000\n",
            "Descriptions: train= 10000\n",
            "Photos: train= 10000\n",
            "Vocabulary Size: 9774\n",
            "Description Length:  49\n",
            "10000/10000 [==============================] - 1617s 161ms/step - loss: 4.2721\n",
            "10000/10000 [==============================] - 1690s 169ms/step - loss: 3.4278\n"
          ]
        }
      ],
      "source": [
        "train_our_model(dataset)"
      ]
    },
    {
      "cell_type": "code",
      "source": [],
      "metadata": {
        "id": "MKQrgjIEMeQY"
      },
      "id": "MKQrgjIEMeQY",
      "execution_count": null,
      "outputs": []
    },
    {
      "cell_type": "code",
      "execution_count": null,
      "id": "SFDDSopuGcj1",
      "metadata": {
        "id": "SFDDSopuGcj1"
      },
      "outputs": [],
      "source": [
        "\n",
        "# def train_our_model1(dataset,model = model1, tokenizer= tokenizer,max_length=max_length):\n",
        "\n",
        "\n",
        "#   print('Dataset: ', len(dataset))\n",
        "#   print('Descriptions: train=', len(dataset))\n",
        "#   print('Photos: train=', len(image_features))\n",
        "#   print('Vocabulary Size:', total_words)\n",
        "#   print('Description Length: ', max_length)\n",
        "\n",
        "#   epochs=2\n",
        "#   steps = len(dataset)\n",
        "\n",
        "#   # making a directory models to save our models\n",
        "\n",
        "  \n",
        "#   for i in range(epochs):\n",
        "#       generator = data_generator(dataset, image_features, tokenizer, max_length)\n",
        "#       model.fit(generator, epochs=1, steps_per_epoch= steps, verbose=1)\n",
        "#       model.save(\"models/model_\" + str(i) + \".h5\")\n"
      ]
    },
    {
      "cell_type": "code",
      "execution_count": null,
      "id": "NqPFF71EH2b5",
      "metadata": {
        "id": "NqPFF71EH2b5"
      },
      "outputs": [],
      "source": [
        "# train_our_model1(testsample_dict)"
      ]
    },
    {
      "cell_type": "code",
      "execution_count": null,
      "id": "CE53bwvJ6HW8",
      "metadata": {
        "id": "CE53bwvJ6HW8"
      },
      "outputs": [],
      "source": [
        "\n",
        "# def train_our_model2(dataset,model = model):\n",
        "\n",
        "\n",
        "#   print('Dataset: ', len(dataset))\n",
        "#   print('Descriptions: train=', len(dataset))\n",
        "#   # print('Photos: train=', len(image_features))\n",
        "#   print('Vocabulary Size:', total_words)\n",
        "#   print('Description Length: ', max_length)\n",
        "\n",
        "#   epochs=1\n",
        "#   steps = len(dataset)\n",
        "\n",
        "#   # making a directory models to save our models\n",
        "\n",
        "  \n",
        "#   for i in range(epochs):\n",
        "#       print(i)\n",
        "#       gen2 = data_generator2(dataset, tokenizer, max_length)\n",
        "#       print(1)\n",
        "\n",
        "#       model.fit(gen2, epochs=1, steps_per_epoch= steps, verbose=1)\n",
        "#       model.save(\"models/model_\" + str(i) + \".h5\")\n"
      ]
    },
    {
      "cell_type": "code",
      "execution_count": null,
      "id": "o4N-Tz9Fl-LA",
      "metadata": {
        "id": "o4N-Tz9Fl-LA"
      },
      "outputs": [],
      "source": [
        "# train_our_model2(testsample_dict,model2)"
      ]
    },
    {
      "cell_type": "code",
      "execution_count": null,
      "id": "khqy0voWbU56",
      "metadata": {
        "id": "khqy0voWbU56"
      },
      "outputs": [],
      "source": [
        "# train_our_model2(testsample_dict,model2)\n",
        "\n",
        "\n"
      ]
    },
    {
      "cell_type": "code",
      "execution_count": null,
      "id": "VTwGZ_M3JHk3",
      "metadata": {
        "id": "VTwGZ_M3JHk3"
      },
      "outputs": [],
      "source": [
        "# model2.summary()"
      ]
    },
    {
      "cell_type": "code",
      "execution_count": null,
      "id": "hBRt3QV3m0ZN",
      "metadata": {
        "id": "hBRt3QV3m0ZN"
      },
      "outputs": [],
      "source": [
        "# model1.name"
      ]
    },
    {
      "cell_type": "code",
      "execution_count": null,
      "id": "ll3vC5tC3hXO",
      "metadata": {
        "id": "ll3vC5tC3hXO"
      },
      "outputs": [],
      "source": [
        "# model1.save(\"models/model1_f.h5\")"
      ]
    },
    {
      "cell_type": "code",
      "execution_count": null,
      "id": "686d0d7f",
      "metadata": {
        "execution": {
          "iopub.execute_input": "2022-09-14T22:49:32.739335Z",
          "iopub.status.busy": "2022-09-14T22:49:32.738963Z",
          "iopub.status.idle": "2022-09-14T22:49:32.886038Z",
          "shell.execute_reply": "2022-09-14T22:49:32.884675Z"
        },
        "id": "686d0d7f",
        "papermill": {
          "duration": 2.854148,
          "end_time": "2022-09-14T22:49:32.890449",
          "exception": false,
          "start_time": "2022-09-14T22:49:30.036301",
          "status": "completed"
        },
        "tags": []
      },
      "outputs": [],
      "source": []
    },
    {
      "cell_type": "code",
      "execution_count": null,
      "id": "bNHyAMF6ahQ4",
      "metadata": {
        "id": "bNHyAMF6ahQ4"
      },
      "outputs": [],
      "source": [
        "# # model_incep_lstm\n",
        "\n",
        "\n",
        "# # os.mkdir(models)\n",
        "\n",
        "\n",
        "  \n",
        "# train_our_model(testsample_dict, model2)\n",
        "# model2.name\n",
        "# model2.save(\"models/model2_f.h5\")"
      ]
    },
    {
      "cell_type": "code",
      "execution_count": null,
      "id": "XqQkqW1CQ5WH",
      "metadata": {
        "id": "XqQkqW1CQ5WH"
      },
      "outputs": [],
      "source": [
        "\n",
        "# import numpy as np\n",
        "# from PIL import Image\n",
        "# import matplotlib.pyplot as plt\n",
        "# import glob\n",
        "# img_paths = []\n",
        "# for filename in glob.glob('./drive/MyDrive/3조/sample_train_coco (1)/sample_train_coco/*.jpg'): #assuming jpg\n",
        "#     # im=Image.open(filename)\n",
        "#     # print(filename)\n",
        "#     # print(im)\n",
        "#     img_paths.append(filename)\n",
        "\n",
        "#     if len(img_paths)>10:\n",
        "#       break\n",
        "# print(img_paths)\n"
      ]
    },
    {
      "cell_type": "code",
      "execution_count": null,
      "id": "85329b25",
      "metadata": {
        "execution": {
          "iopub.execute_input": "2022-09-14T22:49:38.569411Z",
          "iopub.status.busy": "2022-09-14T22:49:38.568925Z",
          "iopub.status.idle": "2022-09-14T22:49:43.048559Z",
          "shell.execute_reply": "2022-09-14T22:49:43.047586Z"
        },
        "id": "85329b25",
        "papermill": {
          "duration": 7.476473,
          "end_time": "2022-09-14T22:49:43.051530",
          "exception": false,
          "start_time": "2022-09-14T22:49:35.575057",
          "status": "completed"
        },
        "tags": []
      },
      "outputs": [],
      "source": [
        "\n",
        "def extract_features(filename, model):\n",
        "        try:\n",
        "            image = Image.open(filename)\n",
        "\n",
        "        except:\n",
        "            print(\"ERROR: Couldn't open image! Make sure the image path and extension is correct\")\n",
        "        image = image.resize((299,299))\n",
        "        image = np.array(image)\n",
        "        \n",
        "        # for images that has 4 channels, we convert them into 3 channels\n",
        "        if image.shape[2] == 4: \n",
        "            image = image[..., :3]\n",
        "        image = np.expand_dims(image, axis=0)\n",
        "        image = image/127.5\n",
        "        image = image - 1.0\n",
        "        feature = model.predict(image)\n",
        "        return feature\n",
        "\n",
        "def word_for_id(integer, tokenizer):\n",
        "    for word, index in tokenizer.word_index.items():\n",
        "        if index == integer:\n",
        "            return word\n",
        "    return None\n",
        "\n",
        "\n",
        "def generate_desc(model, tokenizer, photo, max_length):\n",
        "    in_text = 'start'\n",
        "    for i in range(max_length):\n",
        "        sequence = tokenizer.texts_to_sequences([in_text])[0]\n",
        "        sequence = pad_sequences([sequence], maxlen=max_length)\n",
        "        pred = model.predict([photo,sequence], verbose=0)\n",
        "        pred = np.argmax(pred)\n",
        "        word = word_for_id(pred, tokenizer)\n",
        "        \n",
        "        if word is None:\n",
        "            break\n",
        "        in_text += ' ' + word\n",
        "        \n",
        "        if word == 'end':\n",
        "            break\n",
        "    return in_text\n",
        "\n",
        "\n",
        "    \n"
      ]
    },
    {
      "cell_type": "code",
      "execution_count": null,
      "id": "eyrg0SUZnuNn",
      "metadata": {
        "id": "eyrg0SUZnuNn"
      },
      "outputs": [],
      "source": [
        "\n",
        "# xception_model = Xception(include_top=False, pooling=\"avg\")\n",
        "\n",
        "\n"
      ]
    },
    {
      "cell_type": "code",
      "source": [],
      "metadata": {
        "id": "J-upRaPK57gl"
      },
      "id": "J-upRaPK57gl",
      "execution_count": null,
      "outputs": []
    },
    {
      "cell_type": "code",
      "execution_count": null,
      "id": "sJh9DRNZ2oqN",
      "metadata": {
        "id": "sJh9DRNZ2oqN"
      },
      "outputs": [],
      "source": [
        "# print(max_length)\n",
        "# print(model1.name)\n",
        "\n",
        "# from keras.utils import plot_model\n",
        "# plot_model(model1, to_file='model.png')\n"
      ]
    },
    {
      "cell_type": "code",
      "execution_count": null,
      "id": "l79Zb4exoJoA",
      "metadata": {
        "id": "l79Zb4exoJoA"
      },
      "outputs": [],
      "source": [
        "# print(max_length)\n",
        "# print(model2.name)\n",
        "\n",
        "# from keras.utils import plot_model\n",
        "# plot_model(model2, to_file='model.png')\n"
      ]
    },
    {
      "cell_type": "code",
      "execution_count": null,
      "id": "6ORXoAzUny-H",
      "metadata": {
        "id": "6ORXoAzUny-H"
      },
      "outputs": [],
      "source": [
        "# photo = extract_features(img_paths[0], xception_model)\n",
        "# img = Image.open(img_paths[0])\n",
        "# description = generate_desc(model1, tokenizer, photo, max_length)\n",
        "# print(\"\\n\\n\")\n",
        "# print(description)\n",
        "# plt.imshow(img)"
      ]
    },
    {
      "cell_type": "code",
      "execution_count": null,
      "id": "sX1Aow2GVKnn",
      "metadata": {
        "id": "sX1Aow2GVKnn"
      },
      "outputs": [],
      "source": [
        "# copy_model2 = load_model('./drive/MyDrive/3조/best_model.h5')\n",
        "# copy_ssd = load_model('/content/drive/MyDrive/3조/ssd300.h5')\n",
        "\n",
        "# copy_model2.summary()\n",
        "# copy_ssd.summary()\n"
      ]
    },
    {
      "cell_type": "code",
      "execution_count": null,
      "id": "AU1U4Alb6Ul_",
      "metadata": {
        "id": "AU1U4Alb6Ul_"
      },
      "outputs": [],
      "source": [
        "# plot_model(copy_ssd, to_file='model0.png')\n"
      ]
    },
    {
      "cell_type": "code",
      "execution_count": null,
      "id": "GX1R-cuV6W5f",
      "metadata": {
        "id": "GX1R-cuV6W5f"
      },
      "outputs": [],
      "source": [
        "# plot_model(copy_model2, to_file='model1.png')\n"
      ]
    },
    {
      "cell_type": "code",
      "execution_count": null,
      "id": "BE_Xcloww61h",
      "metadata": {
        "id": "BE_Xcloww61h"
      },
      "outputs": [],
      "source": [
        "# max_length =42\n",
        "# generator = data_generator(dataset, image_features, tokenizer, max_length)\n"
      ]
    },
    {
      "cell_type": "code",
      "execution_count": null,
      "id": "NMA2aSvpusy-",
      "metadata": {
        "id": "NMA2aSvpusy-",
        "colab": {
          "base_uri": "https://localhost:8080/"
        },
        "outputId": "d10b0948-d60f-472f-a735-1ae56a35ea09"
      },
      "outputs": [
        {
          "output_type": "stream",
          "name": "stdout",
          "text": [
            "['./drive/MyDrive/3조/sample_train_coco (1)/sample_train_coco/_content_coco_train2017_train2017_000000571635.jpg', './drive/MyDrive/3조/sample_train_coco (1)/sample_train_coco/_content_coco_train2017_train2017_000000202658.jpg', './drive/MyDrive/3조/sample_train_coco (1)/sample_train_coco/_content_coco_train2017_train2017_000000203564.jpg', './drive/MyDrive/3조/sample_train_coco (1)/sample_train_coco/_content_coco_train2017_train2017_000000410627.jpg', './drive/MyDrive/3조/sample_train_coco (1)/sample_train_coco/_content_coco_train2017_train2017_000000208408.jpg', './drive/MyDrive/3조/sample_train_coco (1)/sample_train_coco/_content_coco_train2017_train2017_000000581177.jpg', './drive/MyDrive/3조/sample_train_coco (1)/sample_train_coco/_content_coco_train2017_train2017_000000153184.jpg', './drive/MyDrive/3조/sample_train_coco (1)/sample_train_coco/_content_coco_train2017_train2017_000000027842.jpg', './drive/MyDrive/3조/sample_train_coco (1)/sample_train_coco/_content_coco_train2017_train2017_000000475593.jpg', './drive/MyDrive/3조/sample_train_coco (1)/sample_train_coco/_content_coco_train2017_train2017_000000507362.jpg', './drive/MyDrive/3조/sample_train_coco (1)/sample_train_coco/_content_coco_train2017_train2017_000000267802.jpg']\n"
          ]
        }
      ],
      "source": [
        "\n",
        "import numpy as np\n",
        "from PIL import Image\n",
        "import matplotlib.pyplot as plt\n",
        "import glob\n",
        "img_paths = []\n",
        "for filename in glob.glob('./drive/MyDrive/3조/sample_train_coco (1)/sample_train_coco/*.jpg'): #assuming jpg\n",
        "    # im=Image.open(filename)\n",
        "    # print(filename)\n",
        "    # print(im)\n",
        "    img_paths.append(filename)\n",
        "\n",
        "    if len(img_paths)>10:\n",
        "      break\n",
        "\n",
        "\n",
        "\n",
        "print(img_paths)\n",
        "\n"
      ]
    },
    {
      "cell_type": "code",
      "source": [
        "len(img_paths)"
      ],
      "metadata": {
        "colab": {
          "base_uri": "https://localhost:8080/"
        },
        "id": "Mt8ASSINNc2-",
        "outputId": "5e1eda7d-c7af-4b7d-f861-82a39dc4a0cd"
      },
      "id": "Mt8ASSINNc2-",
      "execution_count": null,
      "outputs": [
        {
          "output_type": "execute_result",
          "data": {
            "text/plain": [
              "11"
            ]
          },
          "metadata": {},
          "execution_count": 124
        }
      ]
    },
    {
      "cell_type": "code",
      "source": [
        "\n",
        "\n",
        "xception_model = Xception(include_top=False, pooling=\"avg\")\n",
        "for image in img_paths:\n",
        "  photo = extract_features(image,xception_model )\n",
        "  img = Image.open(image)\n",
        "  description = generate_desc(model, tokenizer, photo, 49)\n",
        "  print(\"\\n\\n\")\n",
        "  print(description)\n",
        "  plt.imshow(img)"
      ],
      "metadata": {
        "colab": {
          "base_uri": "https://localhost:8080/",
          "height": 1000
        },
        "id": "dYLgdgxoM2Mp",
        "outputId": "7924cf10-df35-4a41-80f4-4750146fbb43"
      },
      "id": "dYLgdgxoM2Mp",
      "execution_count": null,
      "outputs": [
        {
          "output_type": "stream",
          "name": "stdout",
          "text": [
            "1/1 [==============================] - 1s 906ms/step\n",
            "\n",
            "\n",
            "\n",
            "start in a bathroom with a sink and a sink and a sink in the mirror of the bathroom sink and a bathroom sink and a sink in the mirror of the bathroom sink and a bathroom sink and a toilet in the bathroom with a sink and a sink\n",
            "1/1 [==============================] - 0s 26ms/step\n",
            "\n",
            "\n",
            "\n",
            "start a bathroom with a toilet and a toilet and a toilet and a toilet and a toilet and a toilet and a toilet in the background of it in the middle of the corner of the wall in the middle of the room with a toilet and a toilet\n",
            "1/1 [==============================] - 0s 25ms/step\n",
            "\n",
            "\n",
            "\n",
            "start a large fire hydrant with a clock on it on the side of the road with a clock on it on the side of the road with a clock on it on the side of the street with a clock on it on the side of the road with\n",
            "1/1 [==============================] - 0s 24ms/step\n",
            "\n",
            "\n",
            "\n",
            "start of a man in a kitchen with a knife and a knife on it on a table with a knife and a knife on it on a table with a knife and a knife on it on a table with a knife and a knife on it on a\n",
            "1/1 [==============================] - 0s 25ms/step\n",
            "\n",
            "\n",
            "\n",
            "start a street sign with a building and a building in the background of it in the rain in the rain in the rain in the rain in the rain with umbrellas in the background of the street with umbrellas and a building in the background of it in the\n",
            "1/1 [==============================] - 0s 26ms/step\n",
            "\n",
            "\n",
            "\n",
            "start in a kitchen with a refrigerator and a refrigerator and a refrigerator and a refrigerator and a refrigerator in the kitchen with a refrigerator and a refrigerator and a refrigerator and a refrigerator and a refrigerator and a refrigerator in the kitchen with a refrigerator and a refrigerator and\n",
            "1/1 [==============================] - 0s 25ms/step\n",
            "\n",
            "\n",
            "\n",
            "start a large herd of cattle standing in a field with a fence in the background of it in the middle of the road with a fence in the background of it and a fence in the background of the zoo enclosure and a fence in the background of the\n",
            "1/1 [==============================] - 0s 24ms/step\n",
            "\n",
            "\n",
            "\n",
            "start in a bathroom with a sink and a sink and a sink and a sink in the mirror of the bathroom counter in the bathroom with a sink and a sink and a sink and a sink in the mirror of it in the bathroom with a sink and\n",
            "1/1 [==============================] - 0s 25ms/step\n",
            "\n",
            "\n",
            "\n",
            "start in a kitchen with a large refrigerator and a refrigerator and a refrigerator and a refrigerator in the middle of it in a kitchen with a refrigerator and a refrigerator and a refrigerator and a refrigerator and a refrigerator in the middle of it in a kitchen with a\n",
            "1/1 [==============================] - 0s 31ms/step\n",
            "\n",
            "\n",
            "\n",
            "start of a stop sign on a pole with a stop sign in the background of it in the middle of the street in the middle of the street in the middle of the street with a stop sign and a stop sign in the background of the street sign\n",
            "1/1 [==============================] - 0s 25ms/step\n",
            "\n",
            "\n",
            "\n",
            "start a man riding a motorcycle down a street with a umbrella and a car in the rain in the rain with umbrellas on it on the street with a car in the background of it in the rain in the rain with a motorcycle in the rain in the\n"
          ]
        },
        {
          "output_type": "display_data",
          "data": {
            "text/plain": [
              "<Figure size 800x1000 with 1 Axes>"
            ],
            "image/png": "[encoded data removed]"
          },
          "metadata": {}
        }
      ]
    },
    {
      "cell_type": "code",
      "execution_count": null,
      "id": "IpTBDNzNhdiD",
      "metadata": {
        "id": "IpTBDNzNhdiD"
      },
      "outputs": [],
      "source": [
        "\n",
        "# photo = extract_features(img_paths[1], copy_ssd)\n",
        "# img = Image.open(img_paths[1])\n",
        "# description = generate_desc(copy_model2, tokenizer, photo, 42)\n",
        "# print(\"\\n\\n\")\n",
        "# print(description)\n",
        "# plt.imshow(img)"
      ]
    },
    {
      "cell_type": "markdown",
      "id": "He129qkRudxb",
      "metadata": {
        "id": "He129qkRudxb"
      },
      "source": []
    },
    {
      "cell_type": "code",
      "execution_count": null,
      "id": "BuluAbu2KaH2",
      "metadata": {
        "id": "BuluAbu2KaH2"
      },
      "outputs": [],
      "source": [
        "# import tensorflow as tf\n",
        "# import numpy as np\n",
        "# import json\n",
        "# from tqdm import tqdm\n",
        "# from sklearn.utils import shuffle "
      ]
    },
    {
      "cell_type": "code",
      "execution_count": null,
      "id": "mPPiQZb3Qo-_",
      "metadata": {
        "id": "mPPiQZb3Qo-_"
      },
      "outputs": [],
      "source": [
        "# import tensorflow as tf\n",
        "# from tensorflow.keras.models import Model\n",
        "# from tensorflow.keras.layers import Input, Dense, Embedding, LSTM, Dropout, BatchNormalization\n",
        "# from tensorflow.keras.layers import GlobalAveragePooling2D, Concatenate\n",
        "# from tensorflow.keras.applications import InceptionV3\n",
        "# from tensorflow.keras.layers import RepeatVector\n",
        "\n",
        "\n",
        "\n",
        "# def build_cnn_lstm(vocab_size, max_length, embedding_dim=256, units=256):\n",
        "#     # CNN Encoder (InceptionV3 pre-trained model)\n",
        "#     inception = InceptionV3(include_top=False, weights='imagenet', pooling='avg')\n",
        "#     for layer in inception.layers:\n",
        "#         layer.trainable = False\n",
        "\n",
        "#     input_image = Input(shape=(299, 299, 3))\n",
        "#     encoded_image = inception(input_image)\n",
        "#     encoded_image = Dense(embedding_dim, activation='relu')(encoded_image)\n",
        "#     encoded_image = Dropout(0.5)(encoded_image)\n",
        "#     encoded_image = BatchNormalization()(encoded_image)\n",
        "#     encoded_image = RepeatVector(max_length)(encoded_image)\n",
        "\n",
        "#     # LSTM Decoder\n",
        "#     input_caption = Input(shape=(max_length,))\n",
        "#     embedding = Embedding(vocab_size, embedding_dim)(input_caption)\n",
        "#     lstm_layer = LSTM(units, return_sequences=True)(embedding)\n",
        "#     lstm_layer = Dropout(0.5)(lstm_layer)\n",
        "#     lstm_layer = BatchNormalization()(lstm_layer)\n",
        "    \n",
        "#     # Merge CNN and LSTM layers\n",
        "#     merged = Concatenate()([encoded_image, lstm_layer])\n",
        "\n",
        "#     # Dense layers\n",
        "#     decoder = LSTM(units, return_sequences=True)(merged)\n",
        "#     decoder = Dropout(0.5)(decoder)\n",
        "#     decoder = BatchNormalization()(decoder)\n",
        "#     decoder = LSTM(units, return_sequences=False)(decoder)\n",
        "#     decoder = Dropout(0.5)(decoder)\n",
        "#     decoder = BatchNormalization()(decoder)\n",
        "#     output_caption = Dense(vocab_size, activation='softmax')(decoder)\n",
        "\n",
        "#     # Define the model\n",
        "#     model = Model(inputs=[input_image, input_caption], outputs=output_caption)\n",
        "\n",
        "#     return model\n",
        "# vocab_size = total_words  # Size of your vocabulary (adjust according to your dataset)\n",
        "# max_length = max_length  # Maximum length of a caption (adjust according to your dataset)\n",
        "# embedding_dim = 256  # Dimension of the word embeddings\n",
        "# units = 256  # Number of LSTM units\n",
        "\n",
        "# model = build_cnn_lstm(vocab_size, max_length, embedding_dim, units)\n",
        "# model.summary()"
      ]
    },
    {
      "cell_type": "code",
      "execution_count": null,
      "id": "GtEhpL1BUDZo",
      "metadata": {
        "id": "GtEhpL1BUDZo"
      },
      "outputs": [],
      "source": [
        "def data_generator(images, captions, tokenizer, max_length, batch_size=10):\n",
        "    X1, X2, y = [], [], []\n",
        "    n = 0\n",
        "    while True:\n",
        "        for img_path, img_captions in zip(images, captions):\n",
        "            for caption in img_captions:\n",
        "                n += 1\n",
        "\n",
        "                # Preprocess image\n",
        "                img = process_an_image(img_path)\n",
        "\n",
        "                # Preprocess caption\n",
        "                seq = tokenizer.texts_to_sequences([caption])[0]\n",
        "                seq = pad_sequences([seq], maxlen=max_length, padding='post', truncating='post')[0]\n",
        "\n",
        "                # Prepare input-output pairs\n",
        "                for j in range(1, len(seq)):\n",
        "                    in_seq, out_seq = seq[:j], seq[j]\n",
        "                    out_seq = to_categorical([out_seq], num_classes=vocab_size)[0]\n",
        "                    X1.append(img)\n",
        "                    X2.append(in_seq)\n",
        "                    y.append(out_seq)\n",
        "\n",
        "                if n == batch_size:\n",
        "                    print(f\"X1 shape: {np.array(X1).shape}, X2 shape: {np.array(X2).shape}, y shape: {np.array(y).shape}\")\n",
        "                    yield ([np.array(X1, dtype=object), np.array(X2, dtype=object)], np.array(y, dtype=object))\n",
        "                    X1, X2, y = [], [], []\n",
        "                    n = 0\n",
        "\n",
        "\n"
      ]
    },
    {
      "cell_type": "code",
      "execution_count": null,
      "id": "XoDd6TMPU-S5",
      "metadata": {
        "colab": {
          "base_uri": "https://localhost:8080/"
        },
        "id": "XoDd6TMPU-S5",
        "outputId": "519ab580-5c46-4689-8cfb-126155c9549e"
      },
      "outputs": [
        {
          "output_type": "stream",
          "name": "stderr",
          "text": [
            "\r  0%|          | 0/10 [00:00<?, ?it/s]<ipython-input-85-b22846ed2b04>:25: VisibleDeprecationWarning: Creating an ndarray from ragged nested sequences (which is a list-or-tuple of lists-or-tuples-or ndarrays with different lengths or shapes) is deprecated. If you meant to do this, you must specify 'dtype=object' when creating the ndarray.\n",
            "  print(f\"X1 shape: {np.array(X1).shape}, X2 shape: {np.array(X2).shape}, y shape: {np.array(y).shape}\")\n"
          ]
        },
        {
          "output_type": "stream",
          "name": "stdout",
          "text": [
            "X1 shape: (500, 1, 299, 299, 3), X2 shape: (500,), y shape: (500, 6429)\n"
          ]
        },
        {
          "output_type": "stream",
          "name": "stderr",
          "text": [
            "\r 10%|█         | 1/10 [00:19<02:51, 19.01s/it]"
          ]
        }
      ],
      "source": [
        "# data_gen = data_generator(list(testsample_dict.keys()), list(testsample_dict.values()), tokenizer=sample_tokenizer, max_length=max_length)\n",
        "# iter = 0\n",
        "# for i in tqdm(data_gen, total=10):\n",
        "#     iter += 1\n",
        "#     if iter > 10:\n",
        "#         break"
      ]
    },
    {
      "cell_type": "code",
      "source": [],
      "metadata": {
        "id": "hcOhjmlF43m_"
      },
      "id": "hcOhjmlF43m_",
      "execution_count": null,
      "outputs": []
    },
    {
      "cell_type": "code",
      "execution_count": null,
      "id": "IvzQdkUGXgxv",
      "metadata": {
        "colab": {
          "base_uri": "https://localhost:8080/"
        },
        "id": "IvzQdkUGXgxv",
        "outputId": "e9e9d0d7-4a73-46c6-8fc1-003c9e0d35ef"
      },
      "outputs": [
        {
          "output_type": "stream",
          "name": "stderr",
          "text": [
            "\r0it [00:00, ?it/s]"
          ]
        },
        {
          "output_type": "stream",
          "name": "stdout",
          "text": [
            "0\n",
            "1 1 1\n",
            "2 2 2\n",
            "3 3 3\n",
            "4 4 4\n",
            "5 5 5\n",
            "6 6 6\n",
            "7 7 7\n",
            "8 8 8\n",
            "9 9 9\n",
            "10 10 10\n",
            "11 11 11\n",
            "12 12 12\n",
            "13 13 13\n",
            "14 14 14\n",
            "15 15 15\n",
            "16 16 16\n",
            "17 17 17\n",
            "18 18 18\n",
            "19 19 19\n",
            "20 20 20\n",
            "21 21 21\n",
            "22 22 22\n",
            "23 23 23\n",
            "24 24 24\n",
            "25 25 25\n",
            "26 26 26\n",
            "27 27 27\n",
            "28 28 28\n",
            "29 29 29\n",
            "30 30 30\n",
            "31 31 31\n",
            "32 32 32\n",
            "33 33 33\n",
            "34 34 34\n",
            "35 35 35\n",
            "36 36 36\n",
            "37 37 37\n",
            "38 38 38\n",
            "39 39 39\n",
            "40 40 40\n",
            "41 41 41\n",
            "42 42 42\n",
            "43 43 43\n",
            "44 44 44\n",
            "45 45 45\n",
            "46 46 46\n",
            "47 47 47\n",
            "48 48 48\n",
            "49 49 49\n",
            "50 50 50\n",
            "1\n",
            "51 51 51\n",
            "52 52 52\n",
            "53 53 53\n",
            "54 54 54\n",
            "55 55 55\n",
            "56 56 56\n",
            "57 57 57\n",
            "58 58 58\n",
            "59 59 59\n",
            "60 60 60\n",
            "61 61 61\n",
            "62 62 62\n",
            "63 63 63\n",
            "64 64 64\n",
            "65 65 65\n",
            "66 66 66\n",
            "67 67 67\n",
            "68 68 68\n",
            "69 69 69\n",
            "70 70 70\n",
            "71 71 71\n",
            "72 72 72\n",
            "73 73 73\n",
            "74 74 74\n",
            "75 75 75\n",
            "76 76 76\n",
            "77 77 77\n",
            "78 78 78\n",
            "79 79 79\n",
            "80 80 80\n",
            "81 81 81\n",
            "82 82 82\n",
            "83 83 83\n",
            "84 84 84\n",
            "85 85 85\n",
            "86 86 86\n",
            "87 87 87\n",
            "88 88 88\n",
            "89 89 89\n",
            "90 90 90\n",
            "91 91 91\n",
            "92 92 92\n",
            "93 93 93\n",
            "94 94 94\n",
            "95 95 95\n",
            "96 96 96\n",
            "97 97 97\n",
            "98 98 98\n",
            "99 99 99\n",
            "100 100 100\n",
            "2\n",
            "101 101 101\n",
            "102 102 102\n",
            "103 103 103\n",
            "104 104 104\n",
            "105 105 105\n",
            "106 106 106\n",
            "107 107 107\n",
            "108 108 108\n",
            "109 109 109\n",
            "110 110 110\n",
            "111 111 111\n",
            "112 112 112\n",
            "113 113 113\n",
            "114 114 114\n",
            "115 115 115\n",
            "116 116 116\n",
            "117 117 117\n",
            "118 118 118\n",
            "119 119 119\n",
            "120 120 120\n",
            "121 121 121\n",
            "122 122 122\n",
            "123 123 123\n",
            "124 124 124\n",
            "125 125 125\n",
            "126 126 126\n",
            "127 127 127\n",
            "128 128 128\n",
            "129 129 129\n",
            "130 130 130\n",
            "131 131 131\n",
            "132 132 132\n",
            "133 133 133\n",
            "134 134 134\n",
            "135 135 135\n",
            "136 136 136\n",
            "137 137 137\n",
            "138 138 138\n",
            "139 139 139\n",
            "140 140 140\n",
            "141 141 141\n",
            "142 142 142\n",
            "143 143 143\n",
            "144 144 144\n",
            "145 145 145\n",
            "146 146 146\n",
            "147 147 147\n",
            "148 148 148\n",
            "149 149 149\n",
            "150 150 150\n",
            "3\n",
            "151 151 151\n",
            "152 152 152\n",
            "153 153 153\n",
            "154 154 154\n",
            "155 155 155\n",
            "156 156 156\n",
            "157 157 157\n",
            "158 158 158\n",
            "159 159 159\n",
            "160 160 160\n",
            "161 161 161\n",
            "162 162 162\n",
            "163 163 163\n",
            "164 164 164\n",
            "165 165 165\n",
            "166 166 166\n",
            "167 167 167\n",
            "168 168 168\n",
            "169 169 169\n",
            "170 170 170\n",
            "171 171 171\n",
            "172 172 172\n",
            "173 173 173\n",
            "174 174 174\n",
            "175 175 175\n",
            "176 176 176\n",
            "177 177 177\n",
            "178 178 178\n",
            "179 179 179\n",
            "180 180 180\n",
            "181 181 181\n",
            "182 182 182\n",
            "183 183 183\n",
            "184 184 184\n",
            "185 185 185\n",
            "186 186 186\n",
            "187 187 187\n",
            "188 188 188\n",
            "189 189 189\n",
            "190 190 190\n",
            "191 191 191\n",
            "192 192 192\n",
            "193 193 193\n",
            "194 194 194\n",
            "195 195 195\n",
            "196 196 196\n",
            "197 197 197\n",
            "198 198 198\n",
            "199 199 199\n",
            "200 200 200\n",
            "4\n",
            "201 201 201\n",
            "202 202 202\n",
            "203 203 203\n",
            "204 204 204\n",
            "205 205 205\n",
            "206 206 206\n",
            "207 207 207\n",
            "208 208 208\n",
            "209 209 209\n",
            "210 210 210\n",
            "211 211 211\n",
            "212 212 212\n",
            "213 213 213\n",
            "214 214 214\n",
            "215 215 215\n",
            "216 216 216\n",
            "217 217 217\n",
            "218 218 218\n",
            "219 219 219\n",
            "220 220 220\n",
            "221 221 221\n",
            "222 222 222\n",
            "223 223 223\n",
            "224 224 224\n",
            "225 225 225\n",
            "226 226 226\n",
            "227 227 227\n",
            "228 228 228\n",
            "229 229 229\n",
            "230 230 230\n",
            "231 231 231\n",
            "232 232 232\n",
            "233 233 233\n",
            "234 234 234\n",
            "235 235 235\n",
            "236 236 236\n",
            "237 237 237\n",
            "238 238 238\n",
            "239 239 239\n",
            "240 240 240\n",
            "241 241 241\n",
            "242 242 242\n",
            "243 243 243\n",
            "244 244 244\n",
            "245 245 245\n",
            "246 246 246\n",
            "247 247 247\n",
            "248 248 248\n",
            "249 249 249\n",
            "250 250 250\n",
            "5\n",
            "251 251 251\n",
            "252 252 252\n",
            "253 253 253\n",
            "254 254 254\n",
            "255 255 255\n",
            "256 256 256\n",
            "257 257 257\n",
            "258 258 258\n",
            "259 259 259\n",
            "260 260 260\n",
            "261 261 261\n",
            "262 262 262\n",
            "263 263 263\n",
            "264 264 264\n",
            "265 265 265\n",
            "266 266 266\n",
            "267 267 267\n",
            "268 268 268\n",
            "269 269 269\n",
            "270 270 270\n",
            "271 271 271\n",
            "272 272 272\n",
            "273 273 273\n",
            "274 274 274\n",
            "275 275 275\n",
            "276 276 276\n",
            "277 277 277\n",
            "278 278 278\n",
            "279 279 279\n",
            "280 280 280\n",
            "281 281 281\n",
            "282 282 282\n",
            "283 283 283\n",
            "284 284 284\n",
            "285 285 285\n",
            "286 286 286\n",
            "287 287 287\n",
            "288 288 288\n",
            "289 289 289\n",
            "290 290 290\n",
            "291 291 291\n",
            "292 292 292\n",
            "293 293 293\n",
            "294 294 294\n",
            "295 295 295\n",
            "296 296 296\n",
            "297 297 297\n",
            "298 298 298\n",
            "299 299 299\n",
            "300 300 300\n",
            "6\n",
            "301 301 301\n",
            "302 302 302\n",
            "303 303 303\n",
            "304 304 304\n",
            "305 305 305\n",
            "306 306 306\n",
            "307 307 307\n",
            "308 308 308\n",
            "309 309 309\n",
            "310 310 310\n",
            "311 311 311\n",
            "312 312 312\n",
            "313 313 313\n",
            "314 314 314\n",
            "315 315 315\n",
            "316 316 316\n",
            "317 317 317\n",
            "318 318 318\n",
            "319 319 319\n",
            "320 320 320\n",
            "321 321 321\n",
            "322 322 322\n",
            "323 323 323\n",
            "324 324 324\n",
            "325 325 325\n",
            "326 326 326\n",
            "327 327 327\n",
            "328 328 328\n",
            "329 329 329\n",
            "330 330 330\n",
            "331 331 331\n",
            "332 332 332\n",
            "333 333 333\n",
            "334 334 334\n",
            "335 335 335\n",
            "336 336 336\n",
            "337 337 337\n",
            "338 338 338\n",
            "339 339 339\n",
            "340 340 340\n",
            "341 341 341\n",
            "342 342 342\n",
            "343 343 343\n",
            "344 344 344\n",
            "345 345 345\n",
            "346 346 346\n",
            "347 347 347\n",
            "348 348 348\n",
            "349 349 349\n",
            "350 350 350\n",
            "7\n",
            "351 351 351\n",
            "352 352 352\n",
            "353 353 353\n",
            "354 354 354\n",
            "355 355 355\n",
            "356 356 356\n",
            "357 357 357\n",
            "358 358 358\n",
            "359 359 359\n",
            "360 360 360\n",
            "361 361 361\n",
            "362 362 362\n",
            "363 363 363\n",
            "364 364 364\n",
            "365 365 365\n",
            "366 366 366\n",
            "367 367 367\n",
            "368 368 368\n",
            "369 369 369\n",
            "370 370 370\n",
            "371 371 371\n",
            "372 372 372\n",
            "373 373 373\n",
            "374 374 374\n",
            "375 375 375\n",
            "376 376 376\n",
            "377 377 377\n",
            "378 378 378\n",
            "379 379 379\n",
            "380 380 380\n",
            "381 381 381\n",
            "382 382 382\n",
            "383 383 383\n",
            "384 384 384\n",
            "385 385 385\n",
            "386 386 386\n",
            "387 387 387\n",
            "388 388 388\n",
            "389 389 389\n",
            "390 390 390\n",
            "391 391 391\n",
            "392 392 392\n",
            "393 393 393\n",
            "394 394 394\n",
            "395 395 395\n",
            "396 396 396\n",
            "397 397 397\n",
            "398 398 398\n",
            "399 399 399\n",
            "400 400 400\n",
            "8\n",
            "401 401 401\n",
            "402 402 402\n",
            "403 403 403\n",
            "404 404 404\n",
            "405 405 405\n",
            "406 406 406\n",
            "407 407 407\n",
            "408 408 408\n",
            "409 409 409\n",
            "410 410 410\n",
            "411 411 411\n",
            "412 412 412\n",
            "413 413 413\n",
            "414 414 414\n",
            "415 415 415\n",
            "416 416 416\n",
            "417 417 417\n",
            "418 418 418\n",
            "419 419 419\n",
            "420 420 420\n",
            "421 421 421\n",
            "422 422 422\n",
            "423 423 423\n",
            "424 424 424\n",
            "425 425 425\n",
            "426 426 426\n",
            "427 427 427\n",
            "428 428 428\n",
            "429 429 429\n",
            "430 430 430\n",
            "431 431 431\n",
            "432 432 432\n",
            "433 433 433\n",
            "434 434 434\n",
            "435 435 435\n",
            "436 436 436\n",
            "437 437 437\n",
            "438 438 438\n",
            "439 439 439\n",
            "440 440 440\n",
            "441 441 441\n",
            "442 442 442\n",
            "443 443 443\n",
            "444 444 444\n",
            "445 445 445\n",
            "446 446 446\n",
            "447 447 447\n",
            "448 448 448\n",
            "449 449 449\n",
            "450 450 450\n",
            "9\n",
            "451 451 451\n",
            "452 452 452\n",
            "453 453 453\n",
            "454 454 454\n",
            "455 455 455\n",
            "456 456 456\n",
            "457 457 457\n",
            "458 458 458\n",
            "459 459 459\n",
            "460 460 460\n",
            "461 461 461\n",
            "462 462 462\n",
            "463 463 463\n",
            "464 464 464\n",
            "465 465 465\n",
            "466 466 466\n",
            "467 467 467\n",
            "468 468 468\n",
            "469 469 469\n",
            "470 470 470\n",
            "471 471 471\n",
            "472 472 472\n",
            "473 473 473\n",
            "474 474 474\n",
            "475 475 475\n",
            "476 476 476\n",
            "477 477 477\n",
            "478 478 478\n",
            "479 479 479\n",
            "480 480 480\n",
            "481 481 481\n",
            "482 482 482\n",
            "483 483 483\n",
            "484 484 484\n",
            "485 485 485\n",
            "486 486 486\n",
            "487 487 487\n",
            "488 488 488\n",
            "489 489 489\n",
            "490 490 490\n",
            "491 491 491\n",
            "492 492 492\n",
            "493 493 493\n",
            "494 494 494\n",
            "495 495 495\n",
            "496 496 496\n",
            "497 497 497\n",
            "498 498 498\n",
            "499 499 499\n",
            "500 500 500\n"
          ]
        },
        {
          "output_type": "stream",
          "name": "stderr",
          "text": [
            "\r1it [00:23, 23.92s/it]"
          ]
        },
        {
          "output_type": "stream",
          "name": "stdout",
          "text": [
            "0\n",
            "1 1 1\n",
            "2 2 2\n",
            "3 3 3\n",
            "4 4 4\n",
            "5 5 5\n",
            "6 6 6\n",
            "7 7 7\n",
            "8 8 8\n",
            "9 9 9\n",
            "10 10 10\n",
            "11 11 11\n",
            "12 12 12\n",
            "13 13 13\n",
            "14 14 14\n",
            "15 15 15\n",
            "16 16 16\n",
            "17 17 17\n",
            "18 18 18\n",
            "19 19 19\n",
            "20 20 20\n",
            "21 21 21\n",
            "22 22 22\n",
            "23 23 23\n",
            "24 24 24\n",
            "25 25 25\n",
            "26 26 26\n",
            "27 27 27\n",
            "28 28 28\n",
            "29 29 29\n",
            "30 30 30\n",
            "31 31 31\n",
            "32 32 32\n",
            "33 33 33\n",
            "34 34 34\n",
            "35 35 35\n",
            "36 36 36\n",
            "37 37 37\n",
            "38 38 38\n",
            "39 39 39\n",
            "40 40 40\n",
            "41 41 41\n",
            "42 42 42\n",
            "43 43 43\n",
            "44 44 44\n",
            "45 45 45\n",
            "46 46 46\n",
            "47 47 47\n",
            "48 48 48\n",
            "49 49 49\n",
            "50 50 50\n",
            "1\n",
            "51 51 51\n",
            "52 52 52\n",
            "53 53 53\n",
            "54 54 54\n",
            "55 55 55\n",
            "56 56 56\n",
            "57 57 57\n",
            "58 58 58\n",
            "59 59 59\n",
            "60 60 60\n",
            "61 61 61\n",
            "62 62 62\n",
            "63 63 63\n",
            "64 64 64\n",
            "65 65 65\n",
            "66 66 66\n",
            "67 67 67\n",
            "68 68 68\n",
            "69 69 69\n",
            "70 70 70\n",
            "71 71 71\n",
            "72 72 72\n",
            "73 73 73\n",
            "74 74 74\n",
            "75 75 75\n",
            "76 76 76\n",
            "77 77 77\n",
            "78 78 78\n",
            "79 79 79\n",
            "80 80 80\n",
            "81 81 81\n",
            "82 82 82\n",
            "83 83 83\n",
            "84 84 84\n",
            "85 85 85\n",
            "86 86 86\n",
            "87 87 87\n",
            "88 88 88\n",
            "89 89 89\n",
            "90 90 90\n",
            "91 91 91\n",
            "92 92 92\n",
            "93 93 93\n",
            "94 94 94\n",
            "95 95 95\n",
            "96 96 96\n",
            "97 97 97\n",
            "98 98 98\n",
            "99 99 99\n",
            "100 100 100\n",
            "2\n",
            "101 101 101\n",
            "102 102 102\n",
            "103 103 103\n",
            "104 104 104\n",
            "105 105 105\n",
            "106 106 106\n",
            "107 107 107\n",
            "108 108 108\n",
            "109 109 109\n",
            "110 110 110\n",
            "111 111 111\n",
            "112 112 112\n",
            "113 113 113\n",
            "114 114 114\n",
            "115 115 115\n",
            "116 116 116\n",
            "117 117 117\n",
            "118 118 118\n",
            "119 119 119\n",
            "120 120 120\n",
            "121 121 121\n",
            "122 122 122\n",
            "123 123 123\n",
            "124 124 124\n",
            "125 125 125\n",
            "126 126 126\n",
            "127 127 127\n",
            "128 128 128\n",
            "129 129 129\n",
            "130 130 130\n",
            "131 131 131\n",
            "132 132 132\n",
            "133 133 133\n",
            "134 134 134\n",
            "135 135 135\n",
            "136 136 136\n",
            "137 137 137\n",
            "138 138 138\n",
            "139 139 139\n",
            "140 140 140\n",
            "141 141 141\n",
            "142 142 142\n",
            "143 143 143\n",
            "144 144 144\n",
            "145 145 145\n",
            "146 146 146\n",
            "147 147 147\n",
            "148 148 148\n",
            "149 149 149\n",
            "150 150 150\n",
            "3\n",
            "151 151 151\n",
            "152 152 152\n",
            "153 153 153\n",
            "154 154 154\n",
            "155 155 155\n",
            "156 156 156\n",
            "157 157 157\n",
            "158 158 158\n",
            "159 159 159\n",
            "160 160 160\n",
            "161 161 161\n",
            "162 162 162\n",
            "163 163 163\n",
            "164 164 164\n",
            "165 165 165\n",
            "166 166 166\n",
            "167 167 167\n",
            "168 168 168\n",
            "169 169 169\n",
            "170 170 170\n",
            "171 171 171\n",
            "172 172 172\n",
            "173 173 173\n",
            "174 174 174\n",
            "175 175 175\n",
            "176 176 176\n",
            "177 177 177\n",
            "178 178 178\n",
            "179 179 179\n",
            "180 180 180\n",
            "181 181 181\n",
            "182 182 182\n",
            "183 183 183\n",
            "184 184 184\n",
            "185 185 185\n",
            "186 186 186\n",
            "187 187 187\n",
            "188 188 188\n",
            "189 189 189\n",
            "190 190 190\n",
            "191 191 191\n",
            "192 192 192\n",
            "193 193 193\n",
            "194 194 194\n",
            "195 195 195\n",
            "196 196 196\n",
            "197 197 197\n",
            "198 198 198\n",
            "199 199 199\n",
            "200 200 200\n",
            "4\n",
            "201 201 201\n",
            "202 202 202\n",
            "203 203 203\n",
            "204 204 204\n",
            "205 205 205\n",
            "206 206 206\n",
            "207 207 207\n",
            "208 208 208\n",
            "209 209 209\n",
            "210 210 210\n",
            "211 211 211\n",
            "212 212 212\n",
            "213 213 213\n",
            "214 214 214\n",
            "215 215 215\n",
            "216 216 216\n",
            "217 217 217\n",
            "218 218 218\n",
            "219 219 219\n",
            "220 220 220\n",
            "221 221 221\n",
            "222 222 222\n",
            "223 223 223\n",
            "224 224 224\n",
            "225 225 225\n",
            "226 226 226\n",
            "227 227 227\n",
            "228 228 228\n",
            "229 229 229\n",
            "230 230 230\n",
            "231 231 231\n",
            "232 232 232\n",
            "233 233 233\n",
            "234 234 234\n",
            "235 235 235\n",
            "236 236 236\n",
            "237 237 237\n",
            "238 238 238\n",
            "239 239 239\n",
            "240 240 240\n",
            "241 241 241\n",
            "242 242 242\n",
            "243 243 243\n",
            "244 244 244\n",
            "245 245 245\n",
            "246 246 246\n",
            "247 247 247\n",
            "248 248 248\n",
            "249 249 249\n",
            "250 250 250\n",
            "5\n",
            "251 251 251\n",
            "252 252 252\n",
            "253 253 253\n",
            "254 254 254\n",
            "255 255 255\n",
            "256 256 256\n",
            "257 257 257\n",
            "258 258 258\n",
            "259 259 259\n",
            "260 260 260\n",
            "261 261 261\n",
            "262 262 262\n",
            "263 263 263\n",
            "264 264 264\n",
            "265 265 265\n",
            "266 266 266\n",
            "267 267 267\n",
            "268 268 268\n",
            "269 269 269\n",
            "270 270 270\n",
            "271 271 271\n",
            "272 272 272\n",
            "273 273 273\n",
            "274 274 274\n",
            "275 275 275\n",
            "276 276 276\n",
            "277 277 277\n",
            "278 278 278\n",
            "279 279 279\n",
            "280 280 280\n",
            "281 281 281\n",
            "282 282 282\n",
            "283 283 283\n",
            "284 284 284\n",
            "285 285 285\n",
            "286 286 286\n",
            "287 287 287\n",
            "288 288 288\n",
            "289 289 289\n",
            "290 290 290\n",
            "291 291 291\n",
            "292 292 292\n",
            "293 293 293\n",
            "294 294 294\n",
            "295 295 295\n",
            "296 296 296\n",
            "297 297 297\n",
            "298 298 298\n",
            "299 299 299\n",
            "300 300 300\n",
            "6\n",
            "301 301 301\n",
            "302 302 302\n",
            "303 303 303\n",
            "304 304 304\n",
            "305 305 305\n",
            "306 306 306\n",
            "307 307 307\n",
            "308 308 308\n",
            "309 309 309\n",
            "310 310 310\n",
            "311 311 311\n",
            "312 312 312\n",
            "313 313 313\n",
            "314 314 314\n",
            "315 315 315\n",
            "316 316 316\n",
            "317 317 317\n",
            "318 318 318\n",
            "319 319 319\n",
            "320 320 320\n",
            "321 321 321\n",
            "322 322 322\n",
            "323 323 323\n",
            "324 324 324\n",
            "325 325 325\n",
            "326 326 326\n",
            "327 327 327\n",
            "328 328 328\n",
            "329 329 329\n",
            "330 330 330\n",
            "331 331 331\n",
            "332 332 332\n",
            "333 333 333\n",
            "334 334 334\n",
            "335 335 335\n",
            "336 336 336\n",
            "337 337 337\n",
            "338 338 338\n",
            "339 339 339\n",
            "340 340 340\n",
            "341 341 341\n",
            "342 342 342\n",
            "343 343 343\n",
            "344 344 344\n",
            "345 345 345\n",
            "346 346 346\n",
            "347 347 347\n",
            "348 348 348\n",
            "349 349 349\n",
            "350 350 350\n",
            "7\n",
            "351 351 351\n",
            "352 352 352\n",
            "353 353 353\n",
            "354 354 354\n",
            "355 355 355\n",
            "356 356 356\n",
            "357 357 357\n",
            "358 358 358\n",
            "359 359 359\n",
            "360 360 360\n",
            "361 361 361\n",
            "362 362 362\n",
            "363 363 363\n",
            "364 364 364\n",
            "365 365 365\n",
            "366 366 366\n",
            "367 367 367\n",
            "368 368 368\n",
            "369 369 369\n",
            "370 370 370\n",
            "371 371 371\n",
            "372 372 372\n",
            "373 373 373\n",
            "374 374 374\n",
            "375 375 375\n",
            "376 376 376\n",
            "377 377 377\n",
            "378 378 378\n",
            "379 379 379\n",
            "380 380 380\n",
            "381 381 381\n",
            "382 382 382\n",
            "383 383 383\n",
            "384 384 384\n",
            "385 385 385\n",
            "386 386 386\n",
            "387 387 387\n",
            "388 388 388\n",
            "389 389 389\n",
            "390 390 390\n",
            "391 391 391\n",
            "392 392 392\n",
            "393 393 393\n",
            "394 394 394\n",
            "395 395 395\n",
            "396 396 396\n",
            "397 397 397\n",
            "398 398 398\n",
            "399 399 399\n",
            "400 400 400\n",
            "8\n",
            "401 401 401\n",
            "402 402 402\n",
            "403 403 403\n",
            "404 404 404\n",
            "405 405 405\n",
            "406 406 406\n",
            "407 407 407\n",
            "408 408 408\n",
            "409 409 409\n",
            "410 410 410\n",
            "411 411 411\n",
            "412 412 412\n",
            "413 413 413\n",
            "414 414 414\n",
            "415 415 415\n",
            "416 416 416\n",
            "417 417 417\n",
            "418 418 418\n",
            "419 419 419\n",
            "420 420 420\n",
            "421 421 421\n",
            "422 422 422\n",
            "423 423 423\n",
            "424 424 424\n",
            "425 425 425\n",
            "426 426 426\n",
            "427 427 427\n",
            "428 428 428\n",
            "429 429 429\n",
            "430 430 430\n",
            "431 431 431\n",
            "432 432 432\n",
            "433 433 433\n",
            "434 434 434\n",
            "435 435 435\n",
            "436 436 436\n",
            "437 437 437\n",
            "438 438 438\n",
            "439 439 439\n",
            "440 440 440\n",
            "441 441 441\n",
            "442 442 442\n",
            "443 443 443\n",
            "444 444 444\n",
            "445 445 445\n",
            "446 446 446\n",
            "447 447 447\n",
            "448 448 448\n",
            "449 449 449\n",
            "450 450 450\n",
            "9\n"
          ]
        }
      ],
      "source": [
        "# data_gen = data_generator( list(testsample_dict.keys()),  list(testsample_dict.values()) ,tokenizer=sample_tokenizer,max_length=max_length)\n",
        "# iter = 0\n",
        "# for i in tqdm(data_gen):\n",
        "#   iter +=1\n",
        "#   if len(i >10:\n",
        "#     break"
      ]
    },
    {
      "cell_type": "code",
      "execution_count": null,
      "id": "8BI-PQDYrjLT",
      "metadata": {
        "id": "8BI-PQDYrjLT"
      },
      "outputs": [],
      "source": []
    },
    {
      "cell_type": "code",
      "execution_count": null,
      "id": "sjG2BRT9rpjn",
      "metadata": {
        "id": "sjG2BRT9rpjn"
      },
      "outputs": [],
      "source": []
    },
    {
      "cell_type": "markdown",
      "source": [],
      "metadata": {
        "id": "rZF1VDSA2-cS"
      },
      "id": "rZF1VDSA2-cS"
    },
    {
      "cell_type": "code",
      "execution_count": null,
      "id": "zh6S-X2ZWIC0",
      "metadata": {
        "id": "zh6S-X2ZWIC0"
      },
      "outputs": [],
      "source": [
        "train_images = list(testsample_dict.keys())\n",
        "\n",
        "train_captions = list(testsample_dict.values())"
      ]
    },
    {
      "cell_type": "code",
      "execution_count": null,
      "id": "xdLjUUy0VC1E",
      "metadata": {
        "id": "xdLjUUy0VC1E"
      },
      "outputs": [],
      "source": [
        "# Compile the model\n",
        "model.compile(optimizer='adam', loss='categorical_crossentropy')\n",
        "\n",
        "# Set parameters\n",
        "epochs = 2\n",
        "batch_size = 10\n",
        "steps_per_epoch = len(train_images) // batch_size\n",
        "\n",
        "# Train the model\n",
        "for i in tqdm(range(epochs)):\n",
        "    generator = data_generator(train_images, train_captions, tokenizer, max_length)\n",
        "    model.fit(generator, epochs=1, steps_per_epoch=steps_per_epoch, verbose=1)\n",
        "    model.save('model_' + str(i) + '.h5')"
      ]
    },
    {
      "cell_type": "code",
      "execution_count": null,
      "id": "8IX3f7dNXq_b",
      "metadata": {
        "id": "8IX3f7dNXq_b"
      },
      "outputs": [],
      "source": []
    }
  ],
  "metadata": {
    "accelerator": "GPU",
    "colab": {
      "provenance": [],
      "include_colab_link": true
    },
    "gpuClass": "standard",
    "kernelspec": {
      "display_name": "Python 3 (ipykernel)",
      "language": "python",
      "name": "python3"
    },
    "language_info": {
      "codemirror_mode": {
        "name": "ipython",
        "version": 3
      },
      "file_extension": ".py",
      "mimetype": "text/x-python",
      "name": "python",
      "nbconvert_exporter": "python",
      "pygments_lexer": "ipython3",
      "version": "3.10.5"
    },
    "papermill": {
      "default_parameters": {},
      "duration": 13760.196806,
      "end_time": "2022-09-14T22:53:28.261521",
      "environment_variables": {},
      "exception": null,
      "input_path": "__notebook__.ipynb",
      "output_path": "__notebook__.ipynb",
      "parameters": {},
      "start_time": "2022-09-14T19:04:08.064715",
      "version": "2.3.4"
    },
    "widgets": {
      "application/vnd.jupyter.widget-state+json": {
        "0c3a3004e676454b8bc725d1244797c1": {
          "model_module": "@jupyter-widgets/controls",
          "model_name": "HBoxModel",
          "model_module_version": "1.5.0",
          "state": {
            "_dom_classes": [],
            "_model_module": "@jupyter-widgets/controls",
            "_model_module_version": "1.5.0",
            "_model_name": "HBoxModel",
            "_view_count": null,
            "_view_module": "@jupyter-widgets/controls",
            "_view_module_version": "1.5.0",
            "_view_name": "HBoxView",
            "box_style": "",
            "children": [
              "IPY_MODEL_15c03beab08744a9b6b3ec1b775ec694",
              "IPY_MODEL_5eec7ec3941a49f1b36bda67a18318e1",
              "IPY_MODEL_32e6911439b94427a7c37e3110c5e2e1"
            ],
            "layout": "IPY_MODEL_122de9596935431797405cd919e72157"
          }
        },
        "15c03beab08744a9b6b3ec1b775ec694": {
          "model_module": "@jupyter-widgets/controls",
          "model_name": "HTMLModel",
          "model_module_version": "1.5.0",
          "state": {
            "_dom_classes": [],
            "_model_module": "@jupyter-widgets/controls",
            "_model_module_version": "1.5.0",
            "_model_name": "HTMLModel",
            "_view_count": null,
            "_view_module": "@jupyter-widgets/controls",
            "_view_module_version": "1.5.0",
            "_view_name": "HTMLView",
            "description": "",
            "description_tooltip": null,
            "layout": "IPY_MODEL_135857db340145879a7066e77ee88c5b",
            "placeholder": "​",
            "style": "IPY_MODEL_7d39d6fc647d4f1695767ffd18d20e10",
            "value": "Extracting captions: 100%"
          }
        },
        "5eec7ec3941a49f1b36bda67a18318e1": {
          "model_module": "@jupyter-widgets/controls",
          "model_name": "FloatProgressModel",
          "model_module_version": "1.5.0",
          "state": {
            "_dom_classes": [],
            "_model_module": "@jupyter-widgets/controls",
            "_model_module_version": "1.5.0",
            "_model_name": "FloatProgressModel",
            "_view_count": null,
            "_view_module": "@jupyter-widgets/controls",
            "_view_module_version": "1.5.0",
            "_view_name": "ProgressView",
            "bar_style": "success",
            "description": "",
            "description_tooltip": null,
            "layout": "IPY_MODEL_69af573e507e463789aac672790ed395",
            "max": 118287,
            "min": 0,
            "orientation": "horizontal",
            "style": "IPY_MODEL_7c89311760fe4097b19d45cc90571c94",
            "value": 118287
          }
        },
        "32e6911439b94427a7c37e3110c5e2e1": {
          "model_module": "@jupyter-widgets/controls",
          "model_name": "HTMLModel",
          "model_module_version": "1.5.0",
          "state": {
            "_dom_classes": [],
            "_model_module": "@jupyter-widgets/controls",
            "_model_module_version": "1.5.0",
            "_model_name": "HTMLModel",
            "_view_count": null,
            "_view_module": "@jupyter-widgets/controls",
            "_view_module_version": "1.5.0",
            "_view_name": "HTMLView",
            "description": "",
            "description_tooltip": null,
            "layout": "IPY_MODEL_fa4375d7eb51478fbe050c3cdbe8ede3",
            "placeholder": "​",
            "style": "IPY_MODEL_6bcbaeeee44344a0993bbba1cdbe29a3",
            "value": " 118287/118287 [00:00&lt;00:00, 587137.78it/s]"
          }
        },
        "122de9596935431797405cd919e72157": {
          "model_module": "@jupyter-widgets/base",
          "model_name": "LayoutModel",
          "model_module_version": "1.2.0",
          "state": {
            "_model_module": "@jupyter-widgets/base",
            "_model_module_version": "1.2.0",
            "_model_name": "LayoutModel",
            "_view_count": null,
            "_view_module": "@jupyter-widgets/base",
            "_view_module_version": "1.2.0",
            "_view_name": "LayoutView",
            "align_content": null,
            "align_items": null,
            "align_self": null,
            "border": null,
            "bottom": null,
            "display": null,
            "flex": null,
            "flex_flow": null,
            "grid_area": null,
            "grid_auto_columns": null,
            "grid_auto_flow": null,
            "grid_auto_rows": null,
            "grid_column": null,
            "grid_gap": null,
            "grid_row": null,
            "grid_template_areas": null,
            "grid_template_columns": null,
            "grid_template_rows": null,
            "height": null,
            "justify_content": null,
            "justify_items": null,
            "left": null,
            "margin": null,
            "max_height": null,
            "max_width": null,
            "min_height": null,
            "min_width": null,
            "object_fit": null,
            "object_position": null,
            "order": null,
            "overflow": null,
            "overflow_x": null,
            "overflow_y": null,
            "padding": null,
            "right": null,
            "top": null,
            "visibility": null,
            "width": null
          }
        },
        "135857db340145879a7066e77ee88c5b": {
          "model_module": "@jupyter-widgets/base",
          "model_name": "LayoutModel",
          "model_module_version": "1.2.0",
          "state": {
            "_model_module": "@jupyter-widgets/base",
            "_model_module_version": "1.2.0",
            "_model_name": "LayoutModel",
            "_view_count": null,
            "_view_module": "@jupyter-widgets/base",
            "_view_module_version": "1.2.0",
            "_view_name": "LayoutView",
            "align_content": null,
            "align_items": null,
            "align_self": null,
            "border": null,
            "bottom": null,
            "display": null,
            "flex": null,
            "flex_flow": null,
            "grid_area": null,
            "grid_auto_columns": null,
            "grid_auto_flow": null,
            "grid_auto_rows": null,
            "grid_column": null,
            "grid_gap": null,
            "grid_row": null,
            "grid_template_areas": null,
            "grid_template_columns": null,
            "grid_template_rows": null,
            "height": null,
            "justify_content": null,
            "justify_items": null,
            "left": null,
            "margin": null,
            "max_height": null,
            "max_width": null,
            "min_height": null,
            "min_width": null,
            "object_fit": null,
            "object_position": null,
            "order": null,
            "overflow": null,
            "overflow_x": null,
            "overflow_y": null,
            "padding": null,
            "right": null,
            "top": null,
            "visibility": null,
            "width": null
          }
        },
        "7d39d6fc647d4f1695767ffd18d20e10": {
          "model_module": "@jupyter-widgets/controls",
          "model_name": "DescriptionStyleModel",
          "model_module_version": "1.5.0",
          "state": {
            "_model_module": "@jupyter-widgets/controls",
            "_model_module_version": "1.5.0",
            "_model_name": "DescriptionStyleModel",
            "_view_count": null,
            "_view_module": "@jupyter-widgets/base",
            "_view_module_version": "1.2.0",
            "_view_name": "StyleView",
            "description_width": ""
          }
        },
        "69af573e507e463789aac672790ed395": {
          "model_module": "@jupyter-widgets/base",
          "model_name": "LayoutModel",
          "model_module_version": "1.2.0",
          "state": {
            "_model_module": "@jupyter-widgets/base",
            "_model_module_version": "1.2.0",
            "_model_name": "LayoutModel",
            "_view_count": null,
            "_view_module": "@jupyter-widgets/base",
            "_view_module_version": "1.2.0",
            "_view_name": "LayoutView",
            "align_content": null,
            "align_items": null,
            "align_self": null,
            "border": null,
            "bottom": null,
            "display": null,
            "flex": null,
            "flex_flow": null,
            "grid_area": null,
            "grid_auto_columns": null,
            "grid_auto_flow": null,
            "grid_auto_rows": null,
            "grid_column": null,
            "grid_gap": null,
            "grid_row": null,
            "grid_template_areas": null,
            "grid_template_columns": null,
            "grid_template_rows": null,
            "height": null,
            "justify_content": null,
            "justify_items": null,
            "left": null,
            "margin": null,
            "max_height": null,
            "max_width": null,
            "min_height": null,
            "min_width": null,
            "object_fit": null,
            "object_position": null,
            "order": null,
            "overflow": null,
            "overflow_x": null,
            "overflow_y": null,
            "padding": null,
            "right": null,
            "top": null,
            "visibility": null,
            "width": null
          }
        },
        "7c89311760fe4097b19d45cc90571c94": {
          "model_module": "@jupyter-widgets/controls",
          "model_name": "ProgressStyleModel",
          "model_module_version": "1.5.0",
          "state": {
            "_model_module": "@jupyter-widgets/controls",
            "_model_module_version": "1.5.0",
            "_model_name": "ProgressStyleModel",
            "_view_count": null,
            "_view_module": "@jupyter-widgets/base",
            "_view_module_version": "1.2.0",
            "_view_name": "StyleView",
            "bar_color": null,
            "description_width": ""
          }
        },
        "fa4375d7eb51478fbe050c3cdbe8ede3": {
          "model_module": "@jupyter-widgets/base",
          "model_name": "LayoutModel",
          "model_module_version": "1.2.0",
          "state": {
            "_model_module": "@jupyter-widgets/base",
            "_model_module_version": "1.2.0",
            "_model_name": "LayoutModel",
            "_view_count": null,
            "_view_module": "@jupyter-widgets/base",
            "_view_module_version": "1.2.0",
            "_view_name": "LayoutView",
            "align_content": null,
            "align_items": null,
            "align_self": null,
            "border": null,
            "bottom": null,
            "display": null,
            "flex": null,
            "flex_flow": null,
            "grid_area": null,
            "grid_auto_columns": null,
            "grid_auto_flow": null,
            "grid_auto_rows": null,
            "grid_column": null,
            "grid_gap": null,
            "grid_row": null,
            "grid_template_areas": null,
            "grid_template_columns": null,
            "grid_template_rows": null,
            "height": null,
            "justify_content": null,
            "justify_items": null,
            "left": null,
            "margin": null,
            "max_height": null,
            "max_width": null,
            "min_height": null,
            "min_width": null,
            "object_fit": null,
            "object_position": null,
            "order": null,
            "overflow": null,
            "overflow_x": null,
            "overflow_y": null,
            "padding": null,
            "right": null,
            "top": null,
            "visibility": null,
            "width": null
          }
        },
        "6bcbaeeee44344a0993bbba1cdbe29a3": {
          "model_module": "@jupyter-widgets/controls",
          "model_name": "DescriptionStyleModel",
          "model_module_version": "1.5.0",
          "state": {
            "_model_module": "@jupyter-widgets/controls",
            "_model_module_version": "1.5.0",
            "_model_name": "DescriptionStyleModel",
            "_view_count": null,
            "_view_module": "@jupyter-widgets/base",
            "_view_module_version": "1.2.0",
            "_view_name": "StyleView",
            "description_width": ""
          }
        }
      }
    }
  },
  "nbformat": 4,
  "nbformat_minor": 5
}